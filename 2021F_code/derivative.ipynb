{
 "cells": [
  {
   "cell_type": "code",
   "execution_count": 1,
   "metadata": {},
   "outputs": [],
   "source": [
    "import sympy as sym\n",
    "import numpy as np"
   ]
  },
  {
   "cell_type": "code",
   "execution_count": 2,
   "metadata": {},
   "outputs": [],
   "source": [
    "x = sym.Symbol('x')"
   ]
  },
  {
   "cell_type": "code",
   "execution_count": 3,
   "metadata": {},
   "outputs": [],
   "source": [
    "def f(x):\n",
    "    return np.exp(-x**2/2)/ (np.sqrt(2*np.pi))"
   ]
  },
  {
   "cell_type": "code",
   "execution_count": 4,
   "metadata": {},
   "outputs": [
    {
     "data": {
      "text/latex": [
       "$\\displaystyle \\frac{\\sqrt{2} e^{- \\frac{x^{2}}{2}}}{2 \\sqrt{\\pi}}$"
      ],
      "text/plain": [
       "sqrt(2)*exp(-x**2/2)/(2*sqrt(pi))"
      ]
     },
     "execution_count": 4,
     "metadata": {},
     "output_type": "execute_result"
    }
   ],
   "source": [
    "function = sym.exp(-x**2/2)/ (sym.sqrt(2*sym.pi))\n",
    "function"
   ]
  },
  {
   "cell_type": "code",
   "execution_count": 5,
   "metadata": {},
   "outputs": [
    {
     "data": {
      "text/latex": [
       "$\\displaystyle - \\frac{\\sqrt{2} x e^{- \\frac{x^{2}}{2}}}{2 \\sqrt{\\pi}}$"
      ],
      "text/plain": [
       "-sqrt(2)*x*exp(-x**2/2)/(2*sqrt(pi))"
      ]
     },
     "execution_count": 5,
     "metadata": {},
     "output_type": "execute_result"
    }
   ],
   "source": [
    "function.diff(x)"
   ]
  },
  {
   "cell_type": "code",
   "execution_count": 6,
   "metadata": {},
   "outputs": [],
   "source": [
    "import numpy as np\n",
    "from scipy.optimize import fmin\n",
    "import math"
   ]
  },
  {
   "cell_type": "code",
   "execution_count": 7,
   "metadata": {},
   "outputs": [],
   "source": [
    "def f(x):\n",
    "    return (9381*math.exp(-x**2/2)*[math.sqrt(2)*math.pi*x*math.exp(x**2/2)*math.erf(x/math.sqrt(2))+(math.sqrt(2)*math.pi*x-2*math.sqrt(math.pi))*math.exp(x**2/2)+2*math.sqrt(math.pi)])/(390625*(2**9.5)*math.pi)+9.816*(10**5)*x - (238500*math.exp(-x**2/2-1/2)*[math.sqrt(math.e)*(math.pi*x*math.exp(x**2/2)*math.erf(x/math.sqrt(2))+(math.pi*x-math.pi*math.erf(1/math.sqrt(2))-math.pi)*math.exp(x**2/2))+math.sqrt(math.pi)*(math.sqrt(2)*math.sqrt(math.e)-math.sqrt(2)*math.exp(x**2/2))])/math.pi-8.306*10**13+8.306*(10**13)*x"
   ]
  },
  {
   "cell_type": "code",
   "execution_count": 8,
   "metadata": {},
   "outputs": [
    {
     "data": {
      "text/latex": [
       "$\\displaystyle 981600.0 x + \\frac{3.3166843571555 \\cdot 10^{-5} \\left(\\sqrt{2} \\pi x e^{\\frac{x^{2}}{2}} \\operatorname{erf}{\\left(\\frac{\\sqrt{2} x}{2} \\right)} + \\left(\\sqrt{2} \\pi x - 2 \\sqrt{\\pi}\\right) e^{\\frac{x^{2}}{2}} + 2 \\sqrt{\\pi}\\right) e^{- \\frac{x^{2}}{2}}}{\\pi}$"
      ],
      "text/plain": [
       "981600.0*x + 3.3166843571555e-5*(sqrt(2)*pi*x*exp(x**2/2)*erf(sqrt(2)*x/2) + (sqrt(2)*pi*x - 2*sqrt(pi))*exp(x**2/2) + 2*sqrt(pi))*exp(-x**2/2)/pi"
      ]
     },
     "execution_count": 8,
     "metadata": {},
     "output_type": "execute_result"
    }
   ],
   "source": [
    "function = (9381*sym.exp(-x**2/2)   *  (sym.sqrt(2)*sym.pi*x*sym.exp(x**2/2)*sym.erf(x/sym.sqrt(2))  +  (sym.sqrt(2)*sym.pi*x-2*sym.sqrt(sym.pi))*sym.exp(x**2/2)+2*sym.sqrt(sym.pi))) /  (390625*(2**9.5)*sym.pi) + 9.816*(10**5)*x \n",
    "function"
   ]
  },
  {
   "cell_type": "code",
   "execution_count": 9,
   "metadata": {},
   "outputs": [
    {
     "data": {
      "text/latex": [
       "$\\displaystyle 83060000000000.0 x + 0.318309886183791 \\sqrt{\\pi} \\left(- \\sqrt{2} e^{\\frac{x^{2}}{2}} + 1.64872127070013 \\sqrt{2}\\right) + 238500.0 \\left(\\pi x e^{\\frac{x^{2}}{2}} \\operatorname{erf}{\\left(\\frac{\\sqrt{2} x}{2} \\right)} + \\left(\\pi x - \\pi - \\pi \\operatorname{erf}{\\left(\\frac{\\sqrt{2}}{2} \\right)}\\right) e^{\\frac{x^{2}}{2}}\\right) e^{- \\frac{x^{2}}{2}} - 83060000000000.0$"
      ],
      "text/plain": [
       "83060000000000.0*x + 0.318309886183791*sqrt(pi)*(-sqrt(2)*exp(x**2/2) + 1.64872127070013*sqrt(2)) + 238500.0*(pi*x*exp(x**2/2)*erf(sqrt(2)*x/2) + (pi*x - pi - pi*erf(sqrt(2)/2))*exp(x**2/2))*exp(-x**2/2) - 83060000000000.0"
      ]
     },
     "execution_count": 9,
     "metadata": {},
     "output_type": "execute_result"
    }
   ],
   "source": [
    "function2 = 238500*sym.exp(-x**2/2-1/2)   *   (sym.sqrt(math.e))*(sym.pi*x*sym.exp(x**2/2)*sym.erf(x/sym.sqrt(2))+(sym.pi*x-sym.pi*sym.erf(1/sym.sqrt(2))-sym.pi)*sym.exp(x**2/2))+sym.sqrt(sym.pi)*(sym.sqrt(2)*sym.sqrt(math.e)-sym.sqrt(2)*sym.exp(x**2/2))/math.pi-8.306*10**13+8.306*(10**13)*x\n",
    "function2"
   ]
  },
  {
   "cell_type": "code",
   "execution_count": null,
   "metadata": {},
   "outputs": [],
   "source": []
  }
 ],
 "metadata": {
  "kernelspec": {
   "display_name": "Python 3",
   "language": "python",
   "name": "python3"
  },
  "language_info": {
   "codemirror_mode": {
    "name": "ipython",
    "version": 3
   },
   "file_extension": ".py",
   "mimetype": "text/x-python",
   "name": "python",
   "nbconvert_exporter": "python",
   "pygments_lexer": "ipython3",
   "version": "3.8.3"
  }
 },
 "nbformat": 4,
 "nbformat_minor": 4
}
