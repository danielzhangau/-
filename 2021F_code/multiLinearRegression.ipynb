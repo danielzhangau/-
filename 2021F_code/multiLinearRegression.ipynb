{
 "cells": [
  {
   "cell_type": "markdown",
   "metadata": {},
   "source": [
    "### 多元线性回归"
   ]
  },
  {
   "cell_type": "code",
   "execution_count": 1,
   "metadata": {},
   "outputs": [],
   "source": [
    "import numpy as np \n",
    "import pandas as pd\n",
    "import statsmodels.formula.api as smf\n",
    "import mpl_toolkits.mplot3d\n",
    "from matplotlib import pyplot as plt\n",
    "from matplotlib import cm\n",
    "%matplotlib inline"
   ]
  },
  {
   "cell_type": "markdown",
   "metadata": {},
   "source": [
    "### Agriculture"
   ]
  },
  {
   "cell_type": "code",
   "execution_count": 2,
   "metadata": {},
   "outputs": [
    {
     "data": {
      "text/html": [
       "<div>\n",
       "<style scoped>\n",
       "    .dataframe tbody tr th:only-of-type {\n",
       "        vertical-align: middle;\n",
       "    }\n",
       "\n",
       "    .dataframe tbody tr th {\n",
       "        vertical-align: top;\n",
       "    }\n",
       "\n",
       "    .dataframe thead th {\n",
       "        text-align: right;\n",
       "    }\n",
       "</style>\n",
       "<table border=\"1\" class=\"dataframe\">\n",
       "  <thead>\n",
       "    <tr style=\"text-align: right;\">\n",
       "      <th></th>\n",
       "      <th>L</th>\n",
       "      <th>K</th>\n",
       "      <th>Y</th>\n",
       "    </tr>\n",
       "  </thead>\n",
       "  <tbody>\n",
       "    <tr>\n",
       "      <th>0</th>\n",
       "      <td>742700.0</td>\n",
       "      <td>3049.6</td>\n",
       "      <td>7.911059e+11</td>\n",
       "    </tr>\n",
       "    <tr>\n",
       "      <th>1</th>\n",
       "      <td>784890.0</td>\n",
       "      <td>2897.1</td>\n",
       "      <td>9.257648e+11</td>\n",
       "    </tr>\n",
       "    <tr>\n",
       "      <th>2</th>\n",
       "      <td>774525.6</td>\n",
       "      <td>2752.3</td>\n",
       "      <td>8.815037e+11</td>\n",
       "    </tr>\n",
       "    <tr>\n",
       "      <th>3</th>\n",
       "      <td>758640.0</td>\n",
       "      <td>2614.7</td>\n",
       "      <td>9.409391e+11</td>\n",
       "    </tr>\n",
       "    <tr>\n",
       "      <th>4</th>\n",
       "      <td>775348.3</td>\n",
       "      <td>2483.9</td>\n",
       "      <td>9.718203e+11</td>\n",
       "    </tr>\n",
       "  </tbody>\n",
       "</table>\n",
       "</div>"
      ],
      "text/plain": [
       "          L       K             Y\n",
       "0  742700.0  3049.6  7.911059e+11\n",
       "1  784890.0  2897.1  9.257648e+11\n",
       "2  774525.6  2752.3  8.815037e+11\n",
       "3  758640.0  2614.7  9.409391e+11\n",
       "4  775348.3  2483.9  9.718203e+11"
      ]
     },
     "execution_count": 2,
     "metadata": {},
     "output_type": "execute_result"
    }
   ],
   "source": [
    "df=pd.read_excel(r'C:\\Users\\Daniel Zhang\\Desktop\\regression_data.xlsx')\n",
    "df.head()"
   ]
  },
  {
   "cell_type": "code",
   "execution_count": 3,
   "metadata": {},
   "outputs": [
    {
     "data": {
      "text/html": [
       "<div>\n",
       "<style scoped>\n",
       "    .dataframe tbody tr th:only-of-type {\n",
       "        vertical-align: middle;\n",
       "    }\n",
       "\n",
       "    .dataframe tbody tr th {\n",
       "        vertical-align: top;\n",
       "    }\n",
       "\n",
       "    .dataframe thead th {\n",
       "        text-align: right;\n",
       "    }\n",
       "</style>\n",
       "<table border=\"1\" class=\"dataframe\">\n",
       "  <thead>\n",
       "    <tr style=\"text-align: right;\">\n",
       "      <th></th>\n",
       "      <th>L</th>\n",
       "      <th>K</th>\n",
       "      <th>Y</th>\n",
       "    </tr>\n",
       "  </thead>\n",
       "  <tbody>\n",
       "    <tr>\n",
       "      <th>count</th>\n",
       "      <td>10.000000</td>\n",
       "      <td>10.000000</td>\n",
       "      <td>1.000000e+01</td>\n",
       "    </tr>\n",
       "    <tr>\n",
       "      <th>mean</th>\n",
       "      <td>781650.120000</td>\n",
       "      <td>2447.380000</td>\n",
       "      <td>9.553151e+11</td>\n",
       "    </tr>\n",
       "    <tr>\n",
       "      <th>std</th>\n",
       "      <td>20814.671064</td>\n",
       "      <td>379.202657</td>\n",
       "      <td>9.031236e+10</td>\n",
       "    </tr>\n",
       "    <tr>\n",
       "      <th>min</th>\n",
       "      <td>742700.000000</td>\n",
       "      <td>1922.000000</td>\n",
       "      <td>7.911059e+11</td>\n",
       "    </tr>\n",
       "    <tr>\n",
       "      <th>25%</th>\n",
       "      <td>774653.150000</td>\n",
       "      <td>2157.625000</td>\n",
       "      <td>8.973403e+11</td>\n",
       "    </tr>\n",
       "    <tr>\n",
       "      <th>50%</th>\n",
       "      <td>780119.150000</td>\n",
       "      <td>2421.800000</td>\n",
       "      <td>9.563797e+11</td>\n",
       "    </tr>\n",
       "    <tr>\n",
       "      <th>75%</th>\n",
       "      <td>799352.325000</td>\n",
       "      <td>2717.900000</td>\n",
       "      <td>9.993688e+11</td>\n",
       "    </tr>\n",
       "    <tr>\n",
       "      <th>max</th>\n",
       "      <td>808022.400000</td>\n",
       "      <td>3049.600000</td>\n",
       "      <td>1.102639e+12</td>\n",
       "    </tr>\n",
       "  </tbody>\n",
       "</table>\n",
       "</div>"
      ],
      "text/plain": [
       "                   L            K             Y\n",
       "count      10.000000    10.000000  1.000000e+01\n",
       "mean   781650.120000  2447.380000  9.553151e+11\n",
       "std     20814.671064   379.202657  9.031236e+10\n",
       "min    742700.000000  1922.000000  7.911059e+11\n",
       "25%    774653.150000  2157.625000  8.973403e+11\n",
       "50%    780119.150000  2421.800000  9.563797e+11\n",
       "75%    799352.325000  2717.900000  9.993688e+11\n",
       "max    808022.400000  3049.600000  1.102639e+12"
      ]
     },
     "execution_count": 3,
     "metadata": {},
     "output_type": "execute_result"
    }
   ],
   "source": [
    "df.describe()"
   ]
  },
  {
   "cell_type": "code",
   "execution_count": 4,
   "metadata": {},
   "outputs": [],
   "source": [
    "results = smf.ols('np.log(Y) ~ np.log(L) + np.log(K)', data=df).fit() # regression formula"
   ]
  },
  {
   "cell_type": "code",
   "execution_count": 5,
   "metadata": {},
   "outputs": [
    {
     "name": "stdout",
     "output_type": "stream",
     "text": [
      "                            OLS Regression Results                            \n",
      "==============================================================================\n",
      "Dep. Variable:              np.log(Y)   R-squared:                       0.713\n",
      "Model:                            OLS   Adj. R-squared:                  0.630\n",
      "Method:                 Least Squares   F-statistic:                     8.675\n",
      "Date:                Sun, 07 Feb 2021   Prob (F-statistic):             0.0127\n",
      "Time:                        11:43:19   Log-Likelihood:                 16.012\n",
      "No. Observations:                  10   AIC:                            -26.02\n",
      "Df Residuals:                       7   BIC:                            -25.12\n",
      "Df Model:                           2                                         \n",
      "Covariance Type:            nonrobust                                         \n",
      "==============================================================================\n",
      "                 coef    std err          t      P>|t|      [0.025      0.975]\n",
      "------------------------------------------------------------------------------\n",
      "Intercept      8.6621     18.431      0.470      0.653     -34.920      52.244\n",
      "np.log(L)      1.5545      1.255      1.239      0.255      -1.413       4.522\n",
      "np.log(K)     -0.2790      0.216     -1.289      0.238      -0.791       0.233\n",
      "==============================================================================\n",
      "Omnibus:                        0.677   Durbin-Watson:                   2.055\n",
      "Prob(Omnibus):                  0.713   Jarque-Bera (JB):                0.629\n",
      "Skew:                           0.412   Prob(JB):                        0.730\n",
      "Kurtosis:                       2.090   Cond. No.                     1.57e+04\n",
      "==============================================================================\n",
      "\n",
      "Warnings:\n",
      "[1] Standard Errors assume that the covariance matrix of the errors is correctly specified.\n",
      "[2] The condition number is large, 1.57e+04. This might indicate that there are\n",
      "strong multicollinearity or other numerical problems.\n"
     ]
    },
    {
     "name": "stderr",
     "output_type": "stream",
     "text": [
      "C:\\Users\\Daniel Zhang\\AppData\\Roaming\\Python\\Python38\\site-packages\\scipy\\stats\\stats.py:1534: UserWarning: kurtosistest only valid for n>=20 ... continuing anyway, n=10\n",
      "  warnings.warn(\"kurtosistest only valid for n>=20 ... continuing \"\n"
     ]
    }
   ],
   "source": [
    "print(results.summary())"
   ]
  },
  {
   "cell_type": "code",
   "execution_count": 6,
   "metadata": {},
   "outputs": [
    {
     "data": {
      "text/plain": [
       "array([ 8.66208725,  1.55454131, -0.27903188])"
      ]
     },
     "execution_count": 6,
     "metadata": {},
     "output_type": "execute_result"
    }
   ],
   "source": [
    "results._results.params # coeffs"
   ]
  },
  {
   "cell_type": "markdown",
   "metadata": {},
   "source": [
    "fomula: Y = 1.55454131*np.log(L) - 0.27903188*np.log(K) + 8.66208725"
   ]
  },
  {
   "cell_type": "markdown",
   "metadata": {},
   "source": [
    "### Industrial"
   ]
  },
  {
   "cell_type": "code",
   "execution_count": 21,
   "metadata": {},
   "outputs": [
    {
     "data": {
      "text/html": [
       "<div>\n",
       "<style scoped>\n",
       "    .dataframe tbody tr th:only-of-type {\n",
       "        vertical-align: middle;\n",
       "    }\n",
       "\n",
       "    .dataframe tbody tr th {\n",
       "        vertical-align: top;\n",
       "    }\n",
       "\n",
       "    .dataframe thead th {\n",
       "        text-align: right;\n",
       "    }\n",
       "</style>\n",
       "<table border=\"1\" class=\"dataframe\">\n",
       "  <thead>\n",
       "    <tr style=\"text-align: right;\">\n",
       "      <th></th>\n",
       "      <th>L</th>\n",
       "      <th>K</th>\n",
       "      <th>Y</th>\n",
       "    </tr>\n",
       "  </thead>\n",
       "  <tbody>\n",
       "    <tr>\n",
       "      <th>0</th>\n",
       "      <td>1607200.0</td>\n",
       "      <td>3049.6</td>\n",
       "      <td>7.801791e+12</td>\n",
       "    </tr>\n",
       "    <tr>\n",
       "      <th>1</th>\n",
       "      <td>1788570.0</td>\n",
       "      <td>2897.1</td>\n",
       "      <td>8.753144e+12</td>\n",
       "    </tr>\n",
       "    <tr>\n",
       "      <th>2</th>\n",
       "      <td>1849208.0</td>\n",
       "      <td>2752.3</td>\n",
       "      <td>8.692160e+12</td>\n",
       "    </tr>\n",
       "    <tr>\n",
       "      <th>3</th>\n",
       "      <td>1910400.0</td>\n",
       "      <td>2614.7</td>\n",
       "      <td>8.682808e+12</td>\n",
       "    </tr>\n",
       "    <tr>\n",
       "      <th>4</th>\n",
       "      <td>1933227.0</td>\n",
       "      <td>2483.9</td>\n",
       "      <td>8.087212e+12</td>\n",
       "    </tr>\n",
       "  </tbody>\n",
       "</table>\n",
       "</div>"
      ],
      "text/plain": [
       "           L       K             Y\n",
       "0  1607200.0  3049.6  7.801791e+12\n",
       "1  1788570.0  2897.1  8.753144e+12\n",
       "2  1849208.0  2752.3  8.692160e+12\n",
       "3  1910400.0  2614.7  8.682808e+12\n",
       "4  1933227.0  2483.9  8.087212e+12"
      ]
     },
     "execution_count": 21,
     "metadata": {},
     "output_type": "execute_result"
    }
   ],
   "source": [
    "df2=pd.read_excel(r'C:\\Users\\Daniel Zhang\\Desktop\\regression_data_mul8.xlsx')\n",
    "df2.head()"
   ]
  },
  {
   "cell_type": "code",
   "execution_count": 22,
   "metadata": {},
   "outputs": [
    {
     "data": {
      "text/html": [
       "<div>\n",
       "<style scoped>\n",
       "    .dataframe tbody tr th:only-of-type {\n",
       "        vertical-align: middle;\n",
       "    }\n",
       "\n",
       "    .dataframe tbody tr th {\n",
       "        vertical-align: top;\n",
       "    }\n",
       "\n",
       "    .dataframe thead th {\n",
       "        text-align: right;\n",
       "    }\n",
       "</style>\n",
       "<table border=\"1\" class=\"dataframe\">\n",
       "  <thead>\n",
       "    <tr style=\"text-align: right;\">\n",
       "      <th></th>\n",
       "      <th>L</th>\n",
       "      <th>K</th>\n",
       "      <th>Y</th>\n",
       "    </tr>\n",
       "  </thead>\n",
       "  <tbody>\n",
       "    <tr>\n",
       "      <th>count</th>\n",
       "      <td>1.000000e+01</td>\n",
       "      <td>10.000000</td>\n",
       "      <td>1.000000e+01</td>\n",
       "    </tr>\n",
       "    <tr>\n",
       "      <th>mean</th>\n",
       "      <td>1.882991e+06</td>\n",
       "      <td>2447.380000</td>\n",
       "      <td>8.179619e+12</td>\n",
       "    </tr>\n",
       "    <tr>\n",
       "      <th>std</th>\n",
       "      <td>1.115286e+05</td>\n",
       "      <td>379.202657</td>\n",
       "      <td>5.942114e+11</td>\n",
       "    </tr>\n",
       "    <tr>\n",
       "      <th>min</th>\n",
       "      <td>1.607200e+06</td>\n",
       "      <td>1922.000000</td>\n",
       "      <td>7.235216e+12</td>\n",
       "    </tr>\n",
       "    <tr>\n",
       "      <th>25%</th>\n",
       "      <td>1.864506e+06</td>\n",
       "      <td>2157.625000</td>\n",
       "      <td>7.873146e+12</td>\n",
       "    </tr>\n",
       "    <tr>\n",
       "      <th>50%</th>\n",
       "      <td>1.928078e+06</td>\n",
       "      <td>2421.800000</td>\n",
       "      <td>8.218297e+12</td>\n",
       "    </tr>\n",
       "    <tr>\n",
       "      <th>75%</th>\n",
       "      <td>1.946052e+06</td>\n",
       "      <td>2717.900000</td>\n",
       "      <td>8.689822e+12</td>\n",
       "    </tr>\n",
       "    <tr>\n",
       "      <th>max</th>\n",
       "      <td>1.971350e+06</td>\n",
       "      <td>3049.600000</td>\n",
       "      <td>8.843350e+12</td>\n",
       "    </tr>\n",
       "  </tbody>\n",
       "</table>\n",
       "</div>"
      ],
      "text/plain": [
       "                  L            K             Y\n",
       "count  1.000000e+01    10.000000  1.000000e+01\n",
       "mean   1.882991e+06  2447.380000  8.179619e+12\n",
       "std    1.115286e+05   379.202657  5.942114e+11\n",
       "min    1.607200e+06  1922.000000  7.235216e+12\n",
       "25%    1.864506e+06  2157.625000  7.873146e+12\n",
       "50%    1.928078e+06  2421.800000  8.218297e+12\n",
       "75%    1.946052e+06  2717.900000  8.689822e+12\n",
       "max    1.971350e+06  3049.600000  8.843350e+12"
      ]
     },
     "execution_count": 22,
     "metadata": {},
     "output_type": "execute_result"
    }
   ],
   "source": [
    "df2.describe()"
   ]
  },
  {
   "cell_type": "code",
   "execution_count": 23,
   "metadata": {},
   "outputs": [],
   "source": [
    "results2 = smf.ols('np.log(Y) ~ np.log(L) + np.log(K)', data=df2).fit()"
   ]
  },
  {
   "cell_type": "code",
   "execution_count": 24,
   "metadata": {},
   "outputs": [
    {
     "name": "stderr",
     "output_type": "stream",
     "text": [
      "C:\\Users\\Daniel Zhang\\AppData\\Roaming\\Python\\Python38\\site-packages\\scipy\\stats\\stats.py:1534: UserWarning: kurtosistest only valid for n>=20 ... continuing anyway, n=10\n",
      "  warnings.warn(\"kurtosistest only valid for n>=20 ... continuing \"\n"
     ]
    },
    {
     "data": {
      "text/html": [
       "<table class=\"simpletable\">\n",
       "<caption>OLS Regression Results</caption>\n",
       "<tr>\n",
       "  <th>Dep. Variable:</th>        <td>np.log(Y)</td>    <th>  R-squared:         </th> <td>   0.027</td>\n",
       "</tr>\n",
       "<tr>\n",
       "  <th>Model:</th>                   <td>OLS</td>       <th>  Adj. R-squared:    </th> <td>  -0.251</td>\n",
       "</tr>\n",
       "<tr>\n",
       "  <th>Method:</th>             <td>Least Squares</td>  <th>  F-statistic:       </th> <td> 0.09847</td>\n",
       "</tr>\n",
       "<tr>\n",
       "  <th>Date:</th>             <td>Sun, 07 Feb 2021</td> <th>  Prob (F-statistic):</th>  <td> 0.907</td> \n",
       "</tr>\n",
       "<tr>\n",
       "  <th>Time:</th>                 <td>11:56:33</td>     <th>  Log-Likelihood:    </th> <td>  12.486</td>\n",
       "</tr>\n",
       "<tr>\n",
       "  <th>No. Observations:</th>      <td>    10</td>      <th>  AIC:               </th> <td>  -18.97</td>\n",
       "</tr>\n",
       "<tr>\n",
       "  <th>Df Residuals:</th>          <td>     7</td>      <th>  BIC:               </th> <td>  -18.06</td>\n",
       "</tr>\n",
       "<tr>\n",
       "  <th>Df Model:</th>              <td>     2</td>      <th>                     </th>     <td> </td>   \n",
       "</tr>\n",
       "<tr>\n",
       "  <th>Covariance Type:</th>      <td>nonrobust</td>    <th>                     </th>     <td> </td>   \n",
       "</tr>\n",
       "</table>\n",
       "<table class=\"simpletable\">\n",
       "<tr>\n",
       "      <td></td>         <th>coef</th>     <th>std err</th>      <th>t</th>      <th>P>|t|</th>  <th>[0.025</th>    <th>0.975]</th>  \n",
       "</tr>\n",
       "<tr>\n",
       "  <th>Intercept</th> <td>   24.5810</td> <td>   13.021</td> <td>    1.888</td> <td> 0.101</td> <td>   -6.209</td> <td>   55.371</td>\n",
       "</tr>\n",
       "<tr>\n",
       "  <th>np.log(L)</th> <td>    0.2832</td> <td>    0.762</td> <td>    0.372</td> <td> 0.721</td> <td>   -1.518</td> <td>    2.085</td>\n",
       "</tr>\n",
       "<tr>\n",
       "  <th>np.log(K)</th> <td>    0.1357</td> <td>    0.306</td> <td>    0.443</td> <td> 0.671</td> <td>   -0.588</td> <td>    0.860</td>\n",
       "</tr>\n",
       "</table>\n",
       "<table class=\"simpletable\">\n",
       "<tr>\n",
       "  <th>Omnibus:</th>       <td> 1.316</td> <th>  Durbin-Watson:     </th> <td>   1.041</td>\n",
       "</tr>\n",
       "<tr>\n",
       "  <th>Prob(Omnibus):</th> <td> 0.518</td> <th>  Jarque-Bera (JB):  </th> <td>   0.955</td>\n",
       "</tr>\n",
       "<tr>\n",
       "  <th>Skew:</th>          <td>-0.642</td> <th>  Prob(JB):          </th> <td>   0.620</td>\n",
       "</tr>\n",
       "<tr>\n",
       "  <th>Kurtosis:</th>      <td> 2.198</td> <th>  Cond. No.          </th> <td>8.18e+03</td>\n",
       "</tr>\n",
       "</table><br/><br/>Warnings:<br/>[1] Standard Errors assume that the covariance matrix of the errors is correctly specified.<br/>[2] The condition number is large, 8.18e+03. This might indicate that there are<br/>strong multicollinearity or other numerical problems."
      ],
      "text/plain": [
       "<class 'statsmodels.iolib.summary.Summary'>\n",
       "\"\"\"\n",
       "                            OLS Regression Results                            \n",
       "==============================================================================\n",
       "Dep. Variable:              np.log(Y)   R-squared:                       0.027\n",
       "Model:                            OLS   Adj. R-squared:                 -0.251\n",
       "Method:                 Least Squares   F-statistic:                   0.09847\n",
       "Date:                Sun, 07 Feb 2021   Prob (F-statistic):              0.907\n",
       "Time:                        11:56:33   Log-Likelihood:                 12.486\n",
       "No. Observations:                  10   AIC:                            -18.97\n",
       "Df Residuals:                       7   BIC:                            -18.06\n",
       "Df Model:                           2                                         \n",
       "Covariance Type:            nonrobust                                         \n",
       "==============================================================================\n",
       "                 coef    std err          t      P>|t|      [0.025      0.975]\n",
       "------------------------------------------------------------------------------\n",
       "Intercept     24.5810     13.021      1.888      0.101      -6.209      55.371\n",
       "np.log(L)      0.2832      0.762      0.372      0.721      -1.518       2.085\n",
       "np.log(K)      0.1357      0.306      0.443      0.671      -0.588       0.860\n",
       "==============================================================================\n",
       "Omnibus:                        1.316   Durbin-Watson:                   1.041\n",
       "Prob(Omnibus):                  0.518   Jarque-Bera (JB):                0.955\n",
       "Skew:                          -0.642   Prob(JB):                        0.620\n",
       "Kurtosis:                       2.198   Cond. No.                     8.18e+03\n",
       "==============================================================================\n",
       "\n",
       "Warnings:\n",
       "[1] Standard Errors assume that the covariance matrix of the errors is correctly specified.\n",
       "[2] The condition number is large, 8.18e+03. This might indicate that there are\n",
       "strong multicollinearity or other numerical problems.\n",
       "\"\"\""
      ]
     },
     "execution_count": 24,
     "metadata": {},
     "output_type": "execute_result"
    }
   ],
   "source": [
    "results2.summary()"
   ]
  },
  {
   "cell_type": "code",
   "execution_count": 19,
   "metadata": {},
   "outputs": [
    {
     "data": {
      "text/plain": [
       "array([24.11936034,  0.28321318,  0.1357415 ])"
      ]
     },
     "execution_count": 19,
     "metadata": {},
     "output_type": "execute_result"
    }
   ],
   "source": [
    "results2._results.params # coeffs"
   ]
  },
  {
   "cell_type": "markdown",
   "metadata": {},
   "source": [
    "fomula: Y = 0.28321318*np.log(L) + 0.1357415*np.log(K) + 24.29877746"
   ]
  },
  {
   "cell_type": "code",
   "execution_count": 20,
   "metadata": {},
   "outputs": [
    {
     "name": "stderr",
     "output_type": "stream",
     "text": [
      "<ipython-input-20-e9dfcc3b779c>:2: RuntimeWarning: divide by zero encountered in log\n",
      "  Y_agric = 10**(1.55454131*np.log(L) - 0.27903188*np.log(2500) + 8.66208725)\n",
      "<ipython-input-20-e9dfcc3b779c>:3: RuntimeWarning: divide by zero encountered in log\n",
      "  Y_indus = 10**(0.28321318*np.log(L) + 0.1357415*np.log(25000) + 24.29877746)\n"
     ]
    },
    {
     "data": {
      "image/png": "[encoded data removed]",
      "text/plain": [
       "<Figure size 432x288 with 1 Axes>"
      ]
     },
     "metadata": {
      "needs_background": "light"
     },
     "output_type": "display_data"
    }
   ],
   "source": [
    "L = np.arange(0, 100000, 10000)\n",
    "Y_agric = 10**(1.55454131*np.log(L) - 0.27903188*np.log(2500) + 8.66208725)\n",
    "Y_indus = 10**(0.28321318*np.log(L) + 0.1357415*np.log(25000) + 24.29877746)\n",
    "plt.plot(L, Y_agric, 'b.-')\n",
    "plt.plot(L, Y_indus, 'g^-')\n",
    "plt.xlabel('L') # set x axis name\n",
    "plt.ylabel('Y')\n",
    "plt.show() # show figure"
   ]
  }
 ],
 "metadata": {
  "kernelspec": {
   "display_name": "Python 3",
   "language": "python",
   "name": "python3"
  },
  "language_info": {
   "codemirror_mode": {
    "name": "ipython",
    "version": 3
   },
   "file_extension": ".py",
   "mimetype": "text/x-python",
   "name": "python",
   "nbconvert_exporter": "python",
   "pygments_lexer": "ipython3",
   "version": "3.8.3"
  }
 },
 "nbformat": 4,
 "nbformat_minor": 4
}
