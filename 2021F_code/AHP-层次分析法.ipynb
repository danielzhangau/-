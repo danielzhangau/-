{
 "cells": [
  {
   "cell_type": "code",
   "execution_count": null,
   "metadata": {},
   "outputs": [],
   "source": [
    "import numpy as np\n",
    "\n",
    "RI_dict = {1: 0, 2: 0, 3: 0.58, 4: 0.90, 5: 1.12, 6: 1.24, 7: 1.32, 8: 1.41, 9: 1.45}"
   ]
  },
  {
   "cell_type": "code",
   "execution_count": null,
   "metadata": {},
   "outputs": [],
   "source": [
    "# Matrix\n",
    "A_arr = [[1, 92.9/79.4, 92.9/65.8, 92.9/50.3, 92.9/37.7, 92.9/11.7, 92.9/5],\n",
    "        [79.4/92.9, 1, 79.4/65.8, 79.4/50.3, 79.4/37.7, 79.4/11.7, 79.4/5],\n",
    "        [65.8/92.9, 65.8/79.4, 1, 65.8/50.3, 65.8/37.7, 65.8/11.7, 65.8/5],\n",
    "        [50.3/92.9, 50.3/79.4, 50.3/65.8, 1, 50.3/37.7, 50.3/11.7, 50.3/5],\n",
    "        [37.7/92.9, 37.7/79.4, 37.7/65.8, 37.7/50.3, 1, 37.7/11.7, 37.7/5],\n",
    "        [11.7/92.9, 11.7/79.4, 11.7/65.8, 11.7/50.3, 11.7/37.7, 1, 11.7/5],\n",
    "        [5/92.9, 5/79.4, 5/65.8, 5/50.3, 5/37.7, 5/11.7, 1]]"
   ]
  },
  {
   "cell_type": "markdown",
   "metadata": {},
   "source": [
    "### function1:"
   ]
  },
  {
   "cell_type": "code",
   "execution_count": null,
   "metadata": {},
   "outputs": [],
   "source": [
    "def main():\n",
    "    # Matrix\n",
    "    A = np.array(A_arr)\n",
    "\n",
    "    a_sum0 = A.sum(axis=0)\n",
    "    B = A / a_sum0  \n",
    "    print('New Matrix:')\n",
    "    print(B)\n",
    "    b_sum = B.sum(axis=1)\n",
    "    print('New Matrix row sum: %s' % b_sum)\n",
    "\n",
    "    \n",
    "    W = b_sum.sum()\n",
    "    w_arr = []\n",
    "    for w in b_sum:\n",
    "        w_arr.append(w/W)\n",
    "\n",
    "    print('W: %s' % w_arr)\n",
    "    print('Weight sum: %s' % sum(w_arr))\n",
    "\n",
    "    AW = []\n",
    "    for a in A :\n",
    "        aa = a * w_arr\n",
    "        AW.append(aa.sum())\n",
    "\n",
    "    print('AW: %s' % AW)\n",
    "\n",
    "    result = np.array(AW) / np.array(w_arr)\n",
    "    print('AW/W: %s' % result)\n",
    "\n",
    "    row = result.shape[0]\n",
    "    Max = result.sum()/row\n",
    "    print('λMax: %s' % Max)\n",
    "\n",
    "    CI = (Max - row) / (row - 1)\n",
    "    print('CI: %s' % CI)\n",
    "    \n",
    "    CR = CI / RI_dict[row]\n",
    "    print('CR: %s' % CR)\n",
    "    \n",
    " \n",
    "if __name__ == '__main__':\n",
    "    main()"
   ]
  },
  {
   "cell_type": "markdown",
   "metadata": {},
   "source": [
    "### function2:"
   ]
  },
  {
   "cell_type": "code",
   "execution_count": null,
   "metadata": {},
   "outputs": [],
   "source": [
    "import numpy as np  # Import the required package and name it np\n",
    "def ConsisTest(X):  # The function receives a matrix like A above\n",
    "# Calculate weight\n",
    "  # Method 1: Arithmetic average method\n",
    "    ## step 1: normalize the judgment matrix according to the columns (each element is divided by the sum of its column)\n",
    "    X = np.array(X)  # Convert X to np.array object\n",
    "    sum_X = X.sum(axis=0)  # Calculate the sum of each column of X\n",
    "    (n,n) = X.shape  # X is a square matrix, the rows and columns are the same, so use an n to receive\n",
    "    sum_X = np.tile(sum_X,(n,1))  # Repeat n rows with the vector to form a new matrix\n",
    "    stand_X = X/sum_X  # Normalize X (each element in X divided by the sum of its column)\n",
    "    \n",
    "    ## Step 2: Sum each row of the normalized matrix\n",
    "    sum_row = stand_X.sum(axis=1)\n",
    "\n",
    "    ## Step 3: Divide each element in the vector obtained after addition by n to get the weight vector\n",
    "    print(\"The result of the arithmetic average method for weighting is：\")\n",
    "    print(sum_row/n)\n",
    "    \n",
    "  # Method 2: Eigenvalue method\n",
    "    ## Step 1: Find the maximum eigenvalue of matrix X and its corresponding eigenvector\n",
    "    V,E = np.linalg.eig(X)  # V is the eigenvalue, E is the eigenvector corresponding to the eigenvalue\n",
    "    max_value = np.max(V)  # Maximum eigenvalue\n",
    "    #print(\"The maximum eigenvalue is：\",max_value)\n",
    "    max_v_index = np.argmax(V)  # Returns the location of the largest eigenvalue\n",
    "    max_eiv = E[:,max_v_index]  # The eigenvector corresponding to the largest eigenvalue\n",
    "    \n",
    "    ## Step 2: Normalize the calculated feature vector to get the weight\n",
    "    stand_eiv = max_eiv/max_eiv.sum()\n",
    "    print(\"The result of eigenvalue method to calculate the weight is：\")\n",
    "    print(stand_eiv)\n",
    "    print(\"———————————————————————————————\")\n",
    "# Consistency check\n",
    "    ## Step 1: Calculate the consistency index CI\n",
    "    CI = (max_value-n)/(n-1)\n",
    "    ## Step 2: Find the corresponding average random consistency index RI\n",
    "    RI = np.array([15,0,0,0.52,0.89,1.12,1.26,1.36,1.41,1.46,1.49,1.52,1.54,1.56,1.58,1.59])\n",
    "    ## Step 3: Calculate the consistency ratio CR\n",
    "    CR = CI/RI[n]\n",
    "    if CR < 0.1:\n",
    "        print(\"CR=\",CR,\"，Less than 0.1, passed the consistency test\")\n",
    "    else:\n",
    "        print(\"CR=\",CR,\"，Greater than or equal to 0.1, failed the consistency test, please modify the judgment matrix\")\n",
    "    return None\n"
   ]
  },
  {
   "cell_type": "code",
   "execution_count": null,
   "metadata": {},
   "outputs": [],
   "source": [
    "ConsisTest(A_arr)"
   ]
  },
  {
   "cell_type": "code",
   "execution_count": null,
   "metadata": {},
   "outputs": [],
   "source": []
  }
 ],
 "metadata": {
  "kernelspec": {
   "display_name": "Python 3",
   "language": "python",
   "name": "python3"
  },
  "language_info": {
   "codemirror_mode": {
    "name": "ipython",
    "version": 3
   },
   "file_extension": ".py",
   "mimetype": "text/x-python",
   "name": "python",
   "nbconvert_exporter": "python",
   "pygments_lexer": "ipython3",
   "version": "3.8.3"
  }
 },
 "nbformat": 4,
 "nbformat_minor": 4
}
