{
 "cells": [
  {
   "cell_type": "code",
   "execution_count": 1,
   "metadata": {},
   "outputs": [],
   "source": [
    "import pandas as pd\n",
    "import statsmodels.api as sm\n",
    "import matplotlib.pyplot as plt"
   ]
  },
  {
   "cell_type": "code",
   "execution_count": 2,
   "metadata": {},
   "outputs": [],
   "source": [
    "datas = pd.read_excel(r'C:\\Users\\Daniel Zhang\\Desktop\\regression_agri.xlsx') # Read excel data, the location of the excel file is inside the quotation marks"
   ]
  },
  {
   "cell_type": "code",
   "execution_count": 3,
   "metadata": {},
   "outputs": [],
   "source": [
    "y = datas.iloc[:, 3] # The dependent variable is column 2 data\n",
    "x = datas.iloc[:, 2] # The independent variable is column 1 data"
   ]
  },
  {
   "cell_type": "code",
   "execution_count": 4,
   "metadata": {},
   "outputs": [
    {
     "name": "stdout",
     "output_type": "stream",
     "text": [
      "                            OLS Regression Results                            \n",
      "==============================================================================\n",
      "Dep. Variable:                   Y/42   R-squared:                       0.607\n",
      "Model:                            OLS   Adj. R-squared:                  0.551\n",
      "Method:                 Least Squares   F-statistic:                     10.82\n",
      "Date:                Tue, 09 Feb 2021   Prob (F-statistic):             0.0133\n",
      "Time:                        07:16:59   Log-Likelihood:                -79.163\n",
      "No. Observations:                   9   AIC:                             162.3\n",
      "Df Residuals:                       7   BIC:                             162.7\n",
      "Df Model:                           1                                         \n",
      "Covariance Type:            nonrobust                                         \n",
      "==============================================================================\n",
      "                 coef    std err          t      P>|t|      [0.025      0.975]\n",
      "------------------------------------------------------------------------------\n",
      "const       2.337e+04   6482.664      3.605      0.009    8042.261    3.87e+04\n",
      "L/42        9.381e-05   2.85e-05      3.289      0.013    2.64e-05       0.000\n",
      "==============================================================================\n",
      "Omnibus:                        0.321   Durbin-Watson:                   0.938\n",
      "Prob(Omnibus):                  0.852   Jarque-Bera (JB):                0.431\n",
      "Skew:                          -0.242   Prob(JB):                        0.806\n",
      "Kurtosis:                       2.043   Cond. No.                     2.44e+09\n",
      "==============================================================================\n",
      "\n",
      "Warnings:\n",
      "[1] Standard Errors assume that the covariance matrix of the errors is correctly specified.\n",
      "[2] The condition number is large, 2.44e+09. This might indicate that there are\n",
      "strong multicollinearity or other numerical problems.\n"
     ]
    },
    {
     "name": "stderr",
     "output_type": "stream",
     "text": [
      "C:\\Users\\Daniel Zhang\\AppData\\Roaming\\Python\\Python38\\site-packages\\scipy\\stats\\stats.py:1534: UserWarning: kurtosistest only valid for n>=20 ... continuing anyway, n=9\n",
      "  warnings.warn(\"kurtosistest only valid for n>=20 ... continuing \"\n"
     ]
    }
   ],
   "source": [
    "x = sm.add_constant(x) # If there is an intercept in the model, this step is necessary\n",
    "model = sm.OLS(y, x).fit() # Build and fit a least squares model\n",
    "print(model.summary()) # Output regression results"
   ]
  },
  {
   "cell_type": "markdown",
   "metadata": {},
   "source": [
    "Y = 9.381e-05*L + 9.816e+05"
   ]
  },
  {
   "cell_type": "code",
   "execution_count": 5,
   "metadata": {},
   "outputs": [
    {
     "data": {
      "image/png": "[encoded data removed]",
      "text/plain": [
       "<Figure size 432x288 with 1 Axes>"
      ]
     },
     "metadata": {
      "needs_background": "light"
     },
     "output_type": "display_data"
    }
   ],
   "source": [
    "# plot\n",
    "predicts = model.predict() # Predicted value of the model\n",
    "x = datas.iloc[:, 2] # The independent variable is column 1 data\n",
    "plt.scatter(x, y, label='actual') # scatter plot\n",
    "plt.plot(x, predicts, color = 'red', label='predicted')\n",
    "\n",
    "plt.xlabel('L')\n",
    "plt.ylabel('Y')\n",
    "\n",
    "plt.legend() # Show the legend, that is, each line corresponds to the content in the label\n",
    "plt.savefig('agri.png')\n",
    "plt.show() # show plot"
   ]
  },
  {
   "cell_type": "markdown",
   "metadata": {},
   "source": [
    "## industry"
   ]
  },
  {
   "cell_type": "code",
   "execution_count": 6,
   "metadata": {},
   "outputs": [
    {
     "data": {
      "text/html": [
       "<div>\n",
       "<style scoped>\n",
       "    .dataframe tbody tr th:only-of-type {\n",
       "        vertical-align: middle;\n",
       "    }\n",
       "\n",
       "    .dataframe tbody tr th {\n",
       "        vertical-align: top;\n",
       "    }\n",
       "\n",
       "    .dataframe thead th {\n",
       "        text-align: right;\n",
       "    }\n",
       "</style>\n",
       "<table border=\"1\" class=\"dataframe\">\n",
       "  <thead>\n",
       "    <tr style=\"text-align: right;\">\n",
       "      <th></th>\n",
       "      <th>L</th>\n",
       "      <th>Y</th>\n",
       "    </tr>\n",
       "  </thead>\n",
       "  <tbody>\n",
       "    <tr>\n",
       "      <th>count</th>\n",
       "      <td>9.000000e+00</td>\n",
       "      <td>9.000000e+00</td>\n",
       "    </tr>\n",
       "    <tr>\n",
       "      <th>mean</th>\n",
       "      <td>2.228580e+08</td>\n",
       "      <td>2.323951e+13</td>\n",
       "    </tr>\n",
       "    <tr>\n",
       "      <th>std</th>\n",
       "      <td>9.515094e+06</td>\n",
       "      <td>5.402295e+12</td>\n",
       "    </tr>\n",
       "    <tr>\n",
       "      <th>min</th>\n",
       "      <td>2.055340e+08</td>\n",
       "      <td>1.499566e+13</td>\n",
       "    </tr>\n",
       "    <tr>\n",
       "      <th>25%</th>\n",
       "      <td>2.184210e+08</td>\n",
       "      <td>1.916298e+13</td>\n",
       "    </tr>\n",
       "    <tr>\n",
       "      <th>50%</th>\n",
       "      <td>2.254390e+08</td>\n",
       "      <td>2.446433e+13</td>\n",
       "    </tr>\n",
       "    <tr>\n",
       "      <th>75%</th>\n",
       "      <td>2.309860e+08</td>\n",
       "      <td>2.775718e+13</td>\n",
       "    </tr>\n",
       "    <tr>\n",
       "      <th>max</th>\n",
       "      <td>2.324100e+08</td>\n",
       "      <td>2.965477e+13</td>\n",
       "    </tr>\n",
       "  </tbody>\n",
       "</table>\n",
       "</div>"
      ],
      "text/plain": [
       "                  L             Y\n",
       "count  9.000000e+00  9.000000e+00\n",
       "mean   2.228580e+08  2.323951e+13\n",
       "std    9.515094e+06  5.402295e+12\n",
       "min    2.055340e+08  1.499566e+13\n",
       "25%    2.184210e+08  1.916298e+13\n",
       "50%    2.254390e+08  2.446433e+13\n",
       "75%    2.309860e+08  2.775718e+13\n",
       "max    2.324100e+08  2.965477e+13"
      ]
     },
     "execution_count": 6,
     "metadata": {},
     "output_type": "execute_result"
    }
   ],
   "source": [
    "datas_2 = pd.read_excel(r'C:\\Users\\Daniel Zhang\\Desktop\\regression_indus.xlsx')\n",
    "datas_2.describe()"
   ]
  },
  {
   "cell_type": "code",
   "execution_count": 7,
   "metadata": {},
   "outputs": [],
   "source": [
    "y_2 = datas_2.iloc[:, 1]\n",
    "x_2 = datas_2.iloc[:, 0]"
   ]
  },
  {
   "cell_type": "code",
   "execution_count": 8,
   "metadata": {},
   "outputs": [
    {
     "name": "stdout",
     "output_type": "stream",
     "text": [
      "                            OLS Regression Results                            \n",
      "==============================================================================\n",
      "Dep. Variable:                      Y   R-squared:                       0.706\n",
      "Model:                            OLS   Adj. R-squared:                  0.664\n",
      "Method:                 Least Squares   F-statistic:                     16.80\n",
      "Date:                Tue, 09 Feb 2021   Prob (F-statistic):            0.00458\n",
      "Time:                        07:16:59   Log-Likelihood:                -270.59\n",
      "No. Observations:                   9   AIC:                             545.2\n",
      "Df Residuals:                       7   BIC:                             545.6\n",
      "Df Model:                           1                                         \n",
      "Covariance Type:            nonrobust                                         \n",
      "==============================================================================\n",
      "                 coef    std err          t      P>|t|      [0.025      0.975]\n",
      "------------------------------------------------------------------------------\n",
      "const      -8.306e+13    2.6e+13     -3.200      0.015   -1.44e+14   -2.17e+13\n",
      "L            4.77e+05   1.16e+05      4.098      0.005    2.02e+05    7.52e+05\n",
      "==============================================================================\n",
      "Omnibus:                        4.293   Durbin-Watson:                   0.408\n",
      "Prob(Omnibus):                  0.117   Jarque-Bera (JB):                1.682\n",
      "Skew:                           1.057   Prob(JB):                        0.431\n",
      "Kurtosis:                       3.112   Cond. No.                     5.55e+09\n",
      "==============================================================================\n",
      "\n",
      "Warnings:\n",
      "[1] Standard Errors assume that the covariance matrix of the errors is correctly specified.\n",
      "[2] The condition number is large, 5.55e+09. This might indicate that there are\n",
      "strong multicollinearity or other numerical problems.\n"
     ]
    },
    {
     "name": "stderr",
     "output_type": "stream",
     "text": [
      "C:\\Users\\Daniel Zhang\\AppData\\Roaming\\Python\\Python38\\site-packages\\scipy\\stats\\stats.py:1534: UserWarning: kurtosistest only valid for n>=20 ... continuing anyway, n=9\n",
      "  warnings.warn(\"kurtosistest only valid for n>=20 ... continuing \"\n"
     ]
    }
   ],
   "source": [
    "x_2 = sm.add_constant(x_2)\n",
    "model = sm.OLS(y_2, x_2).fit()\n",
    "print(model.summary())"
   ]
  },
  {
   "cell_type": "markdown",
   "metadata": {},
   "source": [
    "Y = 4.77e+05*L - 8.306e+13"
   ]
  },
  {
   "cell_type": "code",
   "execution_count": 9,
   "metadata": {},
   "outputs": [
    {
     "data": {
      "image/png": "[encoded data removed]",
      "text/plain": [
       "<Figure size 432x288 with 1 Axes>"
      ]
     },
     "metadata": {
      "needs_background": "light"
     },
     "output_type": "display_data"
    }
   ],
   "source": [
    "# plot\n",
    "predicts_2 = model.predict() \n",
    "x_2 = datas_2.iloc[:, 0]\n",
    "plt.scatter(x_2, y_2, label='actual')\n",
    "plt.plot(x_2, predicts_2, color = 'red', label='predicted')\n",
    "\n",
    "plt.xlabel('L')\n",
    "plt.ylabel('Y')\n",
    "\n",
    "plt.legend() \n",
    "plt.show() "
   ]
  },
  {
   "cell_type": "code",
   "execution_count": 10,
   "metadata": {},
   "outputs": [
    {
     "data": {
      "image/png": "[encoded data removed]",
      "text/plain": [
       "<Figure size 432x288 with 1 Axes>"
      ]
     },
     "metadata": {
      "needs_background": "light"
     },
     "output_type": "display_data"
    }
   ],
   "source": [
    "plt.scatter(x, y, label='agriculture_actual')\n",
    "plt.plot(x, predicts, color = 'red', label='agriculture_predited')\n",
    "plt.scatter(x_2, y_2, label='industrial_actual')\n",
    "plt.plot(x_2, predicts_2, color = 'green', label='industrial_predicted')\n",
    "\n",
    "plt.xlabel('L')\n",
    "plt.ylabel('Y')\n",
    "\n",
    "plt.legend()\n",
    "plt.show() "
   ]
  },
  {
   "cell_type": "markdown",
   "metadata": {},
   "source": [
    "### normalize the data in order to plot two lines in one figure"
   ]
  },
  {
   "cell_type": "code",
   "execution_count": 11,
   "metadata": {},
   "outputs": [
    {
     "name": "stdout",
     "output_type": "stream",
     "text": [
      "                            OLS Regression Results                            \n",
      "==============================================================================\n",
      "Dep. Variable:                   Y/42   R-squared:                       0.607\n",
      "Model:                            OLS   Adj. R-squared:                  0.551\n",
      "Method:                 Least Squares   F-statistic:                     10.82\n",
      "Date:                Tue, 09 Feb 2021   Prob (F-statistic):             0.0133\n",
      "Time:                        07:17:00   Log-Likelihood:                 2.0613\n",
      "No. Observations:                   9   AIC:                           -0.1226\n",
      "Df Residuals:                       7   BIC:                            0.2718\n",
      "Df Model:                           1                                         \n",
      "Covariance Type:            nonrobust                                         \n",
      "==============================================================================\n",
      "                 coef    std err          t      P>|t|      [0.025      0.975]\n",
      "------------------------------------------------------------------------------\n",
      "const          0.3340      0.149      2.239      0.060      -0.019       0.687\n",
      "L/42           0.8376      0.255      3.289      0.013       0.235       1.440\n",
      "==============================================================================\n",
      "Omnibus:                        0.321   Durbin-Watson:                   0.938\n",
      "Prob(Omnibus):                  0.852   Jarque-Bera (JB):                0.431\n",
      "Skew:                          -0.242   Prob(JB):                        0.806\n",
      "Kurtosis:                       2.043   Cond. No.                         4.48\n",
      "==============================================================================\n",
      "\n",
      "Warnings:\n",
      "[1] Standard Errors assume that the covariance matrix of the errors is correctly specified.\n"
     ]
    },
    {
     "name": "stderr",
     "output_type": "stream",
     "text": [
      "C:\\Users\\Daniel Zhang\\AppData\\Roaming\\Python\\Python38\\site-packages\\scipy\\stats\\stats.py:1534: UserWarning: kurtosistest only valid for n>=20 ... continuing anyway, n=9\n",
      "  warnings.warn(\"kurtosistest only valid for n>=20 ... continuing \"\n"
     ]
    }
   ],
   "source": [
    "from sklearn.preprocessing import MinMaxScaler\n",
    "scaler = MinMaxScaler()\n",
    "scaler.fit(datas)\n",
    "scaled_features = scaler.transform(datas)\n",
    "df_MinMax = pd.DataFrame(data=scaled_features, columns=[\"L\",\"Y\",\"L/42\", \"Y/42\"])\n",
    "\n",
    "y = df_MinMax.iloc[:, 3]\n",
    "x = df_MinMax.iloc[:, 2]\n",
    "\n",
    "x = sm.add_constant(x)\n",
    "model = sm.OLS(y, x).fit()\n",
    "print(model.summary())\n",
    "\n",
    "predicts = model.predict()\n",
    "x = df_MinMax.iloc[:, 2]"
   ]
  },
  {
   "cell_type": "code",
   "execution_count": 12,
   "metadata": {},
   "outputs": [
    {
     "name": "stdout",
     "output_type": "stream",
     "text": [
      "                            OLS Regression Results                            \n",
      "==============================================================================\n",
      "Dep. Variable:                      Y   R-squared:                       0.706\n",
      "Model:                            OLS   Adj. R-squared:                  0.664\n",
      "Method:                 Least Squares   F-statistic:                     16.80\n",
      "Date:                Tue, 09 Feb 2021   Prob (F-statistic):            0.00458\n",
      "Time:                        07:17:00   Log-Likelihood:                 2.2498\n",
      "No. Observations:                   9   AIC:                           -0.4996\n",
      "Df Residuals:                       7   BIC:                           -0.1052\n",
      "Df Model:                           1                                         \n",
      "Covariance Type:            nonrobust                                         \n",
      "==============================================================================\n",
      "                 coef    std err          t      P>|t|      [0.025      0.975]\n",
      "------------------------------------------------------------------------------\n",
      "const         -0.0013      0.155     -0.009      0.993      -0.368       0.365\n",
      "L              0.8745      0.213      4.098      0.005       0.370       1.379\n",
      "==============================================================================\n",
      "Omnibus:                        4.293   Durbin-Watson:                   0.408\n",
      "Prob(Omnibus):                  0.117   Jarque-Bera (JB):                1.682\n",
      "Skew:                           1.057   Prob(JB):                        0.431\n",
      "Kurtosis:                       3.112   Cond. No.                         4.34\n",
      "==============================================================================\n",
      "\n",
      "Warnings:\n",
      "[1] Standard Errors assume that the covariance matrix of the errors is correctly specified.\n"
     ]
    },
    {
     "name": "stderr",
     "output_type": "stream",
     "text": [
      "C:\\Users\\Daniel Zhang\\AppData\\Roaming\\Python\\Python38\\site-packages\\scipy\\stats\\stats.py:1534: UserWarning: kurtosistest only valid for n>=20 ... continuing anyway, n=9\n",
      "  warnings.warn(\"kurtosistest only valid for n>=20 ... continuing \"\n"
     ]
    }
   ],
   "source": [
    "scaler_2 = MinMaxScaler()\n",
    "scaler_2.fit(datas_2)\n",
    "scaled_features_2 = scaler_2.transform(datas_2)\n",
    "df_MinMax_2 = pd.DataFrame(data=scaled_features_2, columns=[\"L\", \"Y\"])\n",
    "\n",
    "y_2 = df_MinMax_2.iloc[:, 1]\n",
    "x_2 = df_MinMax_2.iloc[:, 0]\n",
    "\n",
    "x_2 = sm.add_constant(x_2)\n",
    "model_2 = sm.OLS(y_2, x_2).fit()\n",
    "print(model_2.summary())\n",
    "\n",
    "predicts_2 = model_2.predict()\n",
    "x_2 = df_MinMax_2.iloc[:, 0] "
   ]
  },
  {
   "cell_type": "code",
   "execution_count": 13,
   "metadata": {},
   "outputs": [
    {
     "data": {
      "image/png": "[encoded data removed]",
      "text/plain": [
       "<Figure size 432x288 with 1 Axes>"
      ]
     },
     "metadata": {
      "needs_background": "light"
     },
     "output_type": "display_data"
    }
   ],
   "source": [
    "plt.scatter(x, y, label='agriculture_actual') \n",
    "plt.plot(x, predicts, color = 'red', label='agriculture_predicted')\n",
    "plt.scatter(x_2, y_2, label='industrial_actual') \n",
    "plt.plot(x_2, predicts_2, color = 'blue', label='industrial_predicted')\n",
    "\n",
    "plt.xlabel('L')\n",
    "plt.ylabel('Y')\n",
    "\n",
    "plt.legend()\n",
    "plt.savefig('L_vs_Y.png')\n",
    "plt.show() "
   ]
  },
  {
   "cell_type": "code",
   "execution_count": null,
   "metadata": {},
   "outputs": [],
   "source": []
  },
  {
   "cell_type": "code",
   "execution_count": null,
   "metadata": {},
   "outputs": [],
   "source": []
  },
  {
   "cell_type": "code",
   "execution_count": 14,
   "metadata": {},
   "outputs": [
    {
     "data": {
      "text/html": [
       "<div>\n",
       "<style scoped>\n",
       "    .dataframe tbody tr th:only-of-type {\n",
       "        vertical-align: middle;\n",
       "    }\n",
       "\n",
       "    .dataframe tbody tr th {\n",
       "        vertical-align: top;\n",
       "    }\n",
       "\n",
       "    .dataframe thead th {\n",
       "        text-align: right;\n",
       "    }\n",
       "</style>\n",
       "<table border=\"1\" class=\"dataframe\">\n",
       "  <thead>\n",
       "    <tr style=\"text-align: right;\">\n",
       "      <th></th>\n",
       "      <th>Unnamed: 0</th>\n",
       "      <th>Labor Force</th>\n",
       "      <th>Hourly Wages in Manufacturing Index</th>\n",
       "      <th>Employed people</th>\n",
       "      <th>2_Hourly Wages in Manufacturing Index</th>\n",
       "      <th>Unnamed: 5</th>\n",
       "      <th>Unnamed: 6</th>\n",
       "      <th>yearly wage</th>\n",
       "      <th>Unnamed: 8</th>\n",
       "      <th>Unnamed: 9</th>\n",
       "      <th>Unnamed: 10</th>\n",
       "      <th>Unnamed: 11</th>\n",
       "      <th>Unnamed: 12</th>\n",
       "      <th>Unnamed: 13</th>\n",
       "      <th>Unnamed: 14</th>\n",
       "      <th>Unnamed: 15</th>\n",
       "    </tr>\n",
       "  </thead>\n",
       "  <tbody>\n",
       "    <tr>\n",
       "      <th>0</th>\n",
       "      <td>2010</td>\n",
       "      <td>1.140065e+07</td>\n",
       "      <td>101.2</td>\n",
       "      <td>7000000</td>\n",
       "      <td>101.2</td>\n",
       "      <td>119.537391</td>\n",
       "      <td>NaN</td>\n",
       "      <td>182160</td>\n",
       "      <td>NaN</td>\n",
       "      <td>yED = 2.507e+05 w - 1.825e+07</td>\n",
       "      <td>NaN</td>\n",
       "      <td>NaN</td>\n",
       "      <td>a</td>\n",
       "      <td>-18250000</td>\n",
       "      <td>NaN</td>\n",
       "      <td>NaN</td>\n",
       "    </tr>\n",
       "    <tr>\n",
       "      <th>1</th>\n",
       "      <td>2011</td>\n",
       "      <td>1.243902e+07</td>\n",
       "      <td>107.2</td>\n",
       "      <td>8950000</td>\n",
       "      <td>107.2</td>\n",
       "      <td>121.632006</td>\n",
       "      <td>NaN</td>\n",
       "      <td>192960</td>\n",
       "      <td>NaN</td>\n",
       "      <td>yLS = 8.752e+04 w + 2.861e+06</td>\n",
       "      <td>NaN</td>\n",
       "      <td>NaN</td>\n",
       "      <td>b</td>\n",
       "      <td>-250700</td>\n",
       "      <td>NaN</td>\n",
       "      <td>NaN</td>\n",
       "    </tr>\n",
       "    <tr>\n",
       "      <th>2</th>\n",
       "      <td>2012</td>\n",
       "      <td>1.259740e+07</td>\n",
       "      <td>117.2</td>\n",
       "      <td>10760000</td>\n",
       "      <td>117.2</td>\n",
       "      <td>125.123032</td>\n",
       "      <td>NaN</td>\n",
       "      <td>210960</td>\n",
       "      <td>NaN</td>\n",
       "      <td>NaN</td>\n",
       "      <td>NaN</td>\n",
       "      <td>NaN</td>\n",
       "      <td>c</td>\n",
       "      <td>2861000</td>\n",
       "      <td>NaN</td>\n",
       "      <td>NaN</td>\n",
       "    </tr>\n",
       "    <tr>\n",
       "      <th>3</th>\n",
       "      <td>2013</td>\n",
       "      <td>1.302932e+07</td>\n",
       "      <td>113.6</td>\n",
       "      <td>9600000</td>\n",
       "      <td>113.6</td>\n",
       "      <td>123.866262</td>\n",
       "      <td>NaN</td>\n",
       "      <td>204480</td>\n",
       "      <td>NaN</td>\n",
       "      <td>p(t)=p(t-1)</td>\n",
       "      <td>NaN</td>\n",
       "      <td>NaN</td>\n",
       "      <td>d</td>\n",
       "      <td>87520</td>\n",
       "      <td>NaN</td>\n",
       "      <td>NaN</td>\n",
       "    </tr>\n",
       "    <tr>\n",
       "      <th>4</th>\n",
       "      <td>2014</td>\n",
       "      <td>1.321027e+07</td>\n",
       "      <td>118.7</td>\n",
       "      <td>11930000</td>\n",
       "      <td>118.7</td>\n",
       "      <td>125.646685</td>\n",
       "      <td>NaN</td>\n",
       "      <td>213660</td>\n",
       "      <td>NaN</td>\n",
       "      <td>q=qd=qs</td>\n",
       "      <td>NaN</td>\n",
       "      <td>NaN</td>\n",
       "      <td>NaN</td>\n",
       "      <td>NaN</td>\n",
       "      <td>NaN</td>\n",
       "      <td>NaN</td>\n",
       "    </tr>\n",
       "  </tbody>\n",
       "</table>\n",
       "</div>"
      ],
      "text/plain": [
       "   Unnamed: 0   Labor Force  Hourly Wages in Manufacturing Index  \\\n",
       "0        2010  1.140065e+07                                101.2   \n",
       "1        2011  1.243902e+07                                107.2   \n",
       "2        2012  1.259740e+07                                117.2   \n",
       "3        2013  1.302932e+07                                113.6   \n",
       "4        2014  1.321027e+07                                118.7   \n",
       "\n",
       "   Employed people  2_Hourly Wages in Manufacturing Index  Unnamed: 5  \\\n",
       "0          7000000                                  101.2  119.537391   \n",
       "1          8950000                                  107.2  121.632006   \n",
       "2         10760000                                  117.2  125.123032   \n",
       "3          9600000                                  113.6  123.866262   \n",
       "4         11930000                                  118.7  125.646685   \n",
       "\n",
       "   Unnamed: 6  yearly wage  Unnamed: 8                     Unnamed: 9  \\\n",
       "0         NaN       182160         NaN  yED = 2.507e+05 w - 1.825e+07   \n",
       "1         NaN       192960         NaN  yLS = 8.752e+04 w + 2.861e+06   \n",
       "2         NaN       210960         NaN                            NaN   \n",
       "3         NaN       204480         NaN                    p(t)=p(t-1)   \n",
       "4         NaN       213660         NaN                        q=qd=qs   \n",
       "\n",
       "   Unnamed: 10  Unnamed: 11 Unnamed: 12 Unnamed: 13  Unnamed: 14  Unnamed: 15  \n",
       "0          NaN          NaN           a   -18250000          NaN          NaN  \n",
       "1          NaN          NaN           b     -250700          NaN          NaN  \n",
       "2          NaN          NaN           c     2861000          NaN          NaN  \n",
       "3          NaN          NaN           d       87520          NaN          NaN  \n",
       "4          NaN          NaN         NaN         NaN          NaN          NaN  "
      ]
     },
     "execution_count": 14,
     "metadata": {},
     "output_type": "execute_result"
    }
   ],
   "source": [
    "datas = pd.read_excel(r'C:\\Users\\Daniel Zhang\\Desktop\\chile_labour_force_wage.xlsx') # Read excel data, the location of the excel file is inside the quotation marks\n",
    "datas.head()"
   ]
  },
  {
   "cell_type": "code",
   "execution_count": 15,
   "metadata": {},
   "outputs": [],
   "source": [
    "y = datas.iloc[:, 1]\n",
    "y_1 = datas.iloc[:, 3]\n",
    "x = datas.iloc[:, 7]\n",
    "x_1 = datas.iloc[:, 7]"
   ]
  },
  {
   "cell_type": "code",
   "execution_count": 16,
   "metadata": {},
   "outputs": [
    {
     "name": "stdout",
     "output_type": "stream",
     "text": [
      "                            OLS Regression Results                            \n",
      "==============================================================================\n",
      "Dep. Variable:            Labor Force   R-squared:                       0.801\n",
      "Model:                            OLS   Adj. R-squared:                  0.777\n",
      "Method:                 Least Squares   F-statistic:                     32.30\n",
      "Date:                Tue, 09 Feb 2021   Prob (F-statistic):           0.000463\n",
      "Time:                        07:17:00   Log-Likelihood:                -139.14\n",
      "No. Observations:                  10   AIC:                             282.3\n",
      "Df Residuals:                       8   BIC:                             282.9\n",
      "Df Model:                           1                                         \n",
      "Covariance Type:            nonrobust                                         \n",
      "===============================================================================\n",
      "                  coef    std err          t      P>|t|      [0.025      0.975]\n",
      "-------------------------------------------------------------------------------\n",
      "const        2.861e+06   1.71e+06      1.675      0.133   -1.08e+06     6.8e+06\n",
      "yearly wage    48.6200      8.555      5.683      0.000      28.891      68.349\n",
      "==============================================================================\n",
      "Omnibus:                        0.462   Durbin-Watson:                   2.607\n",
      "Prob(Omnibus):                  0.794   Jarque-Bera (JB):                0.365\n",
      "Skew:                          -0.371   Prob(JB):                        0.833\n",
      "Kurtosis:                       2.429   Cond. No.                     3.61e+06\n",
      "==============================================================================\n",
      "\n",
      "Warnings:\n",
      "[1] Standard Errors assume that the covariance matrix of the errors is correctly specified.\n",
      "[2] The condition number is large, 3.61e+06. This might indicate that there are\n",
      "strong multicollinearity or other numerical problems.\n"
     ]
    },
    {
     "name": "stderr",
     "output_type": "stream",
     "text": [
      "C:\\Users\\Daniel Zhang\\AppData\\Roaming\\Python\\Python38\\site-packages\\scipy\\stats\\stats.py:1534: UserWarning: kurtosistest only valid for n>=20 ... continuing anyway, n=10\n",
      "  warnings.warn(\"kurtosistest only valid for n>=20 ... continuing \"\n"
     ]
    }
   ],
   "source": [
    "x = sm.add_constant(x) # If there is an intercept in the model, this step is necessary\n",
    "model = sm.OLS(y, x).fit() # Build and fit a least squares model\n",
    "print(model.summary()) # Output regression results"
   ]
  },
  {
   "cell_type": "markdown",
   "metadata": {},
   "source": [
    "y = 8.752e+04 w + 2.861e+06"
   ]
  },
  {
   "cell_type": "code",
   "execution_count": 17,
   "metadata": {},
   "outputs": [
    {
     "name": "stdout",
     "output_type": "stream",
     "text": [
      "                            OLS Regression Results                            \n",
      "==============================================================================\n",
      "Dep. Variable:        Employed people   R-squared:                       0.956\n",
      "Model:                            OLS   Adj. R-squared:                  0.951\n",
      "Method:                 Least Squares   F-statistic:                     175.2\n",
      "Date:                Tue, 09 Feb 2021   Prob (F-statistic):           1.01e-06\n",
      "Time:                        07:17:00   Log-Likelihood:                -141.21\n",
      "No. Observations:                  10   AIC:                             286.4\n",
      "Df Residuals:                       8   BIC:                             287.0\n",
      "Df Model:                           1                                         \n",
      "Covariance Type:            nonrobust                                         \n",
      "===============================================================================\n",
      "                  coef    std err          t      P>|t|      [0.025      0.975]\n",
      "-------------------------------------------------------------------------------\n",
      "const       -1.825e+07    2.1e+06     -8.683      0.000   -2.31e+07   -1.34e+07\n",
      "yearly wage   139.2982     10.524     13.237      0.000     115.031     163.566\n",
      "==============================================================================\n",
      "Omnibus:                        0.637   Durbin-Watson:                   1.885\n",
      "Prob(Omnibus):                  0.727   Jarque-Bera (JB):                0.602\n",
      "Skew:                          -0.415   Prob(JB):                        0.740\n",
      "Kurtosis:                       2.131   Cond. No.                     3.61e+06\n",
      "==============================================================================\n",
      "\n",
      "Warnings:\n",
      "[1] Standard Errors assume that the covariance matrix of the errors is correctly specified.\n",
      "[2] The condition number is large, 3.61e+06. This might indicate that there are\n",
      "strong multicollinearity or other numerical problems.\n"
     ]
    }
   ],
   "source": [
    "x_1 = sm.add_constant(x_1) # If there is an intercept in the model, this step is necessary\n",
    "model_1 = sm.OLS(y_1, x_1).fit() # Build and fit a least squares model\n",
    "print(model_1.summary()) # Output regression results"
   ]
  },
  {
   "cell_type": "markdown",
   "metadata": {},
   "source": [
    "y = 2.507e+05 w - 1.825e+07"
   ]
  },
  {
   "cell_type": "code",
   "execution_count": 18,
   "metadata": {},
   "outputs": [
    {
     "data": {
      "image/png": "[encoded data removed]",
      "text/plain": [
       "<Figure size 432x288 with 1 Axes>"
      ]
     },
     "metadata": {
      "needs_background": "light"
     },
     "output_type": "display_data"
    }
   ],
   "source": [
    "# plot\n",
    "predicts = model.predict() # Predicted value of the model\n",
    "x = datas.iloc[:, 7] \n",
    "plt.scatter(x, y, label='labour force actual') # Scatter plot\n",
    "plt.plot(x, predicts, color = 'red', label='labour force expected')\n",
    "\n",
    "predicts_1 = model_1.predict() # Predicted value of the model\n",
    "x_1= datas.iloc[:, 7] \n",
    "plt.scatter(x_1, y_1, label='employment actual') # Scatter plot\n",
    "plt.plot(x_1, predicts_1, color = 'blue', label='employment expected')\n",
    "\n",
    "plt.xlabel('yearly wage')\n",
    "plt.ylabel('employed people')\n",
    "\n",
    "plt.legend() # Show the legend, that is, each line corresponds to the content in the label\n",
    "plt.savefig('year_wage_vs_emp.png')\n",
    "plt.show() # Display plot"
   ]
  },
  {
   "cell_type": "code",
   "execution_count": null,
   "metadata": {},
   "outputs": [],
   "source": []
  }
 ],
 "metadata": {
  "kernelspec": {
   "display_name": "Python 3",
   "language": "python",
   "name": "python3"
  },
  "language_info": {
   "codemirror_mode": {
    "name": "ipython",
    "version": 3
   },
   "file_extension": ".py",
   "mimetype": "text/x-python",
   "name": "python",
   "nbconvert_exporter": "python",
   "pygments_lexer": "ipython3",
   "version": "3.8.3"
  }
 },
 "nbformat": 4,
 "nbformat_minor": 4
}
