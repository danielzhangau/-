{
 "cells": [
  {
   "cell_type": "markdown",
   "metadata": {},
   "source": [
    "**Team 2010617 / Mar 9, 2020**"
   ]
  },
  {
   "cell_type": "markdown",
   "metadata": {
    "toc": true
   },
   "source": [
    "<h1>Table of Contents<span class=\"tocSkip\"></span></h1>\n",
    "<div class=\"toc\"><ul class=\"toc-item\"><li><span><a href=\"#Common-imports\" data-toc-modified-id=\"Common-imports-1\"><span class=\"toc-item-num\">1&nbsp;&nbsp;</span>Common imports</a></span></li><li><span><a href=\"#Preprocessing\" data-toc-modified-id=\"Preprocessing-2\"><span class=\"toc-item-num\">2&nbsp;&nbsp;</span>Preprocessing</a></span><ul class=\"toc-item\"><li><span><a href=\"#Drop-meaningless-columns\" data-toc-modified-id=\"Drop-meaningless-columns-2.1\"><span class=\"toc-item-num\">2.1&nbsp;&nbsp;</span>Drop meaningless columns</a></span></li><li><span><a href=\"#Four-missing-values\" data-toc-modified-id=\"Four-missing-values-2.2\"><span class=\"toc-item-num\">2.2&nbsp;&nbsp;</span>Four missing values</a></span><ul class=\"toc-item\"><li><span><a href=\"#Fill-missing-review_body-with-its-review_headline\" data-toc-modified-id=\"Fill-missing-review_body-with-its-review_headline-2.2.1\"><span class=\"toc-item-num\">2.2.1&nbsp;&nbsp;</span>Fill missing review_body with its review_headline</a></span></li><li><span><a href=\"#Fill-missing-review_headline-with-its-stars\" data-toc-modified-id=\"Fill-missing-review_headline-with-its-stars-2.2.2\"><span class=\"toc-item-num\">2.2.2&nbsp;&nbsp;</span>Fill missing review_headline with its stars</a></span></li></ul></li><li><span><a href=\"#Duplicates-values\" data-toc-modified-id=\"Duplicates-values-2.3\"><span class=\"toc-item-num\">2.3&nbsp;&nbsp;</span>Duplicates values</a></span></li><li><span><a href=\"#Strings'-capitalization\" data-toc-modified-id=\"Strings'-capitalization-2.4\"><span class=\"toc-item-num\">2.4&nbsp;&nbsp;</span>Strings' capitalization</a></span></li><li><span><a href=\"#Datetime-format\" data-toc-modified-id=\"Datetime-format-2.5\"><span class=\"toc-item-num\">2.5&nbsp;&nbsp;</span>Datetime format</a></span></li></ul></li><li><span><a href=\"#Exploratory-data-analysis\" data-toc-modified-id=\"Exploratory-data-analysis-3\"><span class=\"toc-item-num\">3&nbsp;&nbsp;</span>Exploratory data analysis</a></span><ul class=\"toc-item\"><li><span><a href=\"#Generate-more-numeric-features\" data-toc-modified-id=\"Generate-more-numeric-features-3.1\"><span class=\"toc-item-num\">3.1&nbsp;&nbsp;</span>Generate more numeric features</a></span><ul class=\"toc-item\"><li><span><a href=\"#helpful-ratio-&amp;-unhelpful-ratio\" data-toc-modified-id=\"helpful-ratio-&amp;-unhelpful-ratio-3.1.1\"><span class=\"toc-item-num\">3.1.1&nbsp;&nbsp;</span>helpful ratio &amp; unhelpful ratio</a></span></li><li><span><a href=\"#Measure-the-importance-of-helpful-ratio\" data-toc-modified-id=\"Measure-the-importance-of-helpful-ratio-3.1.2\"><span class=\"toc-item-num\">3.1.2&nbsp;&nbsp;</span>Measure the importance of helpful ratio</a></span></li></ul></li><li><span><a href=\"#Urgent-need-to-sentiment-features\" data-toc-modified-id=\"Urgent-need-to-sentiment-features-3.2\"><span class=\"toc-item-num\">3.2&nbsp;&nbsp;</span>Urgent need to sentiment features</a></span></li></ul></li><li><span><a href=\"#Gain-insights-from-several-observations\" data-toc-modified-id=\"Gain-insights-from-several-observations-4\"><span class=\"toc-item-num\">4&nbsp;&nbsp;</span>Gain insights from several observations</a></span><ul class=\"toc-item\"><li><span><a href=\"#Observe-the-differences-between-the-three-products\" data-toc-modified-id=\"Observe-the-differences-between-the-three-products-4.1\"><span class=\"toc-item-num\">4.1&nbsp;&nbsp;</span>Observe the differences between the three products</a></span></li><li><span><a href=\"#Observe-the-differences-between-experts'-and-non-experts'-scores\" data-toc-modified-id=\"Observe-the-differences-between-experts'-and-non-experts'-scores-4.2\"><span class=\"toc-item-num\">4.2&nbsp;&nbsp;</span>Observe the differences between experts' and non-experts' scores</a></span></li><li><span><a href=\"#Observe-the-length-of-reviews\" data-toc-modified-id=\"Observe-the-length-of-reviews-4.3\"><span class=\"toc-item-num\">4.3&nbsp;&nbsp;</span>Observe the length of reviews</a></span></li></ul></li><li><span><a href=\"#Further-processing\" data-toc-modified-id=\"Further-processing-5\"><span class=\"toc-item-num\">5&nbsp;&nbsp;</span>Further processing</a></span><ul class=\"toc-item\"><li><span><a href=\"#Seperate-by-categories\" data-toc-modified-id=\"Seperate-by-categories-5.1\"><span class=\"toc-item-num\">5.1&nbsp;&nbsp;</span>Seperate by categories</a></span></li><li><span><a href=\"#Group-by-product-parent\" data-toc-modified-id=\"Group-by-product-parent-5.2\"><span class=\"toc-item-num\">5.2&nbsp;&nbsp;</span>Group by product parent</a></span></li><li><span><a href=\"#Visualizations-of-origin-star-rating-mechanism\" data-toc-modified-id=\"Visualizations-of-origin-star-rating-mechanism-5.3\"><span class=\"toc-item-num\">5.3&nbsp;&nbsp;</span>Visualizations of origin star rating mechanism</a></span></li></ul></li><li><span><a href=\"#Most-Informative-Measures-to-Track\" data-toc-modified-id=\"Most-Informative-Measures-to-Track-6\"><span class=\"toc-item-num\">6&nbsp;&nbsp;</span>Most Informative Measures to Track</a></span><ul class=\"toc-item\"><li><span><a href=\"#Linear-Regression\" data-toc-modified-id=\"Linear-Regression-6.1\"><span class=\"toc-item-num\">6.1&nbsp;&nbsp;</span>Linear Regression</a></span></li><li><span><a href=\"#Analysis-&amp;-diagnosis-with-R\" data-toc-modified-id=\"Analysis-&amp;-diagnosis-with-R-6.2\"><span class=\"toc-item-num\">6.2&nbsp;&nbsp;</span>Analysis &amp; diagnosis with R</a></span></li></ul></li><li><span><a href=\"#Measures-that-Suggests-Reputation-Trends\" data-toc-modified-id=\"Measures-that-Suggests-Reputation-Trends-7\"><span class=\"toc-item-num\">7&nbsp;&nbsp;</span>Measures that Suggests Reputation Trends</a></span><ul class=\"toc-item\"><li><span><a href=\"#Time-Flow-for--Products'-Reputations\" data-toc-modified-id=\"Time-Flow-for--Products'-Reputations-7.1\"><span class=\"toc-item-num\">7.1&nbsp;&nbsp;</span>Time Flow for  Products' Reputations</a></span></li></ul></li><li><span><a href=\"#Measure-Combinations-that-Indicate-Products’-Success/-Failure\" data-toc-modified-id=\"Measure-Combinations-that-Indicate-Products’-Success/-Failure-8\"><span class=\"toc-item-num\">8&nbsp;&nbsp;</span>Measure Combinations that Indicate Products’ Success/ Failure</a></span><ul class=\"toc-item\"><li><span><a href=\"#Correlation-of-time-series-in-corner-detection\" data-toc-modified-id=\"Correlation-of-time-series-in-corner-detection-8.1\"><span class=\"toc-item-num\">8.1&nbsp;&nbsp;</span>Correlation of time series in corner detection</a></span></li></ul></li><li><span><a href=\"#Relationship-Between-Ratings-and-Review-Types-&amp;-Descriptors\" data-toc-modified-id=\"Relationship-Between-Ratings-and-Review-Types-&amp;-Descriptors-9\"><span class=\"toc-item-num\">9&nbsp;&nbsp;</span>Relationship Between Ratings and Review Types &amp; Descriptors</a></span><ul class=\"toc-item\"><li><span><a href=\"#Add-Reviews\" data-toc-modified-id=\"Add-Reviews-9.1\"><span class=\"toc-item-num\">9.1&nbsp;&nbsp;</span>Add Reviews</a></span></li><li><span><a href=\"#Extract-keywords-from-review\" data-toc-modified-id=\"Extract-keywords-from-review-9.2\"><span class=\"toc-item-num\">9.2&nbsp;&nbsp;</span>Extract keywords from review</a></span></li><li><span><a href=\"#Create-word-clouds\" data-toc-modified-id=\"Create-word-clouds-9.3\"><span class=\"toc-item-num\">9.3&nbsp;&nbsp;</span>Create word clouds</a></span></li></ul></li><li><span><a href=\"#Additional-attempts\" data-toc-modified-id=\"Additional-attempts-10\"><span class=\"toc-item-num\">10&nbsp;&nbsp;</span>Additional attempts</a></span><ul class=\"toc-item\"><li><span><a href=\"#Word-of-Bag-&amp;-TF-IDF-->-word-vector-/-vocabulary-/-feature-dictionary\" data-toc-modified-id=\"Word-of-Bag-&amp;-TF-IDF-->-word-vector-/-vocabulary-/-feature-dictionary-10.1\"><span class=\"toc-item-num\">10.1&nbsp;&nbsp;</span>Word of Bag &amp; TF-IDF -&gt; word vector / vocabulary / feature dictionary</a></span></li><li><span><a href=\"#nltk:-stopwords-/-auto-summary\" data-toc-modified-id=\"nltk:-stopwords-/-auto-summary-10.2\"><span class=\"toc-item-num\">10.2&nbsp;&nbsp;</span>nltk: stopwords / auto-summary</a></span></li></ul></li></ul></div>"
   ]
  },
  {
   "cell_type": "markdown",
   "metadata": {},
   "source": [
    "# Common imports"
   ]
  },
  {
   "cell_type": "code",
   "execution_count": 1,
   "metadata": {},
   "outputs": [],
   "source": [
    "# basic imports\n",
    "import operator\n",
    "from time import time\n",
    "from dateutil import parser\n",
    "from collections import defaultdict\n",
    "import numpy as np\n",
    "np.random.seed(42)\n",
    "import pandas as pd\n",
    "original_data_path = './Data/original-provided'\n",
    "processing_data_path = './Data/data-processing'\n",
    "word_clouds_path = './Results/word_clouds'\n",
    "from cv2 import imread\n",
    "import matplotlib.pyplot as plt\n",
    "plt.style.use('ggplot')\n",
    "%matplotlib inline\n",
    "%config InlineBackend.figure_format='retina'\n",
    "import warnings\n",
    "warnings.filterwarnings('ignore')"
   ]
  },
  {
   "cell_type": "code",
   "execution_count": 2,
   "metadata": {},
   "outputs": [],
   "source": [
    "# basic sklearn\n",
    "import sklearn\n",
    "from sklearn.impute import SimpleImputer\n",
    "from sklearn.compose import ColumnTransformer\n",
    "from sklearn.metrics import mean_absolute_error, roc_curve, auc\n",
    "\n",
    "from sklearn.base import BaseEstimator, TransformerMixin, RegressorMixin, clone\n",
    "from sklearn.preprocessing import MinMaxScaler, Normalizer, OneHotEncoder\n",
    "from sklearn.preprocessing import StandardScaler, PowerTransformer, QuantileTransformer\n",
    "\n",
    "from sklearn.model_selection import train_test_split, StratifiedKFold, StratifiedShuffleSplit, KFold\n",
    "from sklearn.model_selection import cross_val_score, GridSearchCV, RandomizedSearchCV\n",
    "from sklearn.pipeline import make_pipeline"
   ]
  },
  {
   "cell_type": "code",
   "execution_count": 3,
   "metadata": {},
   "outputs": [],
   "source": [
    "# models\n",
    "from sklearn.linear_model import LinearRegression, Ridge, Lasso, LogisticRegression\n",
    "from sklearn.linear_model import ElasticNet, SGDRegressor, BayesianRidge\n",
    "from sklearn.ensemble import RandomForestRegressor, ExtraTreesRegressor\n",
    "from sklearn.ensemble import AdaBoostRegressor, GradientBoostingRegressor\n",
    "from sklearn.svm import SVR, LinearSVR\n",
    "from sklearn.tree import DecisionTreeRegressor\n",
    "from sklearn.kernel_ridge import KernelRidge\n",
    "from xgboost import XGBRegressor\n",
    "\n",
    "from mlxtend.regressor import StackingRegressor\n",
    "from sklearn.multioutput import MultiOutputRegressor"
   ]
  },
  {
   "cell_type": "code",
   "execution_count": 4,
   "metadata": {},
   "outputs": [],
   "source": [
    "# some NLP packages\n",
    "import nltk\n",
    "#nltk.download('stopwords')\n",
    "#nltk.download('vader_lexicon')\n",
    "from nltk.corpus import stopwords\n",
    "from nltk.tokenize import sent_tokenize\n",
    "from nltk.sentiment.vader import SentimentIntensityAnalyzer\n",
    "from sklearn.feature_extraction.text import CountVectorizer\n",
    "from sklearn.feature_extraction.text import TfidfTransformer, TfidfVectorizer\n",
    "from wordcloud import WordCloud\n",
    "# clusters\n",
    "from sklearn.cluster import SpectralCoclustering\n",
    "from sklearn.cluster import MiniBatchKMeans\n",
    "from sklearn.datasets import fetch_20newsgroups\n",
    "from sklearn.metrics.cluster import v_measure_score"
   ]
  },
  {
   "cell_type": "code",
   "execution_count": 5,
   "metadata": {},
   "outputs": [
    {
     "data": {
      "text/plain": [
       "array([1], dtype=int32)"
      ]
     },
     "execution_count": 5,
     "metadata": {},
     "output_type": "execute_result"
    }
   ],
   "source": [
    "# load R environment\n",
    "%load_ext rpy2.ipython\n",
    "%R require(ggplot2)\n",
    "%R require(tidyverse)"
   ]
  },
  {
   "cell_type": "markdown",
   "metadata": {},
   "source": [
    "# Preprocessing"
   ]
  },
  {
   "cell_type": "code",
   "execution_count": 1,
   "metadata": {},
   "outputs": [
    {
     "ename": "NameError",
     "evalue": "name 'pd' is not defined",
     "output_type": "error",
     "traceback": [
      "\u001b[1;31m---------------------------------------------------------------------------\u001b[0m",
      "\u001b[1;31mNameError\u001b[0m                                 Traceback (most recent call last)",
      "\u001b[1;32m<ipython-input-1-489386c5cfc0>\u001b[0m in \u001b[0;36m<module>\u001b[1;34m\u001b[0m\n\u001b[1;32m----> 1\u001b[1;33m \u001b[0mdf_dy\u001b[0m \u001b[1;33m=\u001b[0m \u001b[0mpd\u001b[0m\u001b[1;33m.\u001b[0m\u001b[0mread_csv\u001b[0m\u001b[1;33m(\u001b[0m\u001b[1;34mf'{original_data_path}/hair_dryer.tsv'\u001b[0m\u001b[1;33m,\u001b[0m \u001b[0msep\u001b[0m \u001b[1;33m=\u001b[0m\u001b[1;34m'\\t'\u001b[0m\u001b[1;33m)\u001b[0m \u001b[1;31m# 11470\u001b[0m\u001b[1;33m\u001b[0m\u001b[1;33m\u001b[0m\u001b[0m\n\u001b[0m\u001b[0;32m      2\u001b[0m \u001b[0mdf_wv\u001b[0m \u001b[1;33m=\u001b[0m \u001b[0mpd\u001b[0m\u001b[1;33m.\u001b[0m\u001b[0mread_csv\u001b[0m\u001b[1;33m(\u001b[0m\u001b[1;34mf'{original_data_path}/microwave.tsv'\u001b[0m\u001b[1;33m,\u001b[0m \u001b[0msep\u001b[0m \u001b[1;33m=\u001b[0m\u001b[1;34m'\\t'\u001b[0m\u001b[1;33m)\u001b[0m \u001b[1;31m# 1615\u001b[0m\u001b[1;33m\u001b[0m\u001b[1;33m\u001b[0m\u001b[0m\n\u001b[0;32m      3\u001b[0m \u001b[0mdf_pc\u001b[0m \u001b[1;33m=\u001b[0m \u001b[0mpd\u001b[0m\u001b[1;33m.\u001b[0m\u001b[0mread_csv\u001b[0m\u001b[1;33m(\u001b[0m\u001b[1;34mf'{original_data_path}/pacifier.tsv'\u001b[0m\u001b[1;33m,\u001b[0m \u001b[0msep\u001b[0m \u001b[1;33m=\u001b[0m\u001b[1;34m'\\t'\u001b[0m\u001b[1;33m)\u001b[0m \u001b[1;31m# 18939\u001b[0m\u001b[1;33m\u001b[0m\u001b[1;33m\u001b[0m\u001b[0m\n\u001b[0;32m      4\u001b[0m \u001b[1;33m\u001b[0m\u001b[0m\n\u001b[0;32m      5\u001b[0m \u001b[0mdf\u001b[0m \u001b[1;33m=\u001b[0m \u001b[0mdf_dy\u001b[0m\u001b[1;33m.\u001b[0m\u001b[0mappend\u001b[0m\u001b[1;33m(\u001b[0m\u001b[1;33m[\u001b[0m\u001b[0mdf_wv\u001b[0m\u001b[1;33m,\u001b[0m \u001b[0mdf_pc\u001b[0m\u001b[1;33m]\u001b[0m\u001b[1;33m,\u001b[0m \u001b[0mignore_index\u001b[0m\u001b[1;33m=\u001b[0m\u001b[1;32mTrue\u001b[0m\u001b[1;33m)\u001b[0m \u001b[1;31m# shape: (32024, 15)\u001b[0m\u001b[1;33m\u001b[0m\u001b[1;33m\u001b[0m\u001b[0m\n",
      "\u001b[1;31mNameError\u001b[0m: name 'pd' is not defined"
     ]
    }
   ],
   "source": [
    "df_dy = pd.read_csv(f'{original_data_path}/hair_dryer.tsv', sep ='\\t') # 11470\n",
    "df_wv = pd.read_csv(f'{original_data_path}/microwave.tsv', sep ='\\t') # 1615\n",
    "df_pc = pd.read_csv(f'{original_data_path}/pacifier.tsv', sep ='\\t') # 18939\n",
    "\n",
    "df = df_dy.append([df_wv, df_pc], ignore_index=True) # shape: (32024, 15)"
   ]
  },
  {
   "cell_type": "markdown",
   "metadata": {},
   "source": [
    "## Drop meaningless columns"
   ]
  },
  {
   "cell_type": "markdown",
   "metadata": {},
   "source": [
    "- marketplace: either 'US' or 'us',"
   ]
  },
  {
   "cell_type": "code",
   "execution_count": 7,
   "metadata": {},
   "outputs": [
    {
     "data": {
      "text/plain": [
       "US    24276\n",
       "us     7748\n",
       "Name: marketplace, dtype: int64"
      ]
     },
     "execution_count": 7,
     "metadata": {},
     "output_type": "execute_result"
    }
   ],
   "source": [
    "df.marketplace.value_counts()"
   ]
  },
  {
   "cell_type": "markdown",
   "metadata": {},
   "source": [
    "- review_id: all unique"
   ]
  },
  {
   "cell_type": "code",
   "execution_count": 8,
   "metadata": {
    "scrolled": true
   },
   "outputs": [
    {
     "data": {
      "text/plain": [
       "True"
      ]
     },
     "execution_count": 8,
     "metadata": {},
     "output_type": "execute_result"
    }
   ],
   "source": [
    "pd.unique(df_dy.review_id).shape[0] == df_dy.shape[0]"
   ]
  },
  {
   "cell_type": "markdown",
   "metadata": {},
   "source": [
    "- Drop these two factors"
   ]
  },
  {
   "cell_type": "code",
   "execution_count": 9,
   "metadata": {},
   "outputs": [],
   "source": [
    "#df.drop(['marketplace', 'review_id'], axis=1, inplace=True)\n",
    "df.drop(['marketplace'], axis=1, inplace=True)"
   ]
  },
  {
   "cell_type": "markdown",
   "metadata": {},
   "source": [
    "## Four missing values"
   ]
  },
  {
   "cell_type": "code",
   "execution_count": 10,
   "metadata": {},
   "outputs": [
    {
     "data": {
      "text/plain": [
       "customer_id          0\n",
       "review_id            0\n",
       "product_id           0\n",
       "product_parent       0\n",
       "product_title        0\n",
       "product_category     0\n",
       "star_rating          0\n",
       "helpful_votes        0\n",
       "total_votes          0\n",
       "vine                 0\n",
       "verified_purchase    0\n",
       "review_headline      2\n",
       "review_body          2\n",
       "review_date          0\n",
       "dtype: int64"
      ]
     },
     "execution_count": 10,
     "metadata": {},
     "output_type": "execute_result"
    }
   ],
   "source": [
    "np.sum(df.isna(), axis=0)"
   ]
  },
  {
   "cell_type": "markdown",
   "metadata": {},
   "source": [
    "### Fill missing review_body with its review_headline"
   ]
  },
  {
   "cell_type": "code",
   "execution_count": 11,
   "metadata": {},
   "outputs": [
    {
     "data": {
      "text/html": [
       "<div>\n",
       "<style scoped>\n",
       "    .dataframe tbody tr th:only-of-type {\n",
       "        vertical-align: middle;\n",
       "    }\n",
       "\n",
       "    .dataframe tbody tr th {\n",
       "        vertical-align: top;\n",
       "    }\n",
       "\n",
       "    .dataframe thead th {\n",
       "        text-align: right;\n",
       "    }\n",
       "</style>\n",
       "<table border=\"1\" class=\"dataframe\">\n",
       "  <thead>\n",
       "    <tr style=\"text-align: right;\">\n",
       "      <th></th>\n",
       "      <th>customer_id</th>\n",
       "      <th>review_id</th>\n",
       "      <th>product_id</th>\n",
       "      <th>product_parent</th>\n",
       "      <th>product_title</th>\n",
       "      <th>product_category</th>\n",
       "      <th>star_rating</th>\n",
       "      <th>helpful_votes</th>\n",
       "      <th>total_votes</th>\n",
       "      <th>vine</th>\n",
       "      <th>verified_purchase</th>\n",
       "      <th>review_headline</th>\n",
       "      <th>review_body</th>\n",
       "      <th>review_date</th>\n",
       "    </tr>\n",
       "  </thead>\n",
       "  <tbody>\n",
       "    <tr>\n",
       "      <th>14035</th>\n",
       "      <td>38484571</td>\n",
       "      <td>R74VTHE48J4IQ</td>\n",
       "      <td>B0028IDXDS</td>\n",
       "      <td>450475749</td>\n",
       "      <td>wubbanub brown monkey pacifier</td>\n",
       "      <td>Baby</td>\n",
       "      <td>3</td>\n",
       "      <td>3</td>\n",
       "      <td>3</td>\n",
       "      <td>N</td>\n",
       "      <td>Y</td>\n",
       "      <td>Smaller</td>\n",
       "      <td>NaN</td>\n",
       "      <td>7/17/2015</td>\n",
       "    </tr>\n",
       "    <tr>\n",
       "      <th>16541</th>\n",
       "      <td>45456400</td>\n",
       "      <td>R3BVF5UJ5TMXHK</td>\n",
       "      <td>B003CK3LDI</td>\n",
       "      <td>392768822</td>\n",
       "      <td>wubbanub infant pacifier - giraffe</td>\n",
       "      <td>Baby</td>\n",
       "      <td>5</td>\n",
       "      <td>2</td>\n",
       "      <td>2</td>\n",
       "      <td>N</td>\n",
       "      <td>Y</td>\n",
       "      <td>Five Stars</td>\n",
       "      <td>NaN</td>\n",
       "      <td>3/30/2015</td>\n",
       "    </tr>\n",
       "  </tbody>\n",
       "</table>\n",
       "</div>"
      ],
      "text/plain": [
       "       customer_id       review_id  product_id  product_parent  \\\n",
       "14035     38484571   R74VTHE48J4IQ  B0028IDXDS       450475749   \n",
       "16541     45456400  R3BVF5UJ5TMXHK  B003CK3LDI       392768822   \n",
       "\n",
       "                            product_title product_category  star_rating  \\\n",
       "14035      wubbanub brown monkey pacifier             Baby            3   \n",
       "16541  wubbanub infant pacifier - giraffe             Baby            5   \n",
       "\n",
       "       helpful_votes  total_votes vine verified_purchase review_headline  \\\n",
       "14035              3            3    N                 Y         Smaller   \n",
       "16541              2            2    N                 Y      Five Stars   \n",
       "\n",
       "      review_body review_date  \n",
       "14035         NaN   7/17/2015  \n",
       "16541         NaN   3/30/2015  "
      ]
     },
     "execution_count": 11,
     "metadata": {},
     "output_type": "execute_result"
    }
   ],
   "source": [
    "df.iloc[np.array(df.review_body.isna()), :]"
   ]
  },
  {
   "cell_type": "code",
   "execution_count": 12,
   "metadata": {},
   "outputs": [],
   "source": [
    "df.loc[np.array(df.review_body.isna()), 'review_body'] = df.loc[np.array(df.review_body.isna()), 'review_headline']"
   ]
  },
  {
   "cell_type": "markdown",
   "metadata": {},
   "source": [
    "### Fill missing review_headline with its stars"
   ]
  },
  {
   "cell_type": "code",
   "execution_count": 13,
   "metadata": {},
   "outputs": [
    {
     "data": {
      "text/html": [
       "<div>\n",
       "<style scoped>\n",
       "    .dataframe tbody tr th:only-of-type {\n",
       "        vertical-align: middle;\n",
       "    }\n",
       "\n",
       "    .dataframe tbody tr th {\n",
       "        vertical-align: top;\n",
       "    }\n",
       "\n",
       "    .dataframe thead th {\n",
       "        text-align: right;\n",
       "    }\n",
       "</style>\n",
       "<table border=\"1\" class=\"dataframe\">\n",
       "  <thead>\n",
       "    <tr style=\"text-align: right;\">\n",
       "      <th></th>\n",
       "      <th>customer_id</th>\n",
       "      <th>review_id</th>\n",
       "      <th>product_id</th>\n",
       "      <th>product_parent</th>\n",
       "      <th>product_title</th>\n",
       "      <th>product_category</th>\n",
       "      <th>star_rating</th>\n",
       "      <th>helpful_votes</th>\n",
       "      <th>total_votes</th>\n",
       "      <th>vine</th>\n",
       "      <th>verified_purchase</th>\n",
       "      <th>review_headline</th>\n",
       "      <th>review_body</th>\n",
       "      <th>review_date</th>\n",
       "    </tr>\n",
       "  </thead>\n",
       "  <tbody>\n",
       "    <tr>\n",
       "      <th>273</th>\n",
       "      <td>51177255</td>\n",
       "      <td>R2TW4FSXQ60M75</td>\n",
       "      <td>B001UE7D2I</td>\n",
       "      <td>127343313</td>\n",
       "      <td>andis 1875-watt tourmaline ceramic ionic styli...</td>\n",
       "      <td>Beauty</td>\n",
       "      <td>5</td>\n",
       "      <td>0</td>\n",
       "      <td>0</td>\n",
       "      <td>N</td>\n",
       "      <td>Y</td>\n",
       "      <td>NaN</td>\n",
       "      <td>Used once - recently cut hair - Sure to use it...</td>\n",
       "      <td>8/9/2015</td>\n",
       "    </tr>\n",
       "    <tr>\n",
       "      <th>2433</th>\n",
       "      <td>11212444</td>\n",
       "      <td>R24Y12M6JKTTQM</td>\n",
       "      <td>B00MEBKQ8E</td>\n",
       "      <td>646149518</td>\n",
       "      <td>panasonic hair dryer nano care, vivid pink, 1 ...</td>\n",
       "      <td>Beauty</td>\n",
       "      <td>4</td>\n",
       "      <td>0</td>\n",
       "      <td>1</td>\n",
       "      <td>N</td>\n",
       "      <td>Y</td>\n",
       "      <td>NaN</td>\n",
       "      <td>It is very nice ! Motor sounds are not cheep d...</td>\n",
       "      <td>2/17/2015</td>\n",
       "    </tr>\n",
       "  </tbody>\n",
       "</table>\n",
       "</div>"
      ],
      "text/plain": [
       "      customer_id       review_id  product_id  product_parent  \\\n",
       "273      51177255  R2TW4FSXQ60M75  B001UE7D2I       127343313   \n",
       "2433     11212444  R24Y12M6JKTTQM  B00MEBKQ8E       646149518   \n",
       "\n",
       "                                          product_title product_category  \\\n",
       "273   andis 1875-watt tourmaline ceramic ionic styli...           Beauty   \n",
       "2433  panasonic hair dryer nano care, vivid pink, 1 ...           Beauty   \n",
       "\n",
       "      star_rating  helpful_votes  total_votes vine verified_purchase  \\\n",
       "273             5              0            0    N                 Y   \n",
       "2433            4              0            1    N                 Y   \n",
       "\n",
       "     review_headline                                        review_body  \\\n",
       "273              NaN  Used once - recently cut hair - Sure to use it...   \n",
       "2433             NaN  It is very nice ! Motor sounds are not cheep d...   \n",
       "\n",
       "     review_date  \n",
       "273     8/9/2015  \n",
       "2433   2/17/2015  "
      ]
     },
     "execution_count": 13,
     "metadata": {},
     "output_type": "execute_result"
    }
   ],
   "source": [
    "df.loc[np.array(df.review_headline.isna()), :]"
   ]
  },
  {
   "cell_type": "code",
   "execution_count": 14,
   "metadata": {},
   "outputs": [],
   "source": [
    "df.loc[273, 'review_headline'] = 'five stars'\n",
    "df.loc[2433, 'review_headline'] = 'four stars'"
   ]
  },
  {
   "cell_type": "markdown",
   "metadata": {},
   "source": [
    "## Duplicates values"
   ]
  },
  {
   "cell_type": "markdown",
   "metadata": {},
   "source": [
    "- We found 4 and 12 duplicate values in each of the two datasets, microwave ovens and baby pacifiers.\n",
    "\n",
    "- While it’s reasonable for parents to buy a pacifier product several times at the same date and write same reviews, it seems that the duplicated reviews of microwave oven, written by a person for 4 times at a single day, are just repeated complaints about his awful experience.\n",
    "\n",
    "- Also given that all the duplicated pacifier reviews were purchase-verified which were not for ovens’, we keep all the pacifier reviews but only one for those 4 duplicated microwave oven reviews."
   ]
  },
  {
   "cell_type": "code",
   "execution_count": 15,
   "metadata": {},
   "outputs": [
    {
     "data": {
      "text/html": [
       "<div>\n",
       "<style scoped>\n",
       "    .dataframe tbody tr th:only-of-type {\n",
       "        vertical-align: middle;\n",
       "    }\n",
       "\n",
       "    .dataframe tbody tr th {\n",
       "        vertical-align: top;\n",
       "    }\n",
       "\n",
       "    .dataframe thead th {\n",
       "        text-align: right;\n",
       "    }\n",
       "</style>\n",
       "<table border=\"1\" class=\"dataframe\">\n",
       "  <thead>\n",
       "    <tr style=\"text-align: right;\">\n",
       "      <th></th>\n",
       "      <th>customer_id</th>\n",
       "      <th>product_parent</th>\n",
       "      <th>product_title</th>\n",
       "      <th>product_category</th>\n",
       "      <th>star_rating</th>\n",
       "      <th>review_headline</th>\n",
       "      <th>review_body</th>\n",
       "      <th>review_date</th>\n",
       "      <th>vine</th>\n",
       "      <th>verified_purchase</th>\n",
       "    </tr>\n",
       "  </thead>\n",
       "  <tbody>\n",
       "    <tr>\n",
       "      <th>18023</th>\n",
       "      <td>1792224</td>\n",
       "      <td>68041075</td>\n",
       "      <td>baby dipper feeding set - new larger 6-ounce n...</td>\n",
       "      <td>baby</td>\n",
       "      <td>5</td>\n",
       "      <td>five stars</td>\n",
       "      <td>very happy. i have both blue and pink</td>\n",
       "      <td>2/4/2015</td>\n",
       "      <td>n</td>\n",
       "      <td>y</td>\n",
       "    </tr>\n",
       "    <tr>\n",
       "      <th>18065</th>\n",
       "      <td>1792224</td>\n",
       "      <td>68041075</td>\n",
       "      <td>baby dipper feeding set - new larger 6-ounce n...</td>\n",
       "      <td>baby</td>\n",
       "      <td>5</td>\n",
       "      <td>five stars</td>\n",
       "      <td>very happy. i have both blue and pink</td>\n",
       "      <td>2/4/2015</td>\n",
       "      <td>n</td>\n",
       "      <td>y</td>\n",
       "    </tr>\n",
       "    <tr>\n",
       "      <th>21356</th>\n",
       "      <td>2946686</td>\n",
       "      <td>381226741</td>\n",
       "      <td>philips avent bpa free contemporary freeflow p...</td>\n",
       "      <td>Baby</td>\n",
       "      <td>4</td>\n",
       "      <td>the baby sucking only love, time is not</td>\n",
       "      <td>Yes, the baby sucking only love, time is not long</td>\n",
       "      <td>9/17/2014</td>\n",
       "      <td>N</td>\n",
       "      <td>Y</td>\n",
       "    </tr>\n",
       "    <tr>\n",
       "      <th>21376</th>\n",
       "      <td>2946686</td>\n",
       "      <td>381226741</td>\n",
       "      <td>philips avent bpa free contemporary freeflow p...</td>\n",
       "      <td>Baby</td>\n",
       "      <td>4</td>\n",
       "      <td>the baby sucking only love, time is not</td>\n",
       "      <td>Yes, the baby sucking only love, time is not long</td>\n",
       "      <td>9/17/2014</td>\n",
       "      <td>N</td>\n",
       "      <td>Y</td>\n",
       "    </tr>\n",
       "    <tr>\n",
       "      <th>22321</th>\n",
       "      <td>10159677</td>\n",
       "      <td>381226741</td>\n",
       "      <td>philips avent bpa free contemporary freeflow p...</td>\n",
       "      <td>Baby</td>\n",
       "      <td>5</td>\n",
       "      <td>Five Stars</td>\n",
       "      <td>good</td>\n",
       "      <td>8/8/2014</td>\n",
       "      <td>N</td>\n",
       "      <td>Y</td>\n",
       "    </tr>\n",
       "    <tr>\n",
       "      <th>22331</th>\n",
       "      <td>10159677</td>\n",
       "      <td>381226741</td>\n",
       "      <td>philips avent bpa free contemporary freeflow p...</td>\n",
       "      <td>Baby</td>\n",
       "      <td>5</td>\n",
       "      <td>Five Stars</td>\n",
       "      <td>good</td>\n",
       "      <td>8/8/2014</td>\n",
       "      <td>N</td>\n",
       "      <td>Y</td>\n",
       "    </tr>\n",
       "    <tr>\n",
       "      <th>15320</th>\n",
       "      <td>11470803</td>\n",
       "      <td>955350284</td>\n",
       "      <td>dr. brown's prevent classic pacifier</td>\n",
       "      <td>Baby</td>\n",
       "      <td>5</td>\n",
       "      <td>Five Stars</td>\n",
       "      <td>excellent product</td>\n",
       "      <td>5/18/2015</td>\n",
       "      <td>N</td>\n",
       "      <td>Y</td>\n",
       "    </tr>\n",
       "    <tr>\n",
       "      <th>15330</th>\n",
       "      <td>11470803</td>\n",
       "      <td>955350284</td>\n",
       "      <td>dr. brown's prevent classic pacifier</td>\n",
       "      <td>Baby</td>\n",
       "      <td>5</td>\n",
       "      <td>Five Stars</td>\n",
       "      <td>excellent product</td>\n",
       "      <td>5/18/2015</td>\n",
       "      <td>N</td>\n",
       "      <td>Y</td>\n",
       "    </tr>\n",
       "    <tr>\n",
       "      <th>15319</th>\n",
       "      <td>11470803</td>\n",
       "      <td>667171015</td>\n",
       "      <td>fctry - baby pacifiers</td>\n",
       "      <td>Baby</td>\n",
       "      <td>5</td>\n",
       "      <td>Five Stars</td>\n",
       "      <td>excellent product</td>\n",
       "      <td>5/18/2015</td>\n",
       "      <td>N</td>\n",
       "      <td>Y</td>\n",
       "    </tr>\n",
       "    <tr>\n",
       "      <th>15345</th>\n",
       "      <td>11470803</td>\n",
       "      <td>667171015</td>\n",
       "      <td>fctry - baby pacifiers</td>\n",
       "      <td>Baby</td>\n",
       "      <td>5</td>\n",
       "      <td>Five Stars</td>\n",
       "      <td>excellent product</td>\n",
       "      <td>5/18/2015</td>\n",
       "      <td>N</td>\n",
       "      <td>Y</td>\n",
       "    </tr>\n",
       "    <tr>\n",
       "      <th>14763</th>\n",
       "      <td>36921962</td>\n",
       "      <td>181638405</td>\n",
       "      <td>chicco pacifier hard shield</td>\n",
       "      <td>Baby</td>\n",
       "      <td>5</td>\n",
       "      <td>Five Stars</td>\n",
       "      <td>Both are little ones love these.</td>\n",
       "      <td>6/14/2015</td>\n",
       "      <td>N</td>\n",
       "      <td>Y</td>\n",
       "    </tr>\n",
       "    <tr>\n",
       "      <th>14764</th>\n",
       "      <td>36921962</td>\n",
       "      <td>181638405</td>\n",
       "      <td>chicco pacifier hard shield</td>\n",
       "      <td>Baby</td>\n",
       "      <td>5</td>\n",
       "      <td>Five Stars</td>\n",
       "      <td>Both are little ones love these.</td>\n",
       "      <td>6/14/2015</td>\n",
       "      <td>N</td>\n",
       "      <td>Y</td>\n",
       "    </tr>\n",
       "    <tr>\n",
       "      <th>12863</th>\n",
       "      <td>37142894</td>\n",
       "      <td>423421857</td>\n",
       "      <td>danby 0.7 cu.ft. countertop microwave</td>\n",
       "      <td>Major Appliances</td>\n",
       "      <td>1</td>\n",
       "      <td>Dont buy Danby!!! Bad customer service and mic...</td>\n",
       "      <td>I received a Danby Microwave for Christmas 201...</td>\n",
       "      <td>6/12/2012</td>\n",
       "      <td>N</td>\n",
       "      <td>N</td>\n",
       "    </tr>\n",
       "    <tr>\n",
       "      <th>12864</th>\n",
       "      <td>37142894</td>\n",
       "      <td>423421857</td>\n",
       "      <td>danby 0.7 cu.ft. countertop microwave</td>\n",
       "      <td>Major Appliances</td>\n",
       "      <td>1</td>\n",
       "      <td>Dont buy Danby!!! Bad customer service and mic...</td>\n",
       "      <td>I received a Danby Microwave for Christmas 201...</td>\n",
       "      <td>6/12/2012</td>\n",
       "      <td>N</td>\n",
       "      <td>N</td>\n",
       "    </tr>\n",
       "    <tr>\n",
       "      <th>12865</th>\n",
       "      <td>37142894</td>\n",
       "      <td>423421857</td>\n",
       "      <td>danby 0.7 cu.ft. countertop microwave</td>\n",
       "      <td>Major Appliances</td>\n",
       "      <td>1</td>\n",
       "      <td>Dont buy Danby!!! Bad customer service and mic...</td>\n",
       "      <td>I received a Danby Microwave for Christmas 201...</td>\n",
       "      <td>6/12/2012</td>\n",
       "      <td>N</td>\n",
       "      <td>N</td>\n",
       "    </tr>\n",
       "    <tr>\n",
       "      <th>12866</th>\n",
       "      <td>37142894</td>\n",
       "      <td>423421857</td>\n",
       "      <td>danby 0.7 cu.ft. countertop microwave</td>\n",
       "      <td>Major Appliances</td>\n",
       "      <td>1</td>\n",
       "      <td>Dont buy Danby!!! Bad customer service and mic...</td>\n",
       "      <td>I received a Danby Microwave for Christmas 201...</td>\n",
       "      <td>6/12/2012</td>\n",
       "      <td>N</td>\n",
       "      <td>N</td>\n",
       "    </tr>\n",
       "  </tbody>\n",
       "</table>\n",
       "</div>"
      ],
      "text/plain": [
       "       customer_id  product_parent  \\\n",
       "18023      1792224        68041075   \n",
       "18065      1792224        68041075   \n",
       "21356      2946686       381226741   \n",
       "21376      2946686       381226741   \n",
       "22321     10159677       381226741   \n",
       "22331     10159677       381226741   \n",
       "15320     11470803       955350284   \n",
       "15330     11470803       955350284   \n",
       "15319     11470803       667171015   \n",
       "15345     11470803       667171015   \n",
       "14763     36921962       181638405   \n",
       "14764     36921962       181638405   \n",
       "12863     37142894       423421857   \n",
       "12864     37142894       423421857   \n",
       "12865     37142894       423421857   \n",
       "12866     37142894       423421857   \n",
       "\n",
       "                                           product_title  product_category  \\\n",
       "18023  baby dipper feeding set - new larger 6-ounce n...              baby   \n",
       "18065  baby dipper feeding set - new larger 6-ounce n...              baby   \n",
       "21356  philips avent bpa free contemporary freeflow p...              Baby   \n",
       "21376  philips avent bpa free contemporary freeflow p...              Baby   \n",
       "22321  philips avent bpa free contemporary freeflow p...              Baby   \n",
       "22331  philips avent bpa free contemporary freeflow p...              Baby   \n",
       "15320               dr. brown's prevent classic pacifier              Baby   \n",
       "15330               dr. brown's prevent classic pacifier              Baby   \n",
       "15319                             fctry - baby pacifiers              Baby   \n",
       "15345                             fctry - baby pacifiers              Baby   \n",
       "14763                        chicco pacifier hard shield              Baby   \n",
       "14764                        chicco pacifier hard shield              Baby   \n",
       "12863              danby 0.7 cu.ft. countertop microwave  Major Appliances   \n",
       "12864              danby 0.7 cu.ft. countertop microwave  Major Appliances   \n",
       "12865              danby 0.7 cu.ft. countertop microwave  Major Appliances   \n",
       "12866              danby 0.7 cu.ft. countertop microwave  Major Appliances   \n",
       "\n",
       "       star_rating                                    review_headline  \\\n",
       "18023            5                                         five stars   \n",
       "18065            5                                         five stars   \n",
       "21356            4            the baby sucking only love, time is not   \n",
       "21376            4            the baby sucking only love, time is not   \n",
       "22321            5                                         Five Stars   \n",
       "22331            5                                         Five Stars   \n",
       "15320            5                                         Five Stars   \n",
       "15330            5                                         Five Stars   \n",
       "15319            5                                         Five Stars   \n",
       "15345            5                                         Five Stars   \n",
       "14763            5                                         Five Stars   \n",
       "14764            5                                         Five Stars   \n",
       "12863            1  Dont buy Danby!!! Bad customer service and mic...   \n",
       "12864            1  Dont buy Danby!!! Bad customer service and mic...   \n",
       "12865            1  Dont buy Danby!!! Bad customer service and mic...   \n",
       "12866            1  Dont buy Danby!!! Bad customer service and mic...   \n",
       "\n",
       "                                             review_body review_date vine  \\\n",
       "18023              very happy. i have both blue and pink    2/4/2015    n   \n",
       "18065              very happy. i have both blue and pink    2/4/2015    n   \n",
       "21356  Yes, the baby sucking only love, time is not long   9/17/2014    N   \n",
       "21376  Yes, the baby sucking only love, time is not long   9/17/2014    N   \n",
       "22321                                               good    8/8/2014    N   \n",
       "22331                                               good    8/8/2014    N   \n",
       "15320                                  excellent product   5/18/2015    N   \n",
       "15330                                  excellent product   5/18/2015    N   \n",
       "15319                                  excellent product   5/18/2015    N   \n",
       "15345                                  excellent product   5/18/2015    N   \n",
       "14763                   Both are little ones love these.   6/14/2015    N   \n",
       "14764                   Both are little ones love these.   6/14/2015    N   \n",
       "12863  I received a Danby Microwave for Christmas 201...   6/12/2012    N   \n",
       "12864  I received a Danby Microwave for Christmas 201...   6/12/2012    N   \n",
       "12865  I received a Danby Microwave for Christmas 201...   6/12/2012    N   \n",
       "12866  I received a Danby Microwave for Christmas 201...   6/12/2012    N   \n",
       "\n",
       "      verified_purchase  \n",
       "18023                 y  \n",
       "18065                 y  \n",
       "21356                 Y  \n",
       "21376                 Y  \n",
       "22321                 Y  \n",
       "22331                 Y  \n",
       "15320                 Y  \n",
       "15330                 Y  \n",
       "15319                 Y  \n",
       "15345                 Y  \n",
       "14763                 Y  \n",
       "14764                 Y  \n",
       "12863                 N  \n",
       "12864                 N  \n",
       "12865                 N  \n",
       "12866                 N  "
      ]
     },
     "execution_count": 15,
     "metadata": {},
     "output_type": "execute_result"
    }
   ],
   "source": [
    "new = df[['customer_id', 'product_parent', 'product_title', 'product_category',\n",
    "          'star_rating', 'review_headline', 'review_body', 'review_date', 'vine', 'verified_purchase']]\n",
    "dup = new.iloc[np.array(new.duplicated(keep =0)), :].copy()\n",
    "dup.sort_values(by = ['customer_id', 'product_category', 'product_title'], inplace=True)\n",
    "dup"
   ]
  },
  {
   "cell_type": "code",
   "execution_count": 16,
   "metadata": {},
   "outputs": [],
   "source": [
    "df.drop([12864, 12865, 12866],axis=0, inplace=True)\n",
    "df.reset_index(drop=True, inplace=True)"
   ]
  },
  {
   "cell_type": "markdown",
   "metadata": {},
   "source": [
    "## Strings' capitalization"
   ]
  },
  {
   "cell_type": "code",
   "execution_count": 17,
   "metadata": {},
   "outputs": [],
   "source": [
    "df.vine = df.vine.str.upper()\n",
    "df.verified_purchase = df.verified_purchase.str.lower()\n",
    "df.product_category = df.product_category.str.lower()"
   ]
  },
  {
   "cell_type": "code",
   "execution_count": 18,
   "metadata": {},
   "outputs": [
    {
     "data": {
      "text/plain": [
       "N    31690\n",
       "Y      331\n",
       "Name: vine, dtype: int64"
      ]
     },
     "execution_count": 18,
     "metadata": {},
     "output_type": "execute_result"
    }
   ],
   "source": [
    "df.vine.value_counts()"
   ]
  },
  {
   "cell_type": "code",
   "execution_count": 19,
   "metadata": {},
   "outputs": [
    {
     "data": {
      "text/plain": [
       "y    27167\n",
       "n     4854\n",
       "Name: verified_purchase, dtype: int64"
      ]
     },
     "execution_count": 19,
     "metadata": {},
     "output_type": "execute_result"
    }
   ],
   "source": [
    "df.verified_purchase.value_counts()"
   ]
  },
  {
   "cell_type": "code",
   "execution_count": 20,
   "metadata": {},
   "outputs": [
    {
     "data": {
      "text/plain": [
       "baby                18939\n",
       "beauty              11470\n",
       "major appliances     1612\n",
       "Name: product_category, dtype: int64"
      ]
     },
     "execution_count": 20,
     "metadata": {},
     "output_type": "execute_result"
    }
   ],
   "source": [
    "df.product_category.value_counts()"
   ]
  },
  {
   "cell_type": "markdown",
   "metadata": {},
   "source": [
    "## Datetime format"
   ]
  },
  {
   "cell_type": "markdown",
   "metadata": {},
   "source": [
    "- Also can be set by pandas.read_csv"
   ]
  },
  {
   "cell_type": "code",
   "execution_count": 21,
   "metadata": {},
   "outputs": [],
   "source": [
    "date = []\n",
    "for i in df.index:\n",
    "    date.append(parser.parse(df.loc[i, 'review_date']))\n",
    "df.review_date = date"
   ]
  },
  {
   "cell_type": "markdown",
   "metadata": {},
   "source": [
    "# Exploratory data analysis"
   ]
  },
  {
   "cell_type": "markdown",
   "metadata": {},
   "source": [
    "## Generate more numeric features"
   ]
  },
  {
   "cell_type": "markdown",
   "metadata": {},
   "source": [
    "### helpful ratio & unhelpful ratio"
   ]
  },
  {
   "cell_type": "markdown",
   "metadata": {},
   "source": [
    "- Assuming everyone voted in a fair manner on whether others’ reviews are helpful, so the voting results are objective and accurate.\n",
    "- Assuming that the reviews written by Customers who were authorized as Amazon Vine Voices are accurate and can be over-weighted."
   ]
  },
  {
   "cell_type": "markdown",
   "metadata": {},
   "source": [
    "We combine some ratio-like features. For example, we divide the ’total_votes’ by ’helpful_votes’ to get ’helpful_ratio’."
   ]
  },
  {
   "cell_type": "code",
   "execution_count": 22,
   "metadata": {},
   "outputs": [],
   "source": [
    "zero_index = df.query('total_votes == 0').index\n",
    "other_index = list(set(df.index) - set(zero_index))\n",
    "\n",
    "df.loc[zero_index, 'helpful_ratio'] = 0\n",
    "df.loc[zero_index, 'unhelpful_ratio'] = 0\n",
    "for i in other_index:\n",
    "    df.loc[i, 'helpful_ratio'] = df.loc[i, 'helpful_votes'] / df.loc[i, 'total_votes']\n",
    "    df.loc[i, 'unhelpful_ratio'] = 1 - df.loc[i, 'helpful_ratio']"
   ]
  },
  {
   "cell_type": "markdown",
   "metadata": {},
   "source": [
    "### Measure the importance of helpful ratio"
   ]
  },
  {
   "cell_type": "markdown",
   "metadata": {},
   "source": [
    "After which Entropy-weight method and TOPSIS method will be introduced"
   ]
  },
  {
   "cell_type": "code",
   "execution_count": 23,
   "metadata": {},
   "outputs": [
    {
     "name": "stdout",
     "output_type": "stream",
     "text": [
      "(3699, 16)\n",
      "(7771, 16)\n"
     ]
    }
   ],
   "source": [
    "print(df.query('helpful_ratio != 0 & product_category == \"beauty\"').shape)\n",
    "print(df.query('helpful_ratio == 0 & product_category == \"beauty\"').shape)"
   ]
  },
  {
   "cell_type": "markdown",
   "metadata": {},
   "source": [
    "## Urgent need to sentiment features"
   ]
  },
  {
   "cell_type": "markdown",
   "metadata": {},
   "source": [
    "What we need more from texts ?\n",
    "\n",
    "- Positive, Negtive, Neutral\n",
    "- Understandable, Complexity\n",
    "- One-sided, Two-sided\n",
    "- Official, Unofficial\n",
    "- Helpness"
   ]
  },
  {
   "cell_type": "code",
   "execution_count": 24,
   "metadata": {},
   "outputs": [],
   "source": [
    "data = list(df.review_body)\n",
    "Analyzer = SentimentIntensityAnalyzer()\n",
    "sentiment = {'neg': [], 'neu': [], 'pos': [], 'compound': []}\n",
    "for sentence in data:\n",
    "    score_dict = Analyzer.polarity_scores(sentence)\n",
    "    for key, value in score_dict.items():\n",
    "        sentiment[key].append(np.abs(value))"
   ]
  },
  {
   "cell_type": "code",
   "execution_count": 25,
   "metadata": {},
   "outputs": [],
   "source": [
    "arg = []\n",
    "senti = pd.DataFrame(sentiment)\n",
    "senti.columns = ['neg','neu','pos','understandable']\n",
    "map_dict = {0: 'one', 1: 'two', 2: 'one'}\n",
    "for i in senti.index:\n",
    "    arg.append(np.argmax(senti.iloc[i,:3]))\n",
    "    senti.loc[i, 'sides'] = map_dict[arg[-1]]\n",
    "\n",
    "senti['complexity'] = np.exp(-senti.understandable)\n",
    "\n",
    "sides = pd.DataFrame(OneHotEncoder().fit_transform(np.array(senti['sides']).reshape(-1,1)).toarray())\n",
    "sides.columns = ['one_side', 'two_sides']\n",
    "\n",
    "argframe = pd.DataFrame(arg)\n",
    "argframe.columns = ['attitude_target']\n",
    "\n",
    "atti = pd.DataFrame(OneHotEncoder().fit_transform(np.array(arg).reshape(-1,1)).toarray())\n",
    "atti.columns = ['att_neg', 'att_neu', 'att_pos']\n",
    "\n",
    "vine = pd.DataFrame(OneHotEncoder().fit_transform(np.array(df['vine']).reshape(-1,1)).toarray())\n",
    "vine.columns = ['vine_N', 'vine_Y']\n",
    "\n",
    "veri = pd.DataFrame(OneHotEncoder().fit_transform(np.array(df['verified_purchase']).reshape(-1,1)).toarray())\n",
    "veri.columns = ['veri_n', 'veri_y']\n",
    "\n",
    "senti.drop('sides', axis=1, inplace=True)\n",
    "\n",
    "df = pd.concat([df, senti, argframe, sides, atti, vine, veri], axis=1)"
   ]
  },
  {
   "cell_type": "code",
   "execution_count": 26,
   "metadata": {},
   "outputs": [],
   "source": [
    "helpness = pd.read_csv(f'{processing_data_path}/helpfulness.csv')\n",
    "\n",
    "helpness = helpness.loc[:, ['plt','entropyRank.score']].copy()\n",
    "helpness.columns = ['review_id', 'helpness']\n",
    "\n",
    "df = df.merge(helpness, on='review_id', how='outer')\n",
    "helpnow = SimpleImputer(strategy='median').fit_transform(np.array(df.helpness).reshape(-1, 1))\n",
    "\n",
    "helpnow = MinMaxScaler().fit_transform(helpnow)\n",
    "df.helpness = helpnow"
   ]
  },
  {
   "cell_type": "code",
   "execution_count": 27,
   "metadata": {
    "scrolled": true
   },
   "outputs": [
    {
     "data": {
      "text/plain": [
       "(32021, 32)"
      ]
     },
     "execution_count": 27,
     "metadata": {},
     "output_type": "execute_result"
    }
   ],
   "source": [
    "df.shape"
   ]
  },
  {
   "cell_type": "code",
   "execution_count": 28,
   "metadata": {
    "scrolled": false
   },
   "outputs": [
    {
     "data": {
      "text/html": [
       "<div>\n",
       "<style scoped>\n",
       "    .dataframe tbody tr th:only-of-type {\n",
       "        vertical-align: middle;\n",
       "    }\n",
       "\n",
       "    .dataframe tbody tr th {\n",
       "        vertical-align: top;\n",
       "    }\n",
       "\n",
       "    .dataframe thead th {\n",
       "        text-align: right;\n",
       "    }\n",
       "</style>\n",
       "<table border=\"1\" class=\"dataframe\">\n",
       "  <thead>\n",
       "    <tr style=\"text-align: right;\">\n",
       "      <th></th>\n",
       "      <th>review_body</th>\n",
       "      <th>review_date</th>\n",
       "      <th>helpful_ratio</th>\n",
       "      <th>unhelpful_ratio</th>\n",
       "      <th>neg</th>\n",
       "      <th>neu</th>\n",
       "      <th>pos</th>\n",
       "      <th>understandable</th>\n",
       "      <th>complexity</th>\n",
       "      <th>attitude_target</th>\n",
       "      <th>one_side</th>\n",
       "      <th>two_sides</th>\n",
       "      <th>att_neg</th>\n",
       "      <th>att_neu</th>\n",
       "      <th>att_pos</th>\n",
       "      <th>vine_N</th>\n",
       "      <th>vine_Y</th>\n",
       "      <th>veri_n</th>\n",
       "      <th>veri_y</th>\n",
       "      <th>helpness</th>\n",
       "    </tr>\n",
       "  </thead>\n",
       "  <tbody>\n",
       "    <tr>\n",
       "      <th>0</th>\n",
       "      <td>Works great!</td>\n",
       "      <td>2015-08-31</td>\n",
       "      <td>0.0</td>\n",
       "      <td>0.0</td>\n",
       "      <td>0.000</td>\n",
       "      <td>0.185</td>\n",
       "      <td>0.815</td>\n",
       "      <td>0.6588</td>\n",
       "      <td>0.517472</td>\n",
       "      <td>2</td>\n",
       "      <td>1.0</td>\n",
       "      <td>0.0</td>\n",
       "      <td>0.0</td>\n",
       "      <td>0.0</td>\n",
       "      <td>1.0</td>\n",
       "      <td>1.0</td>\n",
       "      <td>0.0</td>\n",
       "      <td>0.0</td>\n",
       "      <td>1.0</td>\n",
       "      <td>0.041772</td>\n",
       "    </tr>\n",
       "    <tr>\n",
       "      <th>1</th>\n",
       "      <td>This dries my hair faster that bigger, more po...</td>\n",
       "      <td>2015-08-31</td>\n",
       "      <td>0.0</td>\n",
       "      <td>0.0</td>\n",
       "      <td>0.000</td>\n",
       "      <td>0.777</td>\n",
       "      <td>0.223</td>\n",
       "      <td>0.9562</td>\n",
       "      <td>0.384351</td>\n",
       "      <td>1</td>\n",
       "      <td>0.0</td>\n",
       "      <td>1.0</td>\n",
       "      <td>0.0</td>\n",
       "      <td>1.0</td>\n",
       "      <td>0.0</td>\n",
       "      <td>1.0</td>\n",
       "      <td>0.0</td>\n",
       "      <td>0.0</td>\n",
       "      <td>1.0</td>\n",
       "      <td>0.054008</td>\n",
       "    </tr>\n",
       "    <tr>\n",
       "      <th>2</th>\n",
       "      <td>Love this dryer!</td>\n",
       "      <td>2015-08-31</td>\n",
       "      <td>0.0</td>\n",
       "      <td>1.0</td>\n",
       "      <td>0.000</td>\n",
       "      <td>0.308</td>\n",
       "      <td>0.692</td>\n",
       "      <td>0.6696</td>\n",
       "      <td>0.511913</td>\n",
       "      <td>2</td>\n",
       "      <td>1.0</td>\n",
       "      <td>0.0</td>\n",
       "      <td>0.0</td>\n",
       "      <td>0.0</td>\n",
       "      <td>1.0</td>\n",
       "      <td>1.0</td>\n",
       "      <td>0.0</td>\n",
       "      <td>0.0</td>\n",
       "      <td>1.0</td>\n",
       "      <td>0.042235</td>\n",
       "    </tr>\n",
       "    <tr>\n",
       "      <th>3</th>\n",
       "      <td>styling hair in style</td>\n",
       "      <td>2015-08-31</td>\n",
       "      <td>0.0</td>\n",
       "      <td>0.0</td>\n",
       "      <td>0.000</td>\n",
       "      <td>1.000</td>\n",
       "      <td>0.000</td>\n",
       "      <td>0.0000</td>\n",
       "      <td>1.000000</td>\n",
       "      <td>1</td>\n",
       "      <td>0.0</td>\n",
       "      <td>1.0</td>\n",
       "      <td>0.0</td>\n",
       "      <td>1.0</td>\n",
       "      <td>0.0</td>\n",
       "      <td>1.0</td>\n",
       "      <td>0.0</td>\n",
       "      <td>0.0</td>\n",
       "      <td>1.0</td>\n",
       "      <td>0.010019</td>\n",
       "    </tr>\n",
       "    <tr>\n",
       "      <th>4</th>\n",
       "      <td>I just got this last week. I think's great. Th...</td>\n",
       "      <td>2015-08-31</td>\n",
       "      <td>0.0</td>\n",
       "      <td>0.0</td>\n",
       "      <td>0.000</td>\n",
       "      <td>0.562</td>\n",
       "      <td>0.438</td>\n",
       "      <td>0.8316</td>\n",
       "      <td>0.435352</td>\n",
       "      <td>1</td>\n",
       "      <td>0.0</td>\n",
       "      <td>1.0</td>\n",
       "      <td>0.0</td>\n",
       "      <td>1.0</td>\n",
       "      <td>0.0</td>\n",
       "      <td>1.0</td>\n",
       "      <td>0.0</td>\n",
       "      <td>1.0</td>\n",
       "      <td>0.0</td>\n",
       "      <td>0.038982</td>\n",
       "    </tr>\n",
       "    <tr>\n",
       "      <th>...</th>\n",
       "      <td>...</td>\n",
       "      <td>...</td>\n",
       "      <td>...</td>\n",
       "      <td>...</td>\n",
       "      <td>...</td>\n",
       "      <td>...</td>\n",
       "      <td>...</td>\n",
       "      <td>...</td>\n",
       "      <td>...</td>\n",
       "      <td>...</td>\n",
       "      <td>...</td>\n",
       "      <td>...</td>\n",
       "      <td>...</td>\n",
       "      <td>...</td>\n",
       "      <td>...</td>\n",
       "      <td>...</td>\n",
       "      <td>...</td>\n",
       "      <td>...</td>\n",
       "      <td>...</td>\n",
       "      <td>...</td>\n",
       "    </tr>\n",
       "    <tr>\n",
       "      <th>32016</th>\n",
       "      <td>We have been using the bottle warmer and have ...</td>\n",
       "      <td>2004-05-24</td>\n",
       "      <td>0.0</td>\n",
       "      <td>0.0</td>\n",
       "      <td>0.000</td>\n",
       "      <td>0.807</td>\n",
       "      <td>0.193</td>\n",
       "      <td>0.9186</td>\n",
       "      <td>0.399077</td>\n",
       "      <td>1</td>\n",
       "      <td>0.0</td>\n",
       "      <td>1.0</td>\n",
       "      <td>0.0</td>\n",
       "      <td>1.0</td>\n",
       "      <td>0.0</td>\n",
       "      <td>1.0</td>\n",
       "      <td>0.0</td>\n",
       "      <td>1.0</td>\n",
       "      <td>0.0</td>\n",
       "      <td>0.042495</td>\n",
       "    </tr>\n",
       "    <tr>\n",
       "      <th>32017</th>\n",
       "      <td>This isn't the greatest product ever invented,...</td>\n",
       "      <td>2004-04-04</td>\n",
       "      <td>1.0</td>\n",
       "      <td>0.0</td>\n",
       "      <td>0.095</td>\n",
       "      <td>0.781</td>\n",
       "      <td>0.124</td>\n",
       "      <td>0.3645</td>\n",
       "      <td>0.694544</td>\n",
       "      <td>1</td>\n",
       "      <td>0.0</td>\n",
       "      <td>1.0</td>\n",
       "      <td>0.0</td>\n",
       "      <td>1.0</td>\n",
       "      <td>0.0</td>\n",
       "      <td>1.0</td>\n",
       "      <td>0.0</td>\n",
       "      <td>1.0</td>\n",
       "      <td>0.0</td>\n",
       "      <td>0.335531</td>\n",
       "    </tr>\n",
       "    <tr>\n",
       "      <th>32018</th>\n",
       "      <td>I love this bottle warmer.  After researching ...</td>\n",
       "      <td>2004-04-04</td>\n",
       "      <td>0.0</td>\n",
       "      <td>0.0</td>\n",
       "      <td>0.000</td>\n",
       "      <td>0.576</td>\n",
       "      <td>0.424</td>\n",
       "      <td>0.9829</td>\n",
       "      <td>0.374224</td>\n",
       "      <td>1</td>\n",
       "      <td>0.0</td>\n",
       "      <td>1.0</td>\n",
       "      <td>0.0</td>\n",
       "      <td>1.0</td>\n",
       "      <td>0.0</td>\n",
       "      <td>1.0</td>\n",
       "      <td>0.0</td>\n",
       "      <td>1.0</td>\n",
       "      <td>0.0</td>\n",
       "      <td>0.045043</td>\n",
       "    </tr>\n",
       "    <tr>\n",
       "      <th>32019</th>\n",
       "      <td>I finally broke down and opened this shower gi...</td>\n",
       "      <td>2003-12-02</td>\n",
       "      <td>1.0</td>\n",
       "      <td>0.0</td>\n",
       "      <td>0.063</td>\n",
       "      <td>0.754</td>\n",
       "      <td>0.183</td>\n",
       "      <td>0.9200</td>\n",
       "      <td>0.398519</td>\n",
       "      <td>1</td>\n",
       "      <td>0.0</td>\n",
       "      <td>1.0</td>\n",
       "      <td>0.0</td>\n",
       "      <td>1.0</td>\n",
       "      <td>0.0</td>\n",
       "      <td>1.0</td>\n",
       "      <td>0.0</td>\n",
       "      <td>1.0</td>\n",
       "      <td>0.0</td>\n",
       "      <td>0.360334</td>\n",
       "    </tr>\n",
       "    <tr>\n",
       "      <th>32020</th>\n",
       "      <td>We bought this bottle warmer two weeks ago bec...</td>\n",
       "      <td>2003-04-27</td>\n",
       "      <td>0.0</td>\n",
       "      <td>0.0</td>\n",
       "      <td>0.031</td>\n",
       "      <td>0.888</td>\n",
       "      <td>0.081</td>\n",
       "      <td>0.5835</td>\n",
       "      <td>0.557942</td>\n",
       "      <td>1</td>\n",
       "      <td>0.0</td>\n",
       "      <td>1.0</td>\n",
       "      <td>0.0</td>\n",
       "      <td>1.0</td>\n",
       "      <td>0.0</td>\n",
       "      <td>1.0</td>\n",
       "      <td>0.0</td>\n",
       "      <td>1.0</td>\n",
       "      <td>0.0</td>\n",
       "      <td>0.028488</td>\n",
       "    </tr>\n",
       "  </tbody>\n",
       "</table>\n",
       "<p>32021 rows × 20 columns</p>\n",
       "</div>"
      ],
      "text/plain": [
       "                                             review_body review_date  \\\n",
       "0                                           Works great!  2015-08-31   \n",
       "1      This dries my hair faster that bigger, more po...  2015-08-31   \n",
       "2                                       Love this dryer!  2015-08-31   \n",
       "3                                  styling hair in style  2015-08-31   \n",
       "4      I just got this last week. I think's great. Th...  2015-08-31   \n",
       "...                                                  ...         ...   \n",
       "32016  We have been using the bottle warmer and have ...  2004-05-24   \n",
       "32017  This isn't the greatest product ever invented,...  2004-04-04   \n",
       "32018  I love this bottle warmer.  After researching ...  2004-04-04   \n",
       "32019  I finally broke down and opened this shower gi...  2003-12-02   \n",
       "32020  We bought this bottle warmer two weeks ago bec...  2003-04-27   \n",
       "\n",
       "       helpful_ratio  unhelpful_ratio    neg    neu    pos  understandable  \\\n",
       "0                0.0              0.0  0.000  0.185  0.815          0.6588   \n",
       "1                0.0              0.0  0.000  0.777  0.223          0.9562   \n",
       "2                0.0              1.0  0.000  0.308  0.692          0.6696   \n",
       "3                0.0              0.0  0.000  1.000  0.000          0.0000   \n",
       "4                0.0              0.0  0.000  0.562  0.438          0.8316   \n",
       "...              ...              ...    ...    ...    ...             ...   \n",
       "32016            0.0              0.0  0.000  0.807  0.193          0.9186   \n",
       "32017            1.0              0.0  0.095  0.781  0.124          0.3645   \n",
       "32018            0.0              0.0  0.000  0.576  0.424          0.9829   \n",
       "32019            1.0              0.0  0.063  0.754  0.183          0.9200   \n",
       "32020            0.0              0.0  0.031  0.888  0.081          0.5835   \n",
       "\n",
       "       complexity  attitude_target  one_side  two_sides  att_neg  att_neu  \\\n",
       "0        0.517472                2       1.0        0.0      0.0      0.0   \n",
       "1        0.384351                1       0.0        1.0      0.0      1.0   \n",
       "2        0.511913                2       1.0        0.0      0.0      0.0   \n",
       "3        1.000000                1       0.0        1.0      0.0      1.0   \n",
       "4        0.435352                1       0.0        1.0      0.0      1.0   \n",
       "...           ...              ...       ...        ...      ...      ...   \n",
       "32016    0.399077                1       0.0        1.0      0.0      1.0   \n",
       "32017    0.694544                1       0.0        1.0      0.0      1.0   \n",
       "32018    0.374224                1       0.0        1.0      0.0      1.0   \n",
       "32019    0.398519                1       0.0        1.0      0.0      1.0   \n",
       "32020    0.557942                1       0.0        1.0      0.0      1.0   \n",
       "\n",
       "       att_pos  vine_N  vine_Y  veri_n  veri_y  helpness  \n",
       "0          1.0     1.0     0.0     0.0     1.0  0.041772  \n",
       "1          0.0     1.0     0.0     0.0     1.0  0.054008  \n",
       "2          1.0     1.0     0.0     0.0     1.0  0.042235  \n",
       "3          0.0     1.0     0.0     0.0     1.0  0.010019  \n",
       "4          0.0     1.0     0.0     1.0     0.0  0.038982  \n",
       "...        ...     ...     ...     ...     ...       ...  \n",
       "32016      0.0     1.0     0.0     1.0     0.0  0.042495  \n",
       "32017      0.0     1.0     0.0     1.0     0.0  0.335531  \n",
       "32018      0.0     1.0     0.0     1.0     0.0  0.045043  \n",
       "32019      0.0     1.0     0.0     1.0     0.0  0.360334  \n",
       "32020      0.0     1.0     0.0     1.0     0.0  0.028488  \n",
       "\n",
       "[32021 rows x 20 columns]"
      ]
     },
     "execution_count": 28,
     "metadata": {},
     "output_type": "execute_result"
    }
   ],
   "source": [
    "df.iloc[:, 12:]"
   ]
  },
  {
   "cell_type": "code",
   "execution_count": 29,
   "metadata": {},
   "outputs": [],
   "source": [
    "df.to_csv(f'{processing_data_path}/df.csv', index=False)"
   ]
  },
  {
   "cell_type": "markdown",
   "metadata": {},
   "source": [
    "# Gain insights from several observations"
   ]
  },
  {
   "cell_type": "markdown",
   "metadata": {},
   "source": [
    "Several papers discuss about adjusting star rating in a weighted method according to the degree of deviation from mean and standard deviation."
   ]
  },
  {
   "cell_type": "markdown",
   "metadata": {},
   "source": [
    "## Observe the differences between the three products"
   ]
  },
  {
   "cell_type": "code",
   "execution_count": 30,
   "metadata": {
    "scrolled": false
   },
   "outputs": [
    {
     "data": {
      "text/plain": [
       "product_category\n",
       "baby                AxesSubplot(0.125,0.125;0.775x0.755)\n",
       "beauty              AxesSubplot(0.125,0.125;0.775x0.755)\n",
       "major appliances    AxesSubplot(0.125,0.125;0.775x0.755)\n",
       "Name: star_rating, dtype: object"
      ]
     },
     "execution_count": 30,
     "metadata": {},
     "output_type": "execute_result"
    },
    {
     "data": {
      "image/png": "[encoded data removed]",
      "text/plain": [
       "<Figure size 432x288 with 1 Axes>"
      ]
     },
     "metadata": {
      "image/png": {
       "height": 248,
       "width": 388
      },
      "needs_background": "light"
     },
     "output_type": "display_data"
    }
   ],
   "source": [
    "df.groupby(by=['product_category'])['star_rating'].hist()"
   ]
  },
  {
   "cell_type": "markdown",
   "metadata": {},
   "source": [
    "## Observe the differences between experts' and non-experts' scores"
   ]
  },
  {
   "cell_type": "code",
   "execution_count": 31,
   "metadata": {},
   "outputs": [
    {
     "data": {
      "text/plain": [
       "product_category\n",
       "baby                4.304557\n",
       "beauty              4.116042\n",
       "major appliances    3.449132\n",
       "Name: star_rating, dtype: float64"
      ]
     },
     "execution_count": 31,
     "metadata": {},
     "output_type": "execute_result"
    }
   ],
   "source": [
    "df.groupby(by=['product_category'])['star_rating'].mean()"
   ]
  },
  {
   "cell_type": "code",
   "execution_count": 32,
   "metadata": {},
   "outputs": [
    {
     "data": {
      "text/plain": [
       "product_category\n",
       "baby                1.190426\n",
       "beauty              1.300333\n",
       "major appliances    1.643381\n",
       "Name: star_rating, dtype: float64"
      ]
     },
     "execution_count": 32,
     "metadata": {},
     "output_type": "execute_result"
    }
   ],
   "source": [
    "df.groupby(by=['product_category'])['star_rating'].std()"
   ]
  },
  {
   "cell_type": "code",
   "execution_count": 33,
   "metadata": {},
   "outputs": [
    {
     "data": {
      "text/plain": [
       "vine  product_category\n",
       "N     baby                18806\n",
       "      beauty              11291\n",
       "      major appliances     1593\n",
       "Y     baby                  133\n",
       "      beauty                179\n",
       "      major appliances       19\n",
       "Name: star_rating, dtype: int64"
      ]
     },
     "execution_count": 33,
     "metadata": {},
     "output_type": "execute_result"
    }
   ],
   "source": [
    "df.groupby(by=['vine', 'product_category'])['star_rating'].count()"
   ]
  },
  {
   "cell_type": "code",
   "execution_count": 34,
   "metadata": {},
   "outputs": [
    {
     "data": {
      "text/plain": [
       "vine  product_category\n",
       "N     baby                4.304371\n",
       "      beauty              4.110885\n",
       "      major appliances    3.438167\n",
       "Y     baby                4.330827\n",
       "      beauty              4.441341\n",
       "      major appliances    4.368421\n",
       "Name: star_rating, dtype: float64"
      ]
     },
     "execution_count": 34,
     "metadata": {},
     "output_type": "execute_result"
    }
   ],
   "source": [
    "df.groupby(by=['vine', 'product_category'])['star_rating'].mean()"
   ]
  },
  {
   "cell_type": "code",
   "execution_count": 35,
   "metadata": {
    "scrolled": true
   },
   "outputs": [
    {
     "data": {
      "text/plain": [
       "vine  product_category\n",
       "N     baby                1.192277\n",
       "      beauty              1.306493\n",
       "      major appliances    1.648465\n",
       "Y     baby                0.893765\n",
       "      beauty              0.757487\n",
       "      major appliances    0.683986\n",
       "Name: star_rating, dtype: float64"
      ]
     },
     "execution_count": 35,
     "metadata": {},
     "output_type": "execute_result"
    }
   ],
   "source": [
    "df.groupby(by=['vine', 'product_category'])['star_rating'].std()"
   ]
  },
  {
   "cell_type": "markdown",
   "metadata": {},
   "source": [
    "## Observe the length of reviews"
   ]
  },
  {
   "cell_type": "code",
   "execution_count": 36,
   "metadata": {
    "scrolled": false
   },
   "outputs": [
    {
     "name": "stdout",
     "output_type": "stream",
     "text": [
      "common value：9\n"
     ]
    },
    {
     "data": {
      "text/plain": [
       "Text(0.5, 1.0, \"Reviews' length of hair dryer\")"
      ]
     },
     "execution_count": 36,
     "metadata": {},
     "output_type": "execute_result"
    },
    {
     "data": {
      "image/png": "[encoded data removed]",
      "text/plain": [
       "<Figure size 432x288 with 1 Axes>"
      ]
     },
     "metadata": {
      "image/png": {
       "height": 265,
       "width": 381
      },
      "needs_background": "light"
     },
     "output_type": "display_data"
    }
   ],
   "source": [
    "df1 = df.query('product_category == \"beauty\"')\n",
    "\n",
    "length = []\n",
    "for i in df1.index:\n",
    "    lenn = len(df1.loc[i, 'review_body'])\n",
    "    length.append(lenn)\n",
    "length_less = np.array(length)[np.array(length) < 1000]\n",
    "print(f'common value：{np.argmax(np.bincount(length))}')\n",
    "pd.DataFrame(length_less).hist()\n",
    "plt.plot([np.mean(length)]*3300, range(3300),label = 'average')\n",
    "plt.legend()\n",
    "plt.title(\"Reviews' length of hair dryer\")"
   ]
  },
  {
   "cell_type": "code",
   "execution_count": 37,
   "metadata": {
    "hide_input": false,
    "scrolled": true
   },
   "outputs": [
    {
     "name": "stdout",
     "output_type": "stream",
     "text": [
      "common value：9\n"
     ]
    },
    {
     "data": {
      "text/plain": [
       "Text(0.5, 1.0, \"Reviews' length of baby pacifier\")"
      ]
     },
     "execution_count": 37,
     "metadata": {},
     "output_type": "execute_result"
    },
    {
     "data": {
      "image/png": "[encoded data removed]",
      "text/plain": [
       "<Figure size 432x288 with 1 Axes>"
      ]
     },
     "metadata": {
      "image/png": {
       "height": 265,
       "width": 381
      },
      "needs_background": "light"
     },
     "output_type": "display_data"
    }
   ],
   "source": [
    "df1 = df.query('product_category == \"baby\"')\n",
    "\n",
    "length = []\n",
    "for i in df1.index:\n",
    "    lenn = len(df1.loc[i, 'review_body'])\n",
    "    length.append(lenn)\n",
    "length_less = np.array(length)[np.array(length) < 1000]\n",
    "print(f'common value：{np.argmax(np.bincount(length))}')\n",
    "pd.DataFrame(length_less).hist()\n",
    "plt.plot([np.mean(length)]*5400, range(5400),label = 'average')\n",
    "plt.legend()\n",
    "plt.title(\"Reviews' length of baby pacifier\")"
   ]
  },
  {
   "cell_type": "code",
   "execution_count": 38,
   "metadata": {
    "hide_input": false,
    "scrolled": true
   },
   "outputs": [
    {
     "name": "stdout",
     "output_type": "stream",
     "text": [
      "common value：12\n"
     ]
    },
    {
     "data": {
      "text/plain": [
       "Text(0.5, 1.0, \"Reviews' length of microwave ovens\")"
      ]
     },
     "execution_count": 38,
     "metadata": {},
     "output_type": "execute_result"
    },
    {
     "data": {
      "image/png": "[encoded data removed]",
      "text/plain": [
       "<Figure size 432x288 with 1 Axes>"
      ]
     },
     "metadata": {
      "image/png": {
       "height": 265,
       "width": 375
      },
      "needs_background": "light"
     },
     "output_type": "display_data"
    }
   ],
   "source": [
    "df1 = df.query('product_category == \"major appliances\"')\n",
    "\n",
    "length = []\n",
    "for i in df1.index:\n",
    "    lenn = len(df1.loc[i, 'review_body'])\n",
    "    length.append(lenn)\n",
    "length_less = np.array(length)[np.array(length) < 1000]\n",
    "print(f'common value：{np.argmax(np.bincount(length))}')\n",
    "pd.DataFrame(length_less).hist()\n",
    "plt.plot([np.mean(length)]*350, range(350),label = 'average')\n",
    "plt.legend()\n",
    "plt.title(\"Reviews' length of microwave ovens\")"
   ]
  },
  {
   "cell_type": "markdown",
   "metadata": {},
   "source": [
    "# Further processing"
   ]
  },
  {
   "cell_type": "code",
   "execution_count": 39,
   "metadata": {},
   "outputs": [
    {
     "data": {
      "text/plain": [
       "(32021, 32)"
      ]
     },
     "execution_count": 39,
     "metadata": {},
     "output_type": "execute_result"
    }
   ],
   "source": [
    "df = pd.read_csv(f'{processing_data_path}/df.csv')\n",
    "df.shape"
   ]
  },
  {
   "cell_type": "markdown",
   "metadata": {},
   "source": [
    "## Seperate by categories"
   ]
  },
  {
   "cell_type": "code",
   "execution_count": 40,
   "metadata": {},
   "outputs": [],
   "source": [
    "pc = df.query('product_category == \"baby\"')\n",
    "dy = df.query('product_category == \"beauty\"')\n",
    "wv = df.query('product_category == \"major appliances\"')\n",
    "pc.sort_values(by=['product_parent'], inplace=True)  # 5432 rows\n",
    "dy.sort_values(by=['product_parent'], inplace=True)  # 473 rows\n",
    "wv.sort_values(by=['product_parent'], inplace=True)  # 55 rows"
   ]
  },
  {
   "cell_type": "markdown",
   "metadata": {},
   "source": [
    "## Group by product parent"
   ]
  },
  {
   "cell_type": "code",
   "execution_count": 41,
   "metadata": {},
   "outputs": [],
   "source": [
    "def GroupAnalysis(frame):\n",
    "    frame_sales = pd.DataFrame(frame.product_parent.value_counts())\n",
    "    frame_sales.columns = ['sales']\n",
    "\n",
    "    frame_mean = frame.groupby(by='product_parent')[['star_rating','neg','pos','neu','helpness']].mean()\n",
    "    frame_mean = pd.DataFrame(frame_mean)\n",
    "    frame_mean.index = [i for i in frame_mean.index]\n",
    "\n",
    "    frame_sum = frame.groupby(by='product_parent')[['vine_Y','veri_y','two_sides']].sum()\n",
    "                                            #'att_neg','att_neu','att_pos']].sum()\n",
    "    frame_sum = pd.DataFrame(frame_sum)\n",
    "    frame_sum.index = [i for i in frame_sum.index]\n",
    "\n",
    "    frame_reg = pd.concat([frame_sales, frame_mean, frame_sum], axis=1)\n",
    "\n",
    "    num = np.array(list(frame_reg.vine_Y + frame_reg.veri_y))\n",
    "    txt = np.array(list(frame_reg.two_sides + frame_reg.helpness))\n",
    "    rate = np.array(list(frame_reg.star_rating))\n",
    "    if num.shape[0] > 1:\n",
    "        num = (MinMaxScaler().fit_transform(num.reshape(-1, 1))).flatten()\n",
    "        txt = (MinMaxScaler().fit_transform(txt.reshape(-1, 1))).flatten()\n",
    "        num += np.random.randn(num.shape[0]) * 0.03\n",
    "        exp_num = MinMaxScaler().fit_transform((rate*np.exp(num)).flatten().reshape(-1, 1))\n",
    "        exp_txt = MinMaxScaler().fit_transform((rate*np.exp(txt)).flatten().reshape(-1, 1))\n",
    "        rate_exp_num = pd.DataFrame(5*exp_num, index=frame_reg.index, columns=['rate_exp_num'])\n",
    "        rate_exp_txt = pd.DataFrame(5*exp_txt, index=frame_reg.index, columns=['rate_exp_txt'])\n",
    "    else:\n",
    "        exp_num = rate * np.exp(num)\n",
    "        exp_txt = rate * np.exp(txt)\n",
    "        rate_exp_num = pd.DataFrame(min(exp_num,5), index=frame_reg.index, columns=['rate_exp_num'])\n",
    "        rate_exp_txt = pd.DataFrame(min(exp_txt,5), index=frame_reg.index, columns=['rate_exp_txt'])\n",
    "    \n",
    "    new_frame = pd.concat([frame_reg, rate_exp_num, rate_exp_txt], axis=1)\n",
    "    new_frame.index.name = 'index'\n",
    "    return new_frame"
   ]
  },
  {
   "cell_type": "code",
   "execution_count": 42,
   "metadata": {},
   "outputs": [],
   "source": [
    "pc_reg = GroupAnalysis(pc)\n",
    "dy_reg = GroupAnalysis(dy)\n",
    "wv_reg = GroupAnalysis(wv)"
   ]
  },
  {
   "cell_type": "code",
   "execution_count": 43,
   "metadata": {},
   "outputs": [],
   "source": [
    "pc_reg.to_csv(f'{processing_data_path}/pc_reg.csv')\n",
    "dy_reg.to_csv(f'{processing_data_path}/dy_reg.csv')\n",
    "wv_reg.to_csv(f'{processing_data_path}/wv_reg.csv')"
   ]
  },
  {
   "cell_type": "markdown",
   "metadata": {},
   "source": [
    "## Visualizations of origin star rating mechanism"
   ]
  },
  {
   "cell_type": "markdown",
   "metadata": {},
   "source": [
    "- Among various extraction ways we have, star_rating is the most basic and intuitive feature to show a consumer’s feeling, which is also the first layer of Amazon’s mechanism.\n",
    "- We can generate a scatter plot between the sales and mean_star_rating of each hair dryer, aggregated by product_parent.\n",
    "- However, the plot turn out to be meaningless as all the points gathered together around a high star_rating while sales are very different.\n",
    "- Therefore, review-based measures are essential and needed to be added"
   ]
  },
  {
   "cell_type": "code",
   "execution_count": 44,
   "metadata": {},
   "outputs": [
    {
     "data": {
      "text/plain": [
       "<matplotlib.axes._subplots.AxesSubplot at 0x1a3d0bb1d0>"
      ]
     },
     "execution_count": 44,
     "metadata": {},
     "output_type": "execute_result"
    },
    {
     "data": {
      "image/png": "[encoded data removed]",
      "text/plain": [
       "<Figure size 432x288 with 1 Axes>"
      ]
     },
     "metadata": {
      "image/png": {
       "height": 281,
       "width": 391
      },
      "needs_background": "light"
     },
     "output_type": "display_data"
    }
   ],
   "source": [
    "pc_reg.plot(x='star_rating', y='sales', kind='scatter', title='baby pacifer')"
   ]
  },
  {
   "cell_type": "code",
   "execution_count": 45,
   "metadata": {
    "hide_input": false
   },
   "outputs": [
    {
     "data": {
      "text/plain": [
       "<matplotlib.axes._subplots.AxesSubplot at 0x1a3bbb2190>"
      ]
     },
     "execution_count": 45,
     "metadata": {},
     "output_type": "execute_result"
    },
    {
     "data": {
      "image/png": "[encoded data removed]",
      "text/plain": [
       "<Figure size 432x288 with 1 Axes>"
      ]
     },
     "metadata": {
      "image/png": {
       "height": 281,
       "width": 391
      },
      "needs_background": "light"
     },
     "output_type": "display_data"
    }
   ],
   "source": [
    "dy_reg.plot(x='star_rating', y='sales', kind='scatter', title='hair dryer')"
   ]
  },
  {
   "cell_type": "code",
   "execution_count": 46,
   "metadata": {
    "hide_input": false
   },
   "outputs": [
    {
     "data": {
      "text/plain": [
       "<matplotlib.axes._subplots.AxesSubplot at 0x1a3bbfb690>"
      ]
     },
     "execution_count": 46,
     "metadata": {},
     "output_type": "execute_result"
    },
    {
     "data": {
      "image/png": "[encoded data removed]",
      "text/plain": [
       "<Figure size 432x288 with 1 Axes>"
      ]
     },
     "metadata": {
      "image/png": {
       "height": 281,
       "width": 391
      },
      "needs_background": "light"
     },
     "output_type": "display_data"
    }
   ],
   "source": [
    "wv_reg.plot(x='star_rating', y='sales', kind='scatter', title='microwave oven')"
   ]
  },
  {
   "cell_type": "markdown",
   "metadata": {},
   "source": [
    "# Most Informative Measures to Track\n",
    "\n",
    "- Sales & two weighted rating variables\n",
    "\n",
    "## Linear Regression"
   ]
  },
  {
   "cell_type": "code",
   "execution_count": 47,
   "metadata": {
    "scrolled": false
   },
   "outputs": [],
   "source": [
    "pc_reg = pd.read_csv(f'{processing_data_path}/pc_reg.csv', index_col='index')\n",
    "dy_reg = pd.read_csv(f'{processing_data_path}/dy_reg.csv', index_col='index')\n",
    "wv_reg = pd.read_csv(f'{processing_data_path}/wv_reg.csv', index_col='index')"
   ]
  },
  {
   "cell_type": "code",
   "execution_count": 48,
   "metadata": {},
   "outputs": [],
   "source": [
    "reg_models = {\n",
    "    'linear': LinearRegression(),\n",
    "    #'ridge': Ridge(), \n",
    "    #'lasso': Lasso(),\n",
    "    #'logistic': LogisticRegression(),\n",
    "    #'elastic': ElasticNet(),\n",
    "    #'sgd': SGDRegressor(), \n",
    "    #'bayes': BayesianRidge(),\n",
    "    #'RF': RandomForestRegressor(),\n",
    "    #'GB': GradientBoostingRegressor(),\n",
    "    #'ET': ExtraTreesRegressor(),\n",
    "    #'AB': AdaBoostRegressor(),\n",
    "    #'SVR': SVR(),\n",
    "    #'LinerSVR': LinearSVR(),\n",
    "    #'DT': DecisionTreeRegressor(),\n",
    "    #'KernelRidge': KernelRidge(),\n",
    "    #'XGB': XGBRegressor(),\n",
    "    #'Stacking': StackingRegressor()\n",
    "}"
   ]
  },
  {
   "cell_type": "code",
   "execution_count": 49,
   "metadata": {},
   "outputs": [],
   "source": [
    "def DataTransformer(frame, features='reputation'):\n",
    "    col = ['sales','star_rating','rate_exp_num','rate_exp_txt'] if features == 'reputation' else features\n",
    "    data = frame.loc[:, col].copy()\n",
    "    label = data[col[0]].copy()\n",
    "    train = data.drop(col[0], axis=1)\n",
    "    encoder = MinMaxScaler()\n",
    "    train_scaled = encoder.fit_transform(train)\n",
    "    return train_scaled, train.columns, label"
   ]
  },
  {
   "cell_type": "code",
   "execution_count": 50,
   "metadata": {},
   "outputs": [
    {
     "data": {
      "text/plain": [
       "dict_keys(['explained_variance', 'r2', 'max_error', 'neg_median_absolute_error', 'neg_mean_absolute_error', 'neg_mean_squared_error', 'neg_mean_squared_log_error', 'neg_root_mean_squared_error', 'neg_mean_poisson_deviance', 'neg_mean_gamma_deviance', 'accuracy', 'roc_auc', 'roc_auc_ovr', 'roc_auc_ovo', 'roc_auc_ovr_weighted', 'roc_auc_ovo_weighted', 'balanced_accuracy', 'average_precision', 'neg_log_loss', 'neg_brier_score', 'adjusted_rand_score', 'homogeneity_score', 'completeness_score', 'v_measure_score', 'mutual_info_score', 'adjusted_mutual_info_score', 'normalized_mutual_info_score', 'fowlkes_mallows_score', 'precision', 'precision_macro', 'precision_micro', 'precision_samples', 'precision_weighted', 'recall', 'recall_macro', 'recall_micro', 'recall_samples', 'recall_weighted', 'f1', 'f1_macro', 'f1_micro', 'f1_samples', 'f1_weighted', 'jaccard', 'jaccard_macro', 'jaccard_micro', 'jaccard_samples', 'jaccard_weighted'])"
      ]
     },
     "execution_count": 50,
     "metadata": {},
     "output_type": "execute_result"
    }
   ],
   "source": [
    "sklearn.metrics.SCORERS.keys()"
   ]
  },
  {
   "cell_type": "code",
   "execution_count": 51,
   "metadata": {},
   "outputs": [],
   "source": [
    "def model_cv(X, y, n_splits=5):\n",
    "    kfold = KFold(n_splits=n_splits, shuffle=False)\n",
    "    model_cv_results = pd.DataFrame()\n",
    "    \n",
    "    for name, model in reg_models.items():\n",
    "        score = cross_val_score(model, X, y, scoring='neg_mean_squared_error', cv=kfold, n_jobs=1)\n",
    "        print(f\"{name:>20s}{score.mean():14.6f}{score.std():10.4f}\") # check cv schedule during training\n",
    "        model_cv_results = model_cv_results.append(pd.DataFrame([(name, score.mean(), score.std())]))\n",
    "\n",
    "    model_cv_results.columns = ['name', 'mean', 'std']\n",
    "    model_cv_results.sort_values(by=['mean'], ascending=False, inplace=True)\n",
    "    model_cv_results.reset_index(drop=True, inplace=True)\n",
    "    print(\"------------------------------\"*2)\n",
    "    return model_cv_results"
   ]
  },
  {
   "cell_type": "code",
   "execution_count": 52,
   "metadata": {},
   "outputs": [],
   "source": [
    "def Regression(frame=wv_reg, features='reputation', n_splits=5, words=None):\n",
    "    print(words)\n",
    "    # Data transforming\n",
    "    train_scaled, train_columns, label = DataTransformer(frame, features=features)\n",
    "    \n",
    "    # Linear Regression\n",
    "    model_cv_results = model_cv(train_scaled, label, n_splits=n_splits)\n",
    "    \n",
    "    # coef & intercept of Linear Regression\n",
    "    model1 = LinearRegression().fit(train_scaled, label)\n",
    "    feature_important = model1.coef_\n",
    "    attribs = train_columns\n",
    "    print(f'intercept = {model1.intercept_}')\n",
    "    print(sorted(zip(feature_important, attribs), reverse=True))\n",
    "    print(\"------------------------------\"*2)\n",
    "    \n",
    "    # Feature importance of RandomForest\n",
    "    model2 = RandomForestRegressor(random_state=4).fit(train_scaled, label)\n",
    "    feature_important = model2.feature_importances_\n",
    "    attribs = train_columns\n",
    "    print(f'Feature importance:\\n{sorted(zip(feature_important, attribs), reverse=True)}')\n",
    "    print(\"=========================================================\"*2)"
   ]
  },
  {
   "cell_type": "code",
   "execution_count": 53,
   "metadata": {},
   "outputs": [
    {
     "name": "stdout",
     "output_type": "stream",
     "text": [
      "microwave oven\n",
      "              linear   -219.444444  331.0208\n",
      "------------------------------------------------------------\n",
      "intercept = 13.3120133766331\n",
      "[(828.3402576297593, 'rate_exp_txt'), (-254.59268556761933, 'star_rating'), (-258.8356202109579, 'rate_exp_num')]\n",
      "------------------------------------------------------------\n",
      "Feature importance:\n",
      "[(0.47960375902734736, 'rate_exp_txt'), (0.402800329531911, 'rate_exp_num'), (0.11759591144074161, 'star_rating')]\n",
      "==================================================================================================================\n",
      "hair dryer\n",
      "              linear   -239.227423  150.0860\n",
      "------------------------------------------------------------\n",
      "intercept = 5.040186110086793\n",
      "[(945.0438987858911, 'rate_exp_txt'), (51.7376292320606, 'rate_exp_num'), (-380.9052551178753, 'star_rating')]\n",
      "------------------------------------------------------------\n",
      "Feature importance:\n",
      "[(0.7782913877138876, 'rate_exp_txt'), (0.1499111012653097, 'rate_exp_num'), (0.07179751102080262, 'star_rating')]\n",
      "==================================================================================================================\n",
      "baby pacifier\n",
      "              linear    -18.568779   21.1010\n",
      "------------------------------------------------------------\n",
      "intercept = 1.282392766568996\n",
      "[(1392.4703975949324, 'rate_exp_txt'), (-1.6864446413927499, 'rate_exp_num'), (-493.50118437150826, 'star_rating')]\n",
      "------------------------------------------------------------\n",
      "Feature importance:\n",
      "[(0.5996864778263215, 'rate_exp_txt'), (0.31848687218970245, 'rate_exp_num'), (0.08182664998397611, 'star_rating')]\n",
      "==================================================================================================================\n"
     ]
    }
   ],
   "source": [
    "Regression(frame = wv_reg, words='microwave oven')\n",
    "Regression(frame = dy_reg, words='hair dryer')\n",
    "Regression(frame = pc_reg, words='baby pacifier')"
   ]
  },
  {
   "cell_type": "markdown",
   "metadata": {},
   "source": [
    "## Analysis & diagnosis with R"
   ]
  },
  {
   "cell_type": "code",
   "execution_count": 54,
   "metadata": {},
   "outputs": [
    {
     "data": {
      "text/plain": [
       "\n",
       "Call:\n",
       "lm(formula = sales ~ star_rating + rate_exp_num + rate_exp_txt, \n",
       "    data = df)\n",
       "\n",
       "Residuals:\n",
       "     Min       1Q   Median       3Q      Max \n",
       "-12.3833  -3.7496  -0.8107   3.5267  29.2323 \n",
       "\n",
       "Coefficients:\n",
       "             Estimate Std. Error t value Pr(>|t|)    \n",
       "(Intercept)    76.960      2.919  26.364  < 2e-16 ***\n",
       "star_rating   -63.648      1.474 -43.183  < 2e-16 ***\n",
       "rate_exp_num  -51.767     12.317  -4.203 0.000106 ***\n",
       "rate_exp_txt  165.668     12.557  13.193  < 2e-16 ***\n",
       "---\n",
       "Signif. codes:  0 ‘***’ 0.001 ‘**’ 0.01 ‘*’ 0.05 ‘.’ 0.1 ‘ ’ 1\n",
       "\n",
       "Residual standard error: 6.989 on 51 degrees of freedom\n",
       "Multiple R-squared:  0.9845,\tAdjusted R-squared:  0.9836 \n",
       "F-statistic:  1082 on 3 and 51 DF,  p-value: < 2.2e-16\n",
       "\n"
      ]
     },
     "metadata": {},
     "output_type": "display_data"
    }
   ],
   "source": [
    "%%R\n",
    "df <- read.table('./Data/data-processing/wv_reg.csv', header = T, sep=',')\n",
    "\n",
    "ggplot(data = df) + \n",
    "  geom_point(mapping = aes(x = star_rating, y = sales)) + \n",
    "  geom_smooth(mapping = aes(x = star_rating, y = sales), se = F)\n",
    "ggsave(filename = \"./Results/Regression-results/wv_star_rating.png\",width = 12,height = 9)\n",
    "\n",
    "ggplot(data = df) + \n",
    "  geom_point(mapping = aes(x = rate_exp_num, y = sales)) + \n",
    "  geom_smooth(mapping = aes(x = rate_exp_num, y = sales), se = F)\n",
    "ggsave(filename = \"./Results/Regression-results/wv_rate_exp_num.png\",width = 12,height = 9)\n",
    "\n",
    "ggplot(data = df) + \n",
    "  geom_point(mapping = aes(x = rate_exp_txt, y = sales)) + \n",
    "  geom_smooth(mapping = aes(x = rate_exp_txt, y = sales), se = F)\n",
    "ggsave(filename = \"./Results/Regression-results/wv_rate_exp_txt.png\",width = 12,height = 9)\n",
    "\n",
    "fit <- lm(sales ~ star_rating + rate_exp_num + rate_exp_txt, data=df)\n",
    "summary(fit)"
   ]
  },
  {
   "cell_type": "code",
   "execution_count": 55,
   "metadata": {
    "scrolled": false
   },
   "outputs": [
    {
     "data": {
      "image/png": "[encoded data removed]"
     },
     "metadata": {},
     "output_type": "display_data"
    }
   ],
   "source": [
    "%%R\n",
    "par(mfrow=c(2,2))\n",
    "plot(fit)"
   ]
  },
  {
   "cell_type": "code",
   "execution_count": 56,
   "metadata": {},
   "outputs": [
    {
     "data": {
      "text/plain": [
       "\n",
       "Call:\n",
       "lm(formula = sales ~ star_rating + rate_exp_num + rate_exp_txt, \n",
       "    data = df)\n",
       "\n",
       "Residuals:\n",
       "     Min       1Q   Median       3Q      Max \n",
       "-107.729   -4.439   -4.008    0.520  105.474 \n",
       "\n",
       "Coefficients:\n",
       "             Estimate Std. Error t value Pr(>|t|)    \n",
       "(Intercept)   100.266      2.287   43.85   <2e-16 ***\n",
       "star_rating   -95.226      1.024  -93.04   <2e-16 ***\n",
       "rate_exp_num   10.348      8.083    1.28    0.201    \n",
       "rate_exp_txt  189.009      8.303   22.76   <2e-16 ***\n",
       "---\n",
       "Signif. codes:  0 ‘***’ 0.001 ‘**’ 0.01 ‘*’ 0.05 ‘.’ 0.1 ‘ ’ 1\n",
       "\n",
       "Residual standard error: 13.11 on 469 degrees of freedom\n",
       "Multiple R-squared:  0.9625,\tAdjusted R-squared:  0.9622 \n",
       "F-statistic:  4007 on 3 and 469 DF,  p-value: < 2.2e-16\n",
       "\n"
      ]
     },
     "metadata": {},
     "output_type": "display_data"
    }
   ],
   "source": [
    "%%R\n",
    "df <- read.table('./Data/data-processing/dy_reg.csv', header = T, sep=',')\n",
    "\n",
    "ggplot(data = df) + \n",
    "  geom_point(mapping = aes(x = star_rating, y = sales)) + \n",
    "  geom_smooth(mapping = aes(x = star_rating, y = sales), se = F)\n",
    "ggsave(filename = \"./Results/Regression-results/dy_star_rating.png\",width = 12,height = 9)\n",
    "\n",
    "ggplot(data = df) + \n",
    "  geom_point(mapping = aes(x = rate_exp_num, y = sales)) + \n",
    "  geom_smooth(mapping = aes(x = rate_exp_num, y = sales), se = F)\n",
    "ggsave(filename = \"./Results/Regression-results/dy_rate_exp_num.png\",width = 12,height = 9)\n",
    "\n",
    "ggplot(data = df) + \n",
    "  geom_point(mapping = aes(x = rate_exp_txt, y = sales)) + \n",
    "  geom_smooth(mapping = aes(x = rate_exp_txt, y = sales), se = F)\n",
    "ggsave(filename = \"./Results/Regression-results/dy_rate_exp_txt.png\",width = 12,height = 9)\n",
    "\n",
    "fit <- lm(sales ~ star_rating + rate_exp_num + rate_exp_txt, data=df)\n",
    "summary(fit)"
   ]
  },
  {
   "cell_type": "code",
   "execution_count": 57,
   "metadata": {
    "scrolled": false
   },
   "outputs": [
    {
     "data": {
      "image/png": "[encoded data removed]"
     },
     "metadata": {},
     "output_type": "display_data"
    }
   ],
   "source": [
    "%%R\n",
    "par(mfrow=c(2,2))\n",
    "plot(fit)"
   ]
  },
  {
   "cell_type": "code",
   "execution_count": 58,
   "metadata": {},
   "outputs": [
    {
     "data": {
      "text/plain": [
       "\n",
       "Call:\n",
       "lm(formula = sales ~ star_rating + rate_exp_num + rate_exp_txt, \n",
       "    data = df)\n",
       "\n",
       "Residuals:\n",
       "     Min       1Q   Median       3Q      Max \n",
       "-124.809   -0.660   -0.594   -0.298   64.069 \n",
       "\n",
       "Coefficients:\n",
       "              Estimate Std. Error  t value Pr(>|t|)    \n",
       "(Intercept)   124.6577     0.3403  366.278   <2e-16 ***\n",
       "star_rating  -123.3753     0.3003 -410.775   <2e-16 ***\n",
       "rate_exp_num   -0.3373     0.8061   -0.418    0.676    \n",
       "rate_exp_txt  278.4941     1.0420  267.258   <2e-16 ***\n",
       "---\n",
       "Signif. codes:  0 ‘***’ 0.001 ‘**’ 0.01 ‘*’ 0.05 ‘.’ 0.1 ‘ ’ 1\n",
       "\n",
       "Residual standard error: 3.426 on 5428 degrees of freedom\n",
       "Multiple R-squared:  0.9695,\tAdjusted R-squared:  0.9695 \n",
       "F-statistic: 5.756e+04 on 3 and 5428 DF,  p-value: < 2.2e-16\n",
       "\n"
      ]
     },
     "metadata": {},
     "output_type": "display_data"
    }
   ],
   "source": [
    "%%R\n",
    "df <- read.table('./Data/data-processing/pc_reg.csv', header = T, sep=',')\n",
    "\n",
    "ggplot(data = df) + \n",
    "  geom_point(mapping = aes(x = star_rating, y = sales)) + \n",
    "  geom_smooth(mapping = aes(x = star_rating, y = sales), se = F)\n",
    "ggsave(filename = \"./Results/Regression-results/pc_star_rating.png\",width = 12,height = 9)\n",
    "\n",
    "ggplot(data = df) + \n",
    "  geom_point(mapping = aes(x = rate_exp_num, y = sales)) + \n",
    "  geom_smooth(mapping = aes(x = rate_exp_num, y = sales), se = F)\n",
    "ggsave(filename = \"./Results/Regression-results/pc_rate_exp_num.png\",width = 12,height = 9)\n",
    "\n",
    "ggplot(data = df) + \n",
    "  geom_point(mapping = aes(x = rate_exp_txt, y = sales)) + \n",
    "  geom_smooth(mapping = aes(x = rate_exp_txt, y = sales), se = F)\n",
    "ggsave(filename = \"./Results/Regression-results/pc_rate_exp_txt.png\",width = 12,height = 9)\n",
    "\n",
    "fit <- lm(sales ~ star_rating + rate_exp_num + rate_exp_txt, data=df)\n",
    "summary(fit)"
   ]
  },
  {
   "cell_type": "code",
   "execution_count": 59,
   "metadata": {
    "scrolled": false
   },
   "outputs": [
    {
     "data": {
      "image/png": "[encoded data removed]"
     },
     "metadata": {},
     "output_type": "display_data"
    }
   ],
   "source": [
    "%%R\n",
    "par(mfrow=c(2,2))\n",
    "plot(fit)"
   ]
  },
  {
   "cell_type": "markdown",
   "metadata": {},
   "source": [
    "# Measures that Suggests Reputation Trends\n",
    "\n",
    "## Time Flow for  Products' Reputations"
   ]
  },
  {
   "cell_type": "code",
   "execution_count": 60,
   "metadata": {},
   "outputs": [],
   "source": [
    "def TimeFlow(product):\n",
    "    df = product.copy()\n",
    "\n",
    "    date = []\n",
    "    for i in df.index:\n",
    "        date.append(parser.parse(df.loc[i, 'review_date']))\n",
    "    df.review_date = date\n",
    "\n",
    "    year_month = []\n",
    "    for i in df.index:\n",
    "        year_month.append((df.loc[i, 'review_date'].year, df.loc[i, 'review_date'].month))\n",
    "\n",
    "    df.index = year_month\n",
    "    index = pd.MultiIndex.from_tuples(year_month)\n",
    "    df = df.reindex(index)\n",
    "    \n",
    "    year = list(set(df.index.get_level_values(0)))\n",
    "    month = list(set(df.index.get_level_values(1)))\n",
    "    frame_date = pd.DataFrame()\n",
    "    iindex = [(i, j) for i in year for j in month]\n",
    "    for i in range(len(year)):\n",
    "        for j in range(len(month)):\n",
    "            index_year = year[:i+1]\n",
    "            index_month = month[:j+1]\n",
    "            first = df.loc[(year[:i+1],month[:j+1]), :]\n",
    "            if i > 0:\n",
    "                secon = df.loc[(year[:i],month[j+1:]), :]\n",
    "                group = GroupAnalysis(first.append(secon))\n",
    "                star_mean = pd.DataFrame(np.mean(group)[-2:])\n",
    "                frame_date = frame_date.append(star_mean)\n",
    "            else:\n",
    "                group = GroupAnalysis(first)\n",
    "                if group.shape[0] > 0:\n",
    "                    star_mean = pd.DataFrame(np.mean(group)[-2:])\n",
    "                    frame_date = frame_date.append(star_mean)\n",
    "                    \n",
    "    fd = pd.DataFrame(np.array(frame_date).reshape(-1, 2))\n",
    "    iin = iindex[-fd.shape[0]:]\n",
    "    fd.index = iin\n",
    "    fd.columns = ['rate_exp_num', 'rate_exp_txt']\n",
    "    fd = fd.reindex(pd.MultiIndex.from_tuples(iin, names=('year', 'month')))\n",
    "\n",
    "    return fd"
   ]
  },
  {
   "cell_type": "code",
   "execution_count": 61,
   "metadata": {},
   "outputs": [
    {
     "data": {
      "text/html": [
       "<div>\n",
       "<style scoped>\n",
       "    .dataframe tbody tr th:only-of-type {\n",
       "        vertical-align: middle;\n",
       "    }\n",
       "\n",
       "    .dataframe tbody tr th {\n",
       "        vertical-align: top;\n",
       "    }\n",
       "\n",
       "    .dataframe thead th {\n",
       "        text-align: right;\n",
       "    }\n",
       "</style>\n",
       "<table border=\"1\" class=\"dataframe\">\n",
       "  <thead>\n",
       "    <tr style=\"text-align: right;\">\n",
       "      <th></th>\n",
       "      <th></th>\n",
       "      <th>rate_exp_num</th>\n",
       "      <th>rate_exp_txt</th>\n",
       "    </tr>\n",
       "    <tr>\n",
       "      <th>year</th>\n",
       "      <th>month</th>\n",
       "      <th></th>\n",
       "      <th></th>\n",
       "    </tr>\n",
       "  </thead>\n",
       "  <tbody>\n",
       "    <tr>\n",
       "      <th rowspan=\"5\" valign=\"top\">2003</th>\n",
       "      <th>4</th>\n",
       "      <td>2.000000</td>\n",
       "      <td>5.000000</td>\n",
       "    </tr>\n",
       "    <tr>\n",
       "      <th>5</th>\n",
       "      <td>2.000000</td>\n",
       "      <td>5.000000</td>\n",
       "    </tr>\n",
       "    <tr>\n",
       "      <th>6</th>\n",
       "      <td>2.000000</td>\n",
       "      <td>5.000000</td>\n",
       "    </tr>\n",
       "    <tr>\n",
       "      <th>7</th>\n",
       "      <td>2.000000</td>\n",
       "      <td>5.000000</td>\n",
       "    </tr>\n",
       "    <tr>\n",
       "      <th>8</th>\n",
       "      <td>2.000000</td>\n",
       "      <td>5.000000</td>\n",
       "    </tr>\n",
       "    <tr>\n",
       "      <th>...</th>\n",
       "      <th>...</th>\n",
       "      <td>...</td>\n",
       "      <td>...</td>\n",
       "    </tr>\n",
       "    <tr>\n",
       "      <th rowspan=\"5\" valign=\"top\">2015</th>\n",
       "      <th>8</th>\n",
       "      <td>1.437399</td>\n",
       "      <td>1.406424</td>\n",
       "    </tr>\n",
       "    <tr>\n",
       "      <th>9</th>\n",
       "      <td>1.336469</td>\n",
       "      <td>1.406424</td>\n",
       "    </tr>\n",
       "    <tr>\n",
       "      <th>10</th>\n",
       "      <td>1.377966</td>\n",
       "      <td>1.406424</td>\n",
       "    </tr>\n",
       "    <tr>\n",
       "      <th>11</th>\n",
       "      <td>1.500868</td>\n",
       "      <td>1.406424</td>\n",
       "    </tr>\n",
       "    <tr>\n",
       "      <th>12</th>\n",
       "      <td>1.381263</td>\n",
       "      <td>1.406424</td>\n",
       "    </tr>\n",
       "  </tbody>\n",
       "</table>\n",
       "<p>153 rows × 2 columns</p>\n",
       "</div>"
      ],
      "text/plain": [
       "            rate_exp_num  rate_exp_txt\n",
       "year month                            \n",
       "2003 4          2.000000      5.000000\n",
       "     5          2.000000      5.000000\n",
       "     6          2.000000      5.000000\n",
       "     7          2.000000      5.000000\n",
       "     8          2.000000      5.000000\n",
       "...                  ...           ...\n",
       "2015 8          1.437399      1.406424\n",
       "     9          1.336469      1.406424\n",
       "     10         1.377966      1.406424\n",
       "     11         1.500868      1.406424\n",
       "     12         1.381263      1.406424\n",
       "\n",
       "[153 rows x 2 columns]"
      ]
     },
     "execution_count": 61,
     "metadata": {},
     "output_type": "execute_result"
    }
   ],
   "source": [
    "time_pc = TimeFlow(pc)\n",
    "time_pc.to_csv(f'{processing_data_path}/pc_time_star.csv')\n",
    "time_pc"
   ]
  },
  {
   "cell_type": "code",
   "execution_count": 62,
   "metadata": {},
   "outputs": [
    {
     "data": {
      "text/html": [
       "<div>\n",
       "<style scoped>\n",
       "    .dataframe tbody tr th:only-of-type {\n",
       "        vertical-align: middle;\n",
       "    }\n",
       "\n",
       "    .dataframe tbody tr th {\n",
       "        vertical-align: top;\n",
       "    }\n",
       "\n",
       "    .dataframe thead th {\n",
       "        text-align: right;\n",
       "    }\n",
       "</style>\n",
       "<table border=\"1\" class=\"dataframe\">\n",
       "  <thead>\n",
       "    <tr style=\"text-align: right;\">\n",
       "      <th></th>\n",
       "      <th></th>\n",
       "      <th>rate_exp_num</th>\n",
       "      <th>rate_exp_txt</th>\n",
       "    </tr>\n",
       "    <tr>\n",
       "      <th>year</th>\n",
       "      <th>month</th>\n",
       "      <th></th>\n",
       "      <th></th>\n",
       "    </tr>\n",
       "  </thead>\n",
       "  <tbody>\n",
       "    <tr>\n",
       "      <th rowspan=\"5\" valign=\"top\">2002</th>\n",
       "      <th>3</th>\n",
       "      <td>5.000000</td>\n",
       "      <td>5.000000</td>\n",
       "    </tr>\n",
       "    <tr>\n",
       "      <th>4</th>\n",
       "      <td>5.000000</td>\n",
       "      <td>5.000000</td>\n",
       "    </tr>\n",
       "    <tr>\n",
       "      <th>5</th>\n",
       "      <td>5.000000</td>\n",
       "      <td>5.000000</td>\n",
       "    </tr>\n",
       "    <tr>\n",
       "      <th>6</th>\n",
       "      <td>5.000000</td>\n",
       "      <td>5.000000</td>\n",
       "    </tr>\n",
       "    <tr>\n",
       "      <th>7</th>\n",
       "      <td>5.000000</td>\n",
       "      <td>5.000000</td>\n",
       "    </tr>\n",
       "    <tr>\n",
       "      <th>...</th>\n",
       "      <th>...</th>\n",
       "      <td>...</td>\n",
       "      <td>...</td>\n",
       "    </tr>\n",
       "    <tr>\n",
       "      <th rowspan=\"5\" valign=\"top\">2015</th>\n",
       "      <th>8</th>\n",
       "      <td>1.560424</td>\n",
       "      <td>1.544859</td>\n",
       "    </tr>\n",
       "    <tr>\n",
       "      <th>9</th>\n",
       "      <td>1.525350</td>\n",
       "      <td>1.544859</td>\n",
       "    </tr>\n",
       "    <tr>\n",
       "      <th>10</th>\n",
       "      <td>1.552641</td>\n",
       "      <td>1.544859</td>\n",
       "    </tr>\n",
       "    <tr>\n",
       "      <th>11</th>\n",
       "      <td>1.575438</td>\n",
       "      <td>1.544859</td>\n",
       "    </tr>\n",
       "    <tr>\n",
       "      <th>12</th>\n",
       "      <td>1.581237</td>\n",
       "      <td>1.544859</td>\n",
       "    </tr>\n",
       "  </tbody>\n",
       "</table>\n",
       "<p>166 rows × 2 columns</p>\n",
       "</div>"
      ],
      "text/plain": [
       "            rate_exp_num  rate_exp_txt\n",
       "year month                            \n",
       "2002 3          5.000000      5.000000\n",
       "     4          5.000000      5.000000\n",
       "     5          5.000000      5.000000\n",
       "     6          5.000000      5.000000\n",
       "     7          5.000000      5.000000\n",
       "...                  ...           ...\n",
       "2015 8          1.560424      1.544859\n",
       "     9          1.525350      1.544859\n",
       "     10         1.552641      1.544859\n",
       "     11         1.575438      1.544859\n",
       "     12         1.581237      1.544859\n",
       "\n",
       "[166 rows x 2 columns]"
      ]
     },
     "execution_count": 62,
     "metadata": {},
     "output_type": "execute_result"
    }
   ],
   "source": [
    "time_dy = TimeFlow(dy)\n",
    "time_dy.to_csv(f'{processing_data_path}/dy_time_star.csv')\n",
    "time_dy"
   ]
  },
  {
   "cell_type": "code",
   "execution_count": 63,
   "metadata": {
    "scrolled": false
   },
   "outputs": [
    {
     "data": {
      "text/html": [
       "<div>\n",
       "<style scoped>\n",
       "    .dataframe tbody tr th:only-of-type {\n",
       "        vertical-align: middle;\n",
       "    }\n",
       "\n",
       "    .dataframe tbody tr th {\n",
       "        vertical-align: top;\n",
       "    }\n",
       "\n",
       "    .dataframe thead th {\n",
       "        text-align: right;\n",
       "    }\n",
       "</style>\n",
       "<table border=\"1\" class=\"dataframe\">\n",
       "  <thead>\n",
       "    <tr style=\"text-align: right;\">\n",
       "      <th></th>\n",
       "      <th></th>\n",
       "      <th>rate_exp_num</th>\n",
       "      <th>rate_exp_txt</th>\n",
       "    </tr>\n",
       "    <tr>\n",
       "      <th>year</th>\n",
       "      <th>month</th>\n",
       "      <th></th>\n",
       "      <th></th>\n",
       "    </tr>\n",
       "  </thead>\n",
       "  <tbody>\n",
       "    <tr>\n",
       "      <th rowspan=\"5\" valign=\"top\">2004</th>\n",
       "      <th>6</th>\n",
       "      <td>2.500000</td>\n",
       "      <td>2.500000</td>\n",
       "    </tr>\n",
       "    <tr>\n",
       "      <th>7</th>\n",
       "      <td>2.137434</td>\n",
       "      <td>2.450616</td>\n",
       "    </tr>\n",
       "    <tr>\n",
       "      <th>8</th>\n",
       "      <td>2.198276</td>\n",
       "      <td>2.450616</td>\n",
       "    </tr>\n",
       "    <tr>\n",
       "      <th>9</th>\n",
       "      <td>1.760264</td>\n",
       "      <td>3.286293</td>\n",
       "    </tr>\n",
       "    <tr>\n",
       "      <th>10</th>\n",
       "      <td>1.737963</td>\n",
       "      <td>3.286293</td>\n",
       "    </tr>\n",
       "    <tr>\n",
       "      <th>...</th>\n",
       "      <th>...</th>\n",
       "      <td>...</td>\n",
       "      <td>...</td>\n",
       "    </tr>\n",
       "    <tr>\n",
       "      <th rowspan=\"5\" valign=\"top\">2015</th>\n",
       "      <th>8</th>\n",
       "      <td>1.272251</td>\n",
       "      <td>1.345257</td>\n",
       "    </tr>\n",
       "    <tr>\n",
       "      <th>9</th>\n",
       "      <td>1.299822</td>\n",
       "      <td>1.345257</td>\n",
       "    </tr>\n",
       "    <tr>\n",
       "      <th>10</th>\n",
       "      <td>1.308364</td>\n",
       "      <td>1.345257</td>\n",
       "    </tr>\n",
       "    <tr>\n",
       "      <th>11</th>\n",
       "      <td>1.280379</td>\n",
       "      <td>1.345257</td>\n",
       "    </tr>\n",
       "    <tr>\n",
       "      <th>12</th>\n",
       "      <td>1.339884</td>\n",
       "      <td>1.345257</td>\n",
       "    </tr>\n",
       "  </tbody>\n",
       "</table>\n",
       "<p>139 rows × 2 columns</p>\n",
       "</div>"
      ],
      "text/plain": [
       "            rate_exp_num  rate_exp_txt\n",
       "year month                            \n",
       "2004 6          2.500000      2.500000\n",
       "     7          2.137434      2.450616\n",
       "     8          2.198276      2.450616\n",
       "     9          1.760264      3.286293\n",
       "     10         1.737963      3.286293\n",
       "...                  ...           ...\n",
       "2015 8          1.272251      1.345257\n",
       "     9          1.299822      1.345257\n",
       "     10         1.308364      1.345257\n",
       "     11         1.280379      1.345257\n",
       "     12         1.339884      1.345257\n",
       "\n",
       "[139 rows x 2 columns]"
      ]
     },
     "execution_count": 63,
     "metadata": {},
     "output_type": "execute_result"
    }
   ],
   "source": [
    "time_wv = TimeFlow(wv)\n",
    "time_wv.to_csv(f'{processing_data_path}/wv_time_star.csv')\n",
    "time_wv"
   ]
  },
  {
   "cell_type": "markdown",
   "metadata": {},
   "source": [
    "# Measure Combinations that Indicate Products’ Success/ Failure\n",
    "\n",
    "## Correlation of time series in corner detection"
   ]
  },
  {
   "cell_type": "code",
   "execution_count": 64,
   "metadata": {},
   "outputs": [],
   "source": [
    "date_data = pd.read_csv(f'{processing_data_path}/df_inflection.csv', index_col='index')"
   ]
  },
  {
   "cell_type": "code",
   "execution_count": 65,
   "metadata": {},
   "outputs": [
    {
     "data": {
      "text/plain": [
       "Index(['review_date', 'star_rating', 'multi', 'helpful_by_total', 'count',\n",
       "       'count_month2', 'helpful_votes', 'total_votes', 'vine', 'helpful_ratio',\n",
       "       'neg', 'neu', 'pos', 'verified_purchase', 'unhelpful_ratio',\n",
       "       'understandable', 'complexity', 'one_side', 'two_sides', 'att_neg',\n",
       "       'att_neu', 'att_pos', 'star_rating_helpful', 'plot_count'],\n",
       "      dtype='object')"
      ]
     },
     "execution_count": 65,
     "metadata": {},
     "output_type": "execute_result"
    }
   ],
   "source": [
    "date_data.columns"
   ]
  },
  {
   "cell_type": "code",
   "execution_count": 66,
   "metadata": {},
   "outputs": [],
   "source": [
    "reg_models = {\n",
    "    'linear': LinearRegression(),\n",
    "}"
   ]
  },
  {
   "cell_type": "code",
   "execution_count": 67,
   "metadata": {
    "hide_input": false,
    "scrolled": true
   },
   "outputs": [
    {
     "name": "stdout",
     "output_type": "stream",
     "text": [
      "date flow: y = \"plot_count\"\n",
      "              linear    -14.185511    0.8514\n",
      "------------------------------------------------------------\n",
      "intercept = 21.209713432792167\n",
      "[(14.553686896498393, 'pos'), (11.739850023090737, 'two_sides'), (2.5406251524182872, 'star_rating'), (1.9120583650768104, 'neg'), (0.7567745420111028, 'star_rating_helpful'), (0.0, 'att_neg'), (-1.0332830120215688, 'helpful_ratio'), (-2.3062348030090303, 'unhelpful_ratio'), (-7.098677528387136, 'att_pos'), (-7.09867752838714, 'one_side'), (-16.018811082700953, 'complexity'), (-21.375805628571285, 'understandable')]\n",
      "------------------------------------------------------------\n",
      "Feature importance:\n",
      "[(0.44941507223994526, 'two_sides'), (0.17734047244758794, 'pos'), (0.08684137619698656, 'helpful_ratio'), (0.0711450972346566, 'understandable'), (0.05575583752050009, 'complexity'), (0.04648763003689278, 'neg'), (0.04470322924529586, 'unhelpful_ratio'), (0.03248992226011986, 'star_rating'), (0.016804419907391434, 'att_pos'), (0.014382705192990421, 'star_rating_helpful'), (0.004634237717633211, 'one_side'), (0.0, 'att_neg')]\n",
      "==================================================================================================================\n"
     ]
    }
   ],
   "source": [
    "# date flow: y = \"plot_count\"\n",
    "date_data_features = ['plot_count','star_rating','helpful_ratio','neg','pos',\n",
    "                      'unhelpful_ratio','understandable','complexity', 'one_side','two_sides',\n",
    "                      'att_neg','att_pos','star_rating_helpful']\n",
    "Regression(frame=date_data, features=date_data_features, n_splits=2, words='date flow: y = \"plot_count\"')"
   ]
  },
  {
   "cell_type": "code",
   "execution_count": 68,
   "metadata": {
    "hide_input": false,
    "scrolled": false
   },
   "outputs": [
    {
     "name": "stdout",
     "output_type": "stream",
     "text": [
      "date flow: y = \"count\"\n",
      "              linear     -4.582011    0.9080\n",
      "------------------------------------------------------------\n",
      "intercept = 4.000000000000005\n",
      "[(11.999999999999998, 'two_sides'), (1.5000000000000016, 'one_side'), (1.5000000000000016, 'att_pos'), (6.6012442471936115e-15, 'star_rating_helpful'), (5.2123519515472584e-15, 'complexity'), (1.758468209060578e-15, 'helpful_ratio'), (0.0, 'att_neg'), (-1.6604406307802727e-15, 'understandable'), (-2.6197565541960573e-15, 'pos'), (-3.2870079260442425e-15, 'unhelpful_ratio'), (-7.56288005417307e-15, 'star_rating'), (-7.939737907340536e-15, 'neg')]\n",
      "------------------------------------------------------------\n",
      "Feature importance:\n",
      "[(0.6430719561308227, 'two_sides'), (0.15484143418380125, 'pos'), (0.045793246042389574, 'complexity'), (0.04078377950772097, 'neg'), (0.0339573920980101, 'understandable'), (0.0211979225348745, 'star_rating'), (0.01403853181820296, 'att_pos'), (0.013316309672416551, 'star_rating_helpful'), (0.012558516655120039, 'helpful_ratio'), (0.011580242235314555, 'one_side'), (0.008860669121326726, 'unhelpful_ratio'), (0.0, 'att_neg')]\n",
      "==================================================================================================================\n"
     ]
    }
   ],
   "source": [
    "# date flow: y = \"count\"\n",
    "date_data_features = ['count','star_rating','helpful_ratio','neg','pos',\n",
    "                      'unhelpful_ratio','understandable','complexity', 'one_side','two_sides',\n",
    "                      'att_neg','att_pos','star_rating_helpful']\n",
    "Regression(frame=date_data, features=date_data_features, n_splits=2, words='date flow: y = \"count\"')"
   ]
  },
  {
   "cell_type": "markdown",
   "metadata": {},
   "source": [
    "# Relationship Between Ratings and Review Types & Descriptors\n",
    "\n",
    "- Dive deeper into Reviews"
   ]
  },
  {
   "cell_type": "markdown",
   "metadata": {},
   "source": [
    "## Add Reviews"
   ]
  },
  {
   "cell_type": "code",
   "execution_count": 69,
   "metadata": {},
   "outputs": [],
   "source": [
    "def AddReviews(data=wv, split=False, total=None):\n",
    "    total_data = data if not split else total\n",
    "    group = pd.DataFrame(total_data.product_parent.value_counts())\n",
    "    group['review'] = np.array([['price,']*group.shape[0]]).reshape(-1, 1)\n",
    "    group.drop('product_parent', axis=1, inplace=True)\n",
    "    for i in total_data.index:\n",
    "        for j in group.index:\n",
    "            if total_data.loc[i,'product_parent'] == j:\n",
    "                group.loc[j, 'review'] += total_data.loc[i, 'review_headline']\n",
    "    return group"
   ]
  },
  {
   "cell_type": "code",
   "execution_count": 70,
   "metadata": {},
   "outputs": [],
   "source": [
    "wv_reg_review = pd.concat([wv_reg, AddReviews(data=wv)], axis=1)\n",
    "wv_reg_review.index.name = 'index'\n",
    "wv_reg_review.to_csv(f'{processing_data_path}/wv_reg_review.csv')\n",
    "\n",
    "dy_reg_review = pd.concat([dy_reg, AddReviews(data=dy)], axis=1)\n",
    "dy_reg_review.index.name = 'index'\n",
    "dy_reg_review.to_csv(f'{processing_data_path}/dy_reg_review.csv')"
   ]
  },
  {
   "cell_type": "code",
   "execution_count": 71,
   "metadata": {},
   "outputs": [],
   "source": [
    "# time exhausted\n",
    "#pc_reg = pd.concat([pc_reg, AddReviews(data=pc)], axis=1)\n",
    "#pc_reg.to_csv(f'{processing_data_path}/pc_reg.csv')\n",
    "\n",
    "# Also tired to split into several small frame, while, also exhausted\n",
    "#AddReviews(data=pc_reg.iloc[:5, :], split=True, total=pc)"
   ]
  },
  {
   "cell_type": "markdown",
   "metadata": {},
   "source": [
    "## Extract keywords from review"
   ]
  },
  {
   "cell_type": "markdown",
   "metadata": {},
   "source": [
    "Methods we used:\n",
    "- Word of Bags\n",
    "- TF-IDF\n",
    "- SpectralCoclusters"
   ]
  },
  {
   "cell_type": "code",
   "execution_count": 72,
   "metadata": {},
   "outputs": [],
   "source": [
    "def number_normalizer(tokens):\n",
    "    \"\"\" Map all numeric tokens to a placeholder.\n",
    "\n",
    "    For many applications, tokens that begin with a number are not directly\n",
    "    useful, but the fact that such a token exists can be relevant.  By applying\n",
    "    this form of dimensionality reduction, some methods may perform better.\n",
    "    \"\"\"\n",
    "    return (\"#NUMBER\" if token[0].isdigit() else token for token in tokens)"
   ]
  },
  {
   "cell_type": "code",
   "execution_count": 73,
   "metadata": {},
   "outputs": [],
   "source": [
    "class NumberNormalizingVectorizer(TfidfVectorizer):\n",
    "    def build_tokenizer(self):\n",
    "        tokenize = super().build_tokenizer()\n",
    "        return lambda doc: list(number_normalizer(tokenize(doc)))"
   ]
  },
  {
   "cell_type": "code",
   "execution_count": 74,
   "metadata": {},
   "outputs": [],
   "source": [
    "def bicluster_ncut(i, cocluster, X):\n",
    "    rows, cols = cocluster.get_indices(i)\n",
    "    if not (np.any(rows) and np.any(cols)):\n",
    "        import sys\n",
    "        return sys.float_info.max\n",
    "    row_complement = np.nonzero(np.logical_not(cocluster.rows_[i]))[0]\n",
    "    col_complement = np.nonzero(np.logical_not(cocluster.columns_[i]))[0]\n",
    "\n",
    "    weight = X[rows][:, cols].sum()\n",
    "    cut = (X[row_complement][:, cols].sum() + X[rows][:, col_complement].sum())\n",
    "    return cut / weight"
   ]
  },
  {
   "cell_type": "code",
   "execution_count": 75,
   "metadata": {},
   "outputs": [],
   "source": [
    "def most_common(d):\n",
    "    \"\"\"Items of a defaultdict(int) with the highest values.\n",
    "\n",
    "    Like Counter.most_common in Python >=2.7.\n",
    "    \"\"\"\n",
    "    return sorted(d.items(), key=operator.itemgetter(1), reverse=True)"
   ]
  },
  {
   "cell_type": "code",
   "execution_count": 76,
   "metadata": {},
   "outputs": [],
   "source": [
    "def AddTarget(frame):\n",
    "    arg = []\n",
    "    for i in range(len(frame.index)):\n",
    "        arg.append(np.argmax(frame.loc[frame.index[i], ['neg', 'pos', 'neu']]))\n",
    "\n",
    "    argframe = pd.DataFrame(arg, dtype=int)\n",
    "    argframe.index = frame.index\n",
    "    argframe.columns = ['attitude_target']\n",
    "\n",
    "    return pd.concat([frame, argframe], axis=1)"
   ]
  },
  {
   "cell_type": "code",
   "execution_count": 77,
   "metadata": {
    "scrolled": true
   },
   "outputs": [],
   "source": [
    "def ExtractKeywords(data):\n",
    "    for i in range(data.shape[0] - 1):\n",
    "        \n",
    "        newsgroups_data = list(data.review[i:i+2])\n",
    "        newsgroups_target = np.array(data.attitude_target[i:i+2], dtype=int)\n",
    "        newsgroups_target_names = ['negtive', 'neutral', 'positive']\n",
    "        y_true = newsgroups_target\n",
    "\n",
    "        vectorizer = NumberNormalizingVectorizer(stop_words='english', min_df=1, max_df=10000)\n",
    "        cocluster = SpectralCoclustering(n_clusters=3, random_state=0)\n",
    "        kmeans = MiniBatchKMeans(n_clusters=3, batch_size=20000, random_state=0)\n",
    "\n",
    "        #print(\"Vectorizing...\")\n",
    "        X = vectorizer.fit_transform(newsgroups_data)\n",
    "\n",
    "        #print(\"Coclustering...\")\n",
    "        cocluster.fit(X)\n",
    "        y_cocluster = cocluster.row_labels_\n",
    "\n",
    "        feature_names = vectorizer.get_feature_names()\n",
    "        document_names = list(newsgroups_target_names[i] for i in newsgroups_target)\n",
    "\n",
    "        bicluster_ncuts = list(bicluster_ncut(i, cocluster, X) for i in range(len(newsgroups_target_names)))\n",
    "        best_idx = np.argsort(bicluster_ncuts)[:3]\n",
    "\n",
    "        words = []\n",
    "        for idx, cluster in enumerate(best_idx):\n",
    "            n_rows, n_cols = cocluster.get_shape(cluster)\n",
    "            cluster_docs, cluster_words = cocluster.get_indices(cluster)\n",
    "            if not len(cluster_docs) or not len(cluster_words):\n",
    "                continue\n",
    "\n",
    "            # get words\n",
    "            out_of_cluster_docs = cocluster.row_labels_ != cluster\n",
    "            out_of_cluster_docs = np.where(out_of_cluster_docs)[0]\n",
    "            word_col = X[:, cluster_words]\n",
    "            word_scores = np.array(word_col[cluster_docs, :].sum(axis=0) -\n",
    "                                word_col[out_of_cluster_docs, :].sum(axis=0))\n",
    "            word_scores = word_scores.ravel()\n",
    "            important_words = list(feature_names[cluster_words[i]]\n",
    "                                for i in word_scores.argsort()[:-11:-1])\n",
    "            words.append(important_words)\n",
    "            \n",
    "        data.loc[data.index[i],'keywords'] = ','.join(words[0])\n",
    "        if i == data.shape[0] - 2:\n",
    "            data.loc[data.index[i+1],'keywords'] = ','.join(important_words)\n",
    "        \n",
    "    return data"
   ]
  },
  {
   "cell_type": "code",
   "execution_count": 78,
   "metadata": {},
   "outputs": [],
   "source": [
    "wv_reg_review = pd.read_csv(f'{processing_data_path}/wv_reg_review.csv', index_col='index')\n",
    "dy_reg_review = pd.read_csv(f'{processing_data_path}/dy_reg_review.csv', index_col='index')\n",
    "\n",
    "wv_with_keys = ExtractKeywords(AddTarget(wv_reg_review))\n",
    "dy_with_keys = ExtractKeywords(AddTarget(dy_reg_review))\n",
    "\n",
    "wv_with_keys.to_csv(f'{processing_data_path}/wv_with_keys.csv')\n",
    "dy_with_keys.to_csv(f'{processing_data_path}/dy_with_keys.csv')"
   ]
  },
  {
   "cell_type": "code",
   "execution_count": 79,
   "metadata": {},
   "outputs": [],
   "source": [
    "#pc_reg_review = pd.read_csv(f'{processing_data_path}/pc_reg.csv', index_col='index')\n",
    "#pc_with_keys = ExtractKeywords(AddTarget(pc_reg_review))\n",
    "#pc_with_keys.to_csv(f'{processing_data_path}/pc_with_keys.csv')"
   ]
  },
  {
   "cell_type": "markdown",
   "metadata": {},
   "source": [
    "## Create word clouds"
   ]
  },
  {
   "cell_type": "markdown",
   "metadata": {},
   "source": [
    "An online word cloud generator that supports more customizable content: &ensp;\n",
    "[WordItOut](http://www.yyyweb.com/demo/inner-show/word-itout.html)"
   ]
  },
  {
   "cell_type": "code",
   "execution_count": 80,
   "metadata": {
    "scrolled": false
   },
   "outputs": [],
   "source": [
    "def WordCloudPictures(data, category='wv'):\n",
    "    \n",
    "    mk = [imread(f'{word_clouds_path}/masks/{k}.jpeg') for k in range(1,17)]\n",
    "    \n",
    "    for i in range(len(data.index)):\n",
    "        wordcloud = WordCloud(mask=mk[i%16], background_color='white').generate(data.keywords[data.index[i]])\n",
    "        plt.imshow(wordcloud, interpolation='bilinear')\n",
    "        plt.axis(\"off\")\n",
    "        #plt.show()\n",
    "        plt.savefig(f'{word_clouds_path}/{category}/{category}_{i+1}.png', dpi = 200)"
   ]
  },
  {
   "cell_type": "code",
   "execution_count": 81,
   "metadata": {},
   "outputs": [
    {
     "data": {
      "image/png": "[encoded data removed]",
      "text/plain": [
       "<Figure size 432x288 with 1 Axes>"
      ]
     },
     "metadata": {
      "image/png": {
       "height": 231,
       "width": 188
      },
      "needs_background": "light"
     },
     "output_type": "display_data"
    }
   ],
   "source": [
    "WordCloudPictures(wv_with_keys, category='wv')  # 55 pieces\n",
    "#WordCloudPictures(dy_with_keys, category='dy') # 500+ pieces"
   ]
  },
  {
   "cell_type": "markdown",
   "metadata": {},
   "source": [
    "# Additional attempts"
   ]
  },
  {
   "cell_type": "markdown",
   "metadata": {},
   "source": [
    "## Word of Bag & TF-IDF -> word vector / vocabulary / feature dictionary"
   ]
  },
  {
   "cell_type": "code",
   "execution_count": 82,
   "metadata": {
    "scrolled": true
   },
   "outputs": [
    {
     "data": {
      "text/plain": [
       "(32021, 22249)"
      ]
     },
     "execution_count": 82,
     "metadata": {},
     "output_type": "execute_result"
    }
   ],
   "source": [
    "# CountVectorizer\n",
    "count_vect = CountVectorizer(stop_words=\"english\", decode_error='ignore')\n",
    "X_train_counts = count_vect.fit_transform(df.review_body)\n",
    "X_train_counts.shape"
   ]
  },
  {
   "cell_type": "code",
   "execution_count": 83,
   "metadata": {},
   "outputs": [
    {
     "data": {
      "text/plain": [
       "(18939, 16412)"
      ]
     },
     "execution_count": 83,
     "metadata": {},
     "output_type": "execute_result"
    }
   ],
   "source": [
    "# TfidfTransformer, TfidfVectorizer\n",
    "vectorizer = TfidfVectorizer()\n",
    "X_train_tf = vectorizer.fit_transform(pc.review_body)\n",
    "X_train_tf.shape"
   ]
  },
  {
   "cell_type": "code",
   "execution_count": 84,
   "metadata": {},
   "outputs": [],
   "source": [
    "vectorizer.vocabulary_.items()\n",
    "feature_dict = {v: k for k, v in vectorizer.vocabulary_.items()}\n",
    "\n",
    "X = X_train_tf.toarray()\n",
    "place = np.transpose(np.nonzero(X))"
   ]
  },
  {
   "cell_type": "markdown",
   "metadata": {},
   "source": [
    "See more informations about nltk, such as feature_dict, sentiment analysis, etc.\n",
    "\n",
    "- [nltk package](https://www.nltk.org/api/nltk.sentiment.html)\n",
    "\n",
    "- [examples of nltk sentiment](https://vimsky.com/zh-tw/examples/detail/python-method-nltk.sentiment.vader.SentimentIntensityAnalyzer.html)"
   ]
  },
  {
   "cell_type": "markdown",
   "metadata": {},
   "source": [
    "## nltk: stopwords / auto-summary"
   ]
  },
  {
   "cell_type": "code",
   "execution_count": null,
   "metadata": {},
   "outputs": [],
   "source": [
    "sentences = []\n",
    "for s in df.review_body:\n",
    "    sentences.append(sent_tokenize(s))\n",
    "\n",
    "sentences = [y for x in sentences for y in x]\n",
    "\n",
    "word_embeddings = {}\n",
    "with open('~/Downloads/glove.6B/glove.6B.100d.txt', encoding='utf-8'):\n",
    "    for line in f:\n",
    "        values = line.split()\n",
    "        word = values[0]\n",
    "        coefs = np.asarray(values[1:], dtype='float32')\n",
    "        word_embeddings[word] = coefs\n",
    "\n",
    "# remove punctuations, numbers and special characters\n",
    "clean_sentences = pd.Series(sentences).str.replace(\"[^a-zA-Z]\", \" \")\n",
    "\n",
    "# make alphabets lowercase\n",
    "clean_sentences = [s.lower() for s in clean_sentences]\n",
    "\n",
    "stop_words = stopwords.words('english')"
   ]
  }
 ],
 "metadata": {
  "kernelspec": {
   "display_name": "Python 3",
   "language": "python",
   "name": "python3"
  },
  "language_info": {
   "codemirror_mode": {
    "name": "ipython",
    "version": 3
   },
   "file_extension": ".py",
   "mimetype": "text/x-python",
   "name": "python",
   "nbconvert_exporter": "python",
   "pygments_lexer": "ipython3",
   "version": "3.8.3"
  },
  "latex_envs": {
   "LaTeX_envs_menu_present": true,
   "autoclose": false,
   "autocomplete": true,
   "bibliofile": "biblio.bib",
   "cite_by": "apalike",
   "current_citInitial": 1,
   "eqLabelWithNumbers": true,
   "eqNumInitial": 1,
   "hotkeys": {
    "equation": "Ctrl-E",
    "itemize": "Ctrl-I"
   },
   "labels_anchors": false,
   "latex_user_defs": false,
   "report_style_numbering": false,
   "user_envs_cfg": false
  },
  "toc": {
   "base_numbering": 1,
   "nav_menu": {},
   "number_sections": true,
   "sideBar": true,
   "skip_h1_title": false,
   "title_cell": "Table of Contents",
   "title_sidebar": "Contents",
   "toc_cell": true,
   "toc_position": {
    "height": "calc(100% - 180px)",
    "left": "10px",
    "top": "150px",
    "width": "299.549px"
   },
   "toc_section_display": true,
   "toc_window_display": true
  },
  "varInspector": {
   "cols": {
    "lenName": 16,
    "lenType": 16,
    "lenVar": 40
   },
   "kernels_config": {
    "python": {
     "delete_cmd_postfix": "",
     "delete_cmd_prefix": "del ",
     "library": "var_list.py",
     "varRefreshCmd": "print(var_dic_list())"
    },
    "r": {
     "delete_cmd_postfix": ") ",
     "delete_cmd_prefix": "rm(",
     "library": "var_list.r",
     "varRefreshCmd": "cat(var_dic_list()) "
    }
   },
   "types_to_exclude": [
    "module",
    "function",
    "builtin_function_or_method",
    "instance",
    "_Feature"
   ],
   "window_display": false
  }
 },
 "nbformat": 4,
 "nbformat_minor": 4
}
